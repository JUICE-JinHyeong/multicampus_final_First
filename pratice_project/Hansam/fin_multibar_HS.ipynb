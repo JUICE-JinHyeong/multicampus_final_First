{
 "cells": [
  {
   "cell_type": "markdown",
   "id": "522b8c95",
   "metadata": {},
   "source": [
    "# 군산, 목포, 통영 연도별 업종별 판매건수 시각화\n",
    "-20년, 21년 1분기 기준  \n",
    "-삼성카드의 '가맹점 기반 지역별 소비행태'를 자료로 사용"
   ]
  },
  {
   "cell_type": "code",
   "execution_count": 1,
   "id": "b7025598",
   "metadata": {},
   "outputs": [],
   "source": [
    "import pandas as pd\n",
    "import numpy as np \n",
    "import matplotlib.pyplot as plt\n",
    "import platform\n",
    "import matplotlib"
   ]
  },
  {
   "cell_type": "code",
   "execution_count": 17,
   "id": "f2d4b86b",
   "metadata": {},
   "outputs": [],
   "source": [
    "pd.set_option('display.max_rows', 10)\n"
   ]
  },
  {
   "cell_type": "code",
   "execution_count": 2,
   "id": "db268a61",
   "metadata": {},
   "outputs": [],
   "source": [
    "#한글 깨짐 방지\n",
    "if platform.system() == 'Windows':\n",
    "    matplotlib.rc('font', family='Malgun Gothic')\n",
    "elif platform.system() == 'Darwin': # Mac\n",
    "    matplotlib.rc('font', family='AppleGothic')\n",
    "else: #linux\n",
    "    matplotlib.rc('font', family='NanumGothic')"
   ]
  },
  {
   "cell_type": "code",
   "execution_count": 3,
   "id": "0d41ed5c",
   "metadata": {},
   "outputs": [],
   "source": [
    "#mokpo_data, tongyeong_data,gunsan_data 불러들이기\n",
    "gunsan_frm    = pd.read_excel('gunsan_data.xlsx', usecols = \"B:F\")\n",
    "mokpo_frm     = pd.read_excel('mokpo_data.xlsx', usecols = \"B:F\")\n",
    "tongyeong_frm = pd.read_excel('tongyeong_data.xlsx', usecols = \"B:F\")"
   ]
  },
  {
   "cell_type": "code",
   "execution_count": 4,
   "id": "af1dd98d",
   "metadata": {},
   "outputs": [
    {
     "data": {
      "text/html": [
       "<div>\n",
       "<style scoped>\n",
       "    .dataframe tbody tr th:only-of-type {\n",
       "        vertical-align: middle;\n",
       "    }\n",
       "\n",
       "    .dataframe tbody tr th {\n",
       "        vertical-align: top;\n",
       "    }\n",
       "\n",
       "    .dataframe thead th {\n",
       "        text-align: right;\n",
       "    }\n",
       "</style>\n",
       "<table border=\"1\" class=\"dataframe\">\n",
       "  <thead>\n",
       "    <tr style=\"text-align: right;\">\n",
       "      <th></th>\n",
       "      <th>Date</th>\n",
       "      <th>Si</th>\n",
       "      <th>Dong</th>\n",
       "      <th>Shop</th>\n",
       "      <th>cnt</th>\n",
       "    </tr>\n",
       "  </thead>\n",
       "  <tbody>\n",
       "    <tr>\n",
       "      <th>0</th>\n",
       "      <td>202001</td>\n",
       "      <td>군산시</td>\n",
       "      <td>경장동</td>\n",
       "      <td>취미</td>\n",
       "      <td>70</td>\n",
       "    </tr>\n",
       "    <tr>\n",
       "      <th>1</th>\n",
       "      <td>202003</td>\n",
       "      <td>군산시</td>\n",
       "      <td>조촌동</td>\n",
       "      <td>아울렛</td>\n",
       "      <td>3643</td>\n",
       "    </tr>\n",
       "    <tr>\n",
       "      <th>2</th>\n",
       "      <td>202101</td>\n",
       "      <td>군산시</td>\n",
       "      <td>조촌동</td>\n",
       "      <td>서적</td>\n",
       "      <td>17</td>\n",
       "    </tr>\n",
       "    <tr>\n",
       "      <th>3</th>\n",
       "      <td>202101</td>\n",
       "      <td>군산시</td>\n",
       "      <td>문화동</td>\n",
       "      <td>마트/할인점</td>\n",
       "      <td>389</td>\n",
       "    </tr>\n",
       "    <tr>\n",
       "      <th>4</th>\n",
       "      <td>202101</td>\n",
       "      <td>군산시</td>\n",
       "      <td>경암동</td>\n",
       "      <td>차량관리</td>\n",
       "      <td>42</td>\n",
       "    </tr>\n",
       "    <tr>\n",
       "      <th>...</th>\n",
       "      <td>...</td>\n",
       "      <td>...</td>\n",
       "      <td>...</td>\n",
       "      <td>...</td>\n",
       "      <td>...</td>\n",
       "    </tr>\n",
       "    <tr>\n",
       "      <th>3546</th>\n",
       "      <td>202003</td>\n",
       "      <td>군산시</td>\n",
       "      <td>나운동</td>\n",
       "      <td>관람</td>\n",
       "      <td>49</td>\n",
       "    </tr>\n",
       "    <tr>\n",
       "      <th>3547</th>\n",
       "      <td>202101</td>\n",
       "      <td>군산시</td>\n",
       "      <td>미룡동</td>\n",
       "      <td>문구사무용품</td>\n",
       "      <td>45</td>\n",
       "    </tr>\n",
       "    <tr>\n",
       "      <th>3548</th>\n",
       "      <td>202102</td>\n",
       "      <td>군산시</td>\n",
       "      <td>문화동</td>\n",
       "      <td>의류</td>\n",
       "      <td>11</td>\n",
       "    </tr>\n",
       "    <tr>\n",
       "      <th>3549</th>\n",
       "      <td>202101</td>\n",
       "      <td>군산시</td>\n",
       "      <td>지경리</td>\n",
       "      <td>음식점</td>\n",
       "      <td>157</td>\n",
       "    </tr>\n",
       "    <tr>\n",
       "      <th>3550</th>\n",
       "      <td>202103</td>\n",
       "      <td>군산시</td>\n",
       "      <td>도암리</td>\n",
       "      <td>편의점</td>\n",
       "      <td>110</td>\n",
       "    </tr>\n",
       "  </tbody>\n",
       "</table>\n",
       "<p>3551 rows × 5 columns</p>\n",
       "</div>"
      ],
      "text/plain": [
       "        Date   Si Dong    Shop   cnt\n",
       "0     202001  군산시  경장동      취미    70\n",
       "1     202003  군산시  조촌동     아울렛  3643\n",
       "2     202101  군산시  조촌동      서적    17\n",
       "3     202101  군산시  문화동  마트/할인점   389\n",
       "4     202101  군산시  경암동    차량관리    42\n",
       "...      ...  ...  ...     ...   ...\n",
       "3546  202003  군산시  나운동      관람    49\n",
       "3547  202101  군산시  미룡동  문구사무용품    45\n",
       "3548  202102  군산시  문화동      의류    11\n",
       "3549  202101  군산시  지경리     음식점   157\n",
       "3550  202103  군산시  도암리     편의점   110\n",
       "\n",
       "[3551 rows x 5 columns]"
      ]
     },
     "execution_count": 4,
     "metadata": {},
     "output_type": "execute_result"
    }
   ],
   "source": [
    "gunsan_frm"
   ]
  },
  {
   "cell_type": "markdown",
   "id": "2a903220",
   "metadata": {},
   "source": [
    "### 1. 각 지역별, 연도별 1분기 분리 및 도시별 병합\n",
    "-str.contains 활용 위해 Date컬럼 str타입으로 수정    \n",
    "-결과 연도별, 지역별 1분기 데이터프레임 생성  "
   ]
  },
  {
   "cell_type": "code",
   "execution_count": 5,
   "id": "f542d637",
   "metadata": {},
   "outputs": [],
   "source": [
    "# 같은 2020, 2021년도로 묶기 위해 str함수 활용 가능하도록 astype(str)사용\n",
    "# 기존 Date는 int타입\n",
    "gunsan_frm['Date'] = gunsan_frm['Date'].astype('str')\n",
    "mokpo_frm['Date'] = gunsan_frm['Date'].astype('str')\n",
    "tongyeong_frm['Date'] = gunsan_frm['Date'].astype('str')"
   ]
  },
  {
   "cell_type": "code",
   "execution_count": 6,
   "id": "667b1625",
   "metadata": {},
   "outputs": [],
   "source": [
    "#군산, 목포, 통영 2020년 값 추출\n",
    "gs20 = gunsan_frm[gunsan_frm['Date'].str.contains('2020')]\n",
    "mp20 = mokpo_frm[mokpo_frm['Date'].str.contains('2020')]\n",
    "ty20 = tongyeong_frm[tongyeong_frm['Date'].str.contains('2020')]\n",
    "\n",
    "#군산, 목포, 통영 2021년 값 추출\n",
    "gs21 = gunsan_frm[gunsan_frm['Date'].str.contains('2021')]\n",
    "mp21 = mokpo_frm[mokpo_frm['Date'].str.contains('2021')]\n",
    "ty21 = tongyeong_frm[tongyeong_frm['Date'].str.contains('2021')]"
   ]
  },
  {
   "cell_type": "markdown",
   "id": "7492af73",
   "metadata": {},
   "source": [
    "### 2 연도별로 업종별 CNT합 추출  \n",
    "-groupby 통해 각 연도별, 지역별 데이터에서 업종별 cnt(판매건수)의 합을 추출"
   ]
  },
  {
   "cell_type": "code",
   "execution_count": 7,
   "id": "22fb1c52",
   "metadata": {
    "scrolled": true
   },
   "outputs": [],
   "source": [
    "#군산 20년,21년 업종별 CNT합\n",
    "gs20_cnt = gs20.groupby(\"Shop\").sum()\n",
    "gs21_cnt = gs21.groupby(\"Shop\")[['cnt']].sum()\n",
    "\n",
    "#목포 20년,21년 업종별 CNT합\n",
    "mp20_cnt = mp20.groupby(\"Shop\")[['cnt']].sum()\n",
    "mp21_cnt = mp21.groupby(\"Shop\")[['cnt']].sum()\n",
    "\n",
    "#통영 20년,21년 업종별 CNT합\n",
    "ty20_cnt = ty20.groupby(\"Shop\")[['cnt']].sum()\n",
    "ty21_cnt = ty21.groupby(\"Shop\")[['cnt']].sum()\n",
    "#[['cnt']] = 바로 데이터프레임"
   ]
  },
  {
   "cell_type": "markdown",
   "id": "d25eff8e",
   "metadata": {},
   "source": [
    "### 3. 세 도시를 연도별로 병합 후 각각 컬럼명을 도시 명으로 변경\n",
    "1. concat으로 군산, 목포, 통영 세 지역의 20년, 21년 데이터프레임을 생성\n",
    "2. 컬럼명을 지역명으로 수정"
   ]
  },
  {
   "cell_type": "code",
   "execution_count": 8,
   "id": "1bac1d7c",
   "metadata": {},
   "outputs": [],
   "source": [
    "#20년 3도시 데이터프레임 합치기\n",
    "city20 = pd.concat([gs20_cnt,mp20_cnt,ty20_cnt],axis=1)\n",
    "\n",
    "#21년 3도시 데이터프레임 합치기\n",
    "city21 = pd.concat([gs21_cnt,mp21_cnt,ty21_cnt],axis=1)"
   ]
  },
  {
   "cell_type": "code",
   "execution_count": 9,
   "id": "6e560f85",
   "metadata": {},
   "outputs": [],
   "source": [
    "#20년 데이터프레임 컬럼명 도시명으로 수정\n",
    "city20.columns =['군산','목포','통영']\n",
    "\n",
    "#21년 데이터프레임 컬럼명 도시명으로 수정\n",
    "city21.columns =['군산','목포','통영']"
   ]
  },
  {
   "cell_type": "markdown",
   "id": "723afddf",
   "metadata": {},
   "source": [
    "### 4. 시각화"
   ]
  },
  {
   "cell_type": "code",
   "execution_count": 10,
   "id": "ea32d57a",
   "metadata": {},
   "outputs": [],
   "source": [
    "# 시각화 용이성을 위해 Shop을 컬럼으로 욺김\n",
    "city20 = city20.reset_index()\n",
    "city21 = city21.reset_index()"
   ]
  },
  {
   "cell_type": "markdown",
   "id": "e21f2d37",
   "metadata": {},
   "source": [
    "#### 4.1 20년 시각화"
   ]
  },
  {
   "cell_type": "code",
   "execution_count": 13,
   "id": "eae900a1",
   "metadata": {
    "collapsed": true
   },
   "outputs": [
    {
     "data": {
      "image/png": "[encoded data removed]",
      "text/plain": [
       "<Figure size 1440x576 with 1 Axes>"
      ]
     },
     "metadata": {
      "needs_background": "light"
     },
     "output_type": "display_data"
    }
   ],
   "source": [
    "#행의 갯수\n",
    "N =city20.shape[0]\n",
    "\n",
    "#행의 갯수 리스트로\n",
    "index = np.arange(N)\n",
    "\n",
    "\n",
    "#그래프 크기 조절\n",
    "plt.figure(figsize =(20,8))\n",
    "\n",
    "#타이틀, x축, y축 이름달기\n",
    "plt.title('2020년 업종별 매출건수', color='black')\n",
    "plt.xlabel('')\n",
    "plt.ylabel('매출건수')\n",
    "\n",
    "#그래프 막대 위치, 내용, 굵기 설정\n",
    "w = 0.25\n",
    "plt.bar(index - w, city20['군산'], width = w)\n",
    "plt.bar(index,     city20['목포'], width = w)\n",
    "plt.bar(index + w, city20['통영'], width = w)\n",
    "\n",
    "#x축값 이름 shop으로 설정, 글 회전\n",
    "plt.xticks(index, city20['Shop'], rotation = 45, fontsize = 8)\n",
    "\n",
    "#범례\n",
    "plt.legend(['군산','목포','통영'], fontsize = 10)\n",
    "\n",
    "#png 저장\n",
    "plt.savefig('samsung2020.png')"
   ]
  },
  {
   "cell_type": "markdown",
   "id": "0a178c0b",
   "metadata": {},
   "source": [
    "#### 4.2 21년 시각화"
   ]
  },
  {
   "cell_type": "code",
   "execution_count": 14,
   "id": "4eae1570",
   "metadata": {
    "collapsed": true
   },
   "outputs": [
    {
     "data": {
      "image/png": "[encoded data removed]",
      "text/plain": [
       "<Figure size 1440x576 with 1 Axes>"
      ]
     },
     "metadata": {
      "needs_background": "light"
     },
     "output_type": "display_data"
    }
   ],
   "source": [
    "#행의 갯수\n",
    "N2 =city21.shape[0]\n",
    "\n",
    "#행의 갯수 리스트로\n",
    "index2 = np.arange(N2)\n",
    "\n",
    "\n",
    "#그래프 크기 조절\n",
    "plt.figure(figsize =(20,8))\n",
    "\n",
    "##타이틀, x축, y축 이름달기\n",
    "plt.title('2021년 업종별 매출건수', color='black')\n",
    "plt.xlabel('')\n",
    "plt.ylabel('매출건수')\n",
    "\n",
    "#그래프 막대 위치, 내용, 굵기 설정\n",
    "w = 0.25\n",
    "plt.bar(index2 - w, city21['군산'], width = w)\n",
    "plt.bar(index2,     city21['목포'], width = w)\n",
    "plt.bar(index2 + w, city21['통영'], width = w)\n",
    "\n",
    "#x축값 이름 shop으로 설정, 글 회전\n",
    "plt.xticks(index2, city21['Shop'], rotation = 45,fontsize = 8)\n",
    "\n",
    "#범례\n",
    "plt.legend(['군산','목포','통영'], fontsize = 10)\n",
    "\n",
    "#png 저장\n",
    "plt.savefig('samsung2021.png')"
   ]
  },
  {
   "cell_type": "code",
   "execution_count": 18,
   "id": "bced5beb",
   "metadata": {
    "collapsed": true
   },
   "outputs": [
    {
     "data": {
      "text/html": [
       "<div>\n",
       "<style scoped>\n",
       "    .dataframe tbody tr th:only-of-type {\n",
       "        vertical-align: middle;\n",
       "    }\n",
       "\n",
       "    .dataframe tbody tr th {\n",
       "        vertical-align: top;\n",
       "    }\n",
       "\n",
       "    .dataframe thead th {\n",
       "        text-align: right;\n",
       "    }\n",
       "</style>\n",
       "<table border=\"1\" class=\"dataframe\">\n",
       "  <thead>\n",
       "    <tr style=\"text-align: right;\">\n",
       "      <th></th>\n",
       "      <th>Shop</th>\n",
       "      <th>군산</th>\n",
       "      <th>목포</th>\n",
       "      <th>통영</th>\n",
       "    </tr>\n",
       "  </thead>\n",
       "  <tbody>\n",
       "    <tr>\n",
       "      <th>0</th>\n",
       "      <td>가전</td>\n",
       "      <td>3602.0</td>\n",
       "      <td>2450.0</td>\n",
       "      <td>2193.0</td>\n",
       "    </tr>\n",
       "    <tr>\n",
       "      <th>1</th>\n",
       "      <td>건강보조</td>\n",
       "      <td>31787.0</td>\n",
       "      <td>28960.0</td>\n",
       "      <td>10149.0</td>\n",
       "    </tr>\n",
       "    <tr>\n",
       "      <th>2</th>\n",
       "      <td>골프장</td>\n",
       "      <td>1674.0</td>\n",
       "      <td>771.0</td>\n",
       "      <td>383.0</td>\n",
       "    </tr>\n",
       "    <tr>\n",
       "      <th>3</th>\n",
       "      <td>공과금</td>\n",
       "      <td>938.0</td>\n",
       "      <td>125.0</td>\n",
       "      <td>37.0</td>\n",
       "    </tr>\n",
       "    <tr>\n",
       "      <th>4</th>\n",
       "      <td>관람</td>\n",
       "      <td>1710.0</td>\n",
       "      <td>574.0</td>\n",
       "      <td>482.0</td>\n",
       "    </tr>\n",
       "    <tr>\n",
       "      <th>...</th>\n",
       "      <td>...</td>\n",
       "      <td>...</td>\n",
       "      <td>...</td>\n",
       "      <td>...</td>\n",
       "    </tr>\n",
       "    <tr>\n",
       "      <th>37</th>\n",
       "      <td>가례</td>\n",
       "      <td>NaN</td>\n",
       "      <td>42.0</td>\n",
       "      <td>57.0</td>\n",
       "    </tr>\n",
       "    <tr>\n",
       "      <th>38</th>\n",
       "      <td>놀이공원</td>\n",
       "      <td>NaN</td>\n",
       "      <td>53.0</td>\n",
       "      <td>304.0</td>\n",
       "    </tr>\n",
       "    <tr>\n",
       "      <th>39</th>\n",
       "      <td>대중교통</td>\n",
       "      <td>NaN</td>\n",
       "      <td>170.0</td>\n",
       "      <td>NaN</td>\n",
       "    </tr>\n",
       "    <tr>\n",
       "      <th>40</th>\n",
       "      <td>여행상품</td>\n",
       "      <td>NaN</td>\n",
       "      <td>10.0</td>\n",
       "      <td>NaN</td>\n",
       "    </tr>\n",
       "    <tr>\n",
       "      <th>41</th>\n",
       "      <td>온라인쇼핑</td>\n",
       "      <td>NaN</td>\n",
       "      <td>1313.0</td>\n",
       "      <td>NaN</td>\n",
       "    </tr>\n",
       "  </tbody>\n",
       "</table>\n",
       "<p>42 rows × 4 columns</p>\n",
       "</div>"
      ],
      "text/plain": [
       "     Shop       군산       목포       통영\n",
       "0      가전   3602.0   2450.0   2193.0\n",
       "1    건강보조  31787.0  28960.0  10149.0\n",
       "2     골프장   1674.0    771.0    383.0\n",
       "3     공과금    938.0    125.0     37.0\n",
       "4      관람   1710.0    574.0    482.0\n",
       "..    ...      ...      ...      ...\n",
       "37     가례      NaN     42.0     57.0\n",
       "38   놀이공원      NaN     53.0    304.0\n",
       "39   대중교통      NaN    170.0      NaN\n",
       "40   여행상품      NaN     10.0      NaN\n",
       "41  온라인쇼핑      NaN   1313.0      NaN\n",
       "\n",
       "[42 rows x 4 columns]"
      ]
     },
     "execution_count": 18,
     "metadata": {},
     "output_type": "execute_result"
    }
   ],
   "source": [
    "city20"
   ]
  },
  {
   "cell_type": "code",
   "execution_count": 19,
   "id": "4949f4b6",
   "metadata": {
    "collapsed": true
   },
   "outputs": [
    {
     "data": {
      "text/html": [
       "<div>\n",
       "<style scoped>\n",
       "    .dataframe tbody tr th:only-of-type {\n",
       "        vertical-align: middle;\n",
       "    }\n",
       "\n",
       "    .dataframe tbody tr th {\n",
       "        vertical-align: top;\n",
       "    }\n",
       "\n",
       "    .dataframe thead th {\n",
       "        text-align: right;\n",
       "    }\n",
       "</style>\n",
       "<table border=\"1\" class=\"dataframe\">\n",
       "  <thead>\n",
       "    <tr style=\"text-align: right;\">\n",
       "      <th></th>\n",
       "      <th>Shop</th>\n",
       "      <th>군산</th>\n",
       "      <th>목포</th>\n",
       "      <th>통영</th>\n",
       "    </tr>\n",
       "  </thead>\n",
       "  <tbody>\n",
       "    <tr>\n",
       "      <th>0</th>\n",
       "      <td>가전</td>\n",
       "      <td>6029.0</td>\n",
       "      <td>4409.0</td>\n",
       "      <td>1135.0</td>\n",
       "    </tr>\n",
       "    <tr>\n",
       "      <th>1</th>\n",
       "      <td>건강보조</td>\n",
       "      <td>24534.0</td>\n",
       "      <td>32234.0</td>\n",
       "      <td>17697.0</td>\n",
       "    </tr>\n",
       "    <tr>\n",
       "      <th>2</th>\n",
       "      <td>골프장</td>\n",
       "      <td>2006.0</td>\n",
       "      <td>1266.0</td>\n",
       "      <td>458.0</td>\n",
       "    </tr>\n",
       "    <tr>\n",
       "      <th>3</th>\n",
       "      <td>공과금</td>\n",
       "      <td>531.0</td>\n",
       "      <td>81.0</td>\n",
       "      <td>45.0</td>\n",
       "    </tr>\n",
       "    <tr>\n",
       "      <th>4</th>\n",
       "      <td>관람</td>\n",
       "      <td>434.0</td>\n",
       "      <td>801.0</td>\n",
       "      <td>438.0</td>\n",
       "    </tr>\n",
       "    <tr>\n",
       "      <th>...</th>\n",
       "      <td>...</td>\n",
       "      <td>...</td>\n",
       "      <td>...</td>\n",
       "      <td>...</td>\n",
       "    </tr>\n",
       "    <tr>\n",
       "      <th>36</th>\n",
       "      <td>화장품</td>\n",
       "      <td>5910.0</td>\n",
       "      <td>4241.0</td>\n",
       "      <td>1401.0</td>\n",
       "    </tr>\n",
       "    <tr>\n",
       "      <th>37</th>\n",
       "      <td>가례</td>\n",
       "      <td>NaN</td>\n",
       "      <td>76.0</td>\n",
       "      <td>52.0</td>\n",
       "    </tr>\n",
       "    <tr>\n",
       "      <th>38</th>\n",
       "      <td>대중교통</td>\n",
       "      <td>NaN</td>\n",
       "      <td>98.0</td>\n",
       "      <td>NaN</td>\n",
       "    </tr>\n",
       "    <tr>\n",
       "      <th>39</th>\n",
       "      <td>온라인쇼핑</td>\n",
       "      <td>NaN</td>\n",
       "      <td>394.0</td>\n",
       "      <td>NaN</td>\n",
       "    </tr>\n",
       "    <tr>\n",
       "      <th>40</th>\n",
       "      <td>놀이공원</td>\n",
       "      <td>NaN</td>\n",
       "      <td>NaN</td>\n",
       "      <td>469.0</td>\n",
       "    </tr>\n",
       "  </tbody>\n",
       "</table>\n",
       "<p>41 rows × 4 columns</p>\n",
       "</div>"
      ],
      "text/plain": [
       "     Shop       군산       목포       통영\n",
       "0      가전   6029.0   4409.0   1135.0\n",
       "1    건강보조  24534.0  32234.0  17697.0\n",
       "2     골프장   2006.0   1266.0    458.0\n",
       "3     공과금    531.0     81.0     45.0\n",
       "4      관람    434.0    801.0    438.0\n",
       "..    ...      ...      ...      ...\n",
       "36    화장품   5910.0   4241.0   1401.0\n",
       "37     가례      NaN     76.0     52.0\n",
       "38   대중교통      NaN     98.0      NaN\n",
       "39  온라인쇼핑      NaN    394.0      NaN\n",
       "40   놀이공원      NaN      NaN    469.0\n",
       "\n",
       "[41 rows x 4 columns]"
      ]
     },
     "execution_count": 19,
     "metadata": {},
     "output_type": "execute_result"
    }
   ],
   "source": [
    "city21"
   ]
  },
  {
   "cell_type": "code",
   "execution_count": null,
   "id": "bd5cf805",
   "metadata": {},
   "outputs": [],
   "source": [
    "c\n"
   ]
  }
 ],
 "metadata": {
  "kernelspec": {
   "display_name": "Python 3 (ipykernel)",
   "language": "python",
   "name": "python3"
  },
  "language_info": {
   "codemirror_mode": {
    "name": "ipython",
    "version": 3
   },
   "file_extension": ".py",
   "mimetype": "text/x-python",
   "name": "python",
   "nbconvert_exporter": "python",
   "pygments_lexer": "ipython3",
   "version": "3.9.12"
  }
 },
 "nbformat": 4,
 "nbformat_minor": 5
}
