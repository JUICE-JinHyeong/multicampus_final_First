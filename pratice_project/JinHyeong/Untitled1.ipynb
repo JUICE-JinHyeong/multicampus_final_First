{
 "cells": [
  {
   "cell_type": "markdown",
   "id": "2b5898a3",
   "metadata": {},
   "source": [
    "# 군산, 목포, 통영 연도별 업종별 판매건수 시각화\n",
    "-20년, 21년 1분기 기준  \n",
    "-삼성카드의 '가맹점 기반 지역별 소비행태'를 자료로 사용"
   ]
  },
  {
   "cell_type": "markdown",
   "id": "b6b3d59a",
   "metadata": {},
   "source": [
    "### 1. 각 지역별, 연도별 1분기 분리 및 도시별 병합\n",
    "-str.contains 활용 위해 Date컬럼 str타입으로 수정    \n",
    "-결과 연도별, 지역별 1분기 데이터프레임 생성\n",
    "\n",
    "### 2 연도별로 업종별 CNT합 추출  \n",
    "-groupby 통해 각 연도별, 지역별 데이터에서 업종별 cnt(판매건수)의 합을 추출\n",
    "\n",
    "### 3. 세 도시를 연도별로 병합 후 각각 컬럼명을 도시 명으로 변경\n",
    "1. concat으로 군산, 목포, 통영 세 지역의 20년, 21년 데이터프레임을 생성\n",
    "2. 컬럼명을 지역명으로 수정\n",
    "\n",
    "### 4. 시각화"
   ]
  },
  {
   "cell_type": "code",
   "execution_count": null,
   "id": "d0ebacf5",
   "metadata": {},
   "outputs": [],
   "source": []
  },
  {
   "cell_type": "code",
   "execution_count": null,
   "id": "ac430854",
   "metadata": {},
   "outputs": [],
   "source": []
  },
  {
   "cell_type": "code",
   "execution_count": null,
   "id": "c1cd236b",
   "metadata": {},
   "outputs": [],
   "source": []
  },
  {
   "cell_type": "code",
   "execution_count": null,
   "id": "7ddb26d7",
   "metadata": {},
   "outputs": [],
   "source": []
  },
  {
   "cell_type": "code",
   "execution_count": null,
   "id": "b357742c",
   "metadata": {},
   "outputs": [],
   "source": []
  },
  {
   "cell_type": "code",
   "execution_count": null,
   "id": "00a884fb",
   "metadata": {},
   "outputs": [],
   "source": []
  },
  {
   "cell_type": "code",
   "execution_count": null,
   "id": "e10f0838",
   "metadata": {},
   "outputs": [],
   "source": []
  }
 ],
 "metadata": {
  "kernelspec": {
   "display_name": "Python 3 (ipykernel)",
   "language": "python",
   "name": "python3"
  },
  "language_info": {
   "codemirror_mode": {
    "name": "ipython",
    "version": 3
   },
   "file_extension": ".py",
   "mimetype": "text/x-python",
   "name": "python",
   "nbconvert_exporter": "python",
   "pygments_lexer": "ipython3",
   "version": "3.9.12"
  }
 },
 "nbformat": 4,
 "nbformat_minor": 5
}
