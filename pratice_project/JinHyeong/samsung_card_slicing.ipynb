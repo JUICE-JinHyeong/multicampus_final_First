{
 "cells": [
  {
   "cell_type": "code",
   "execution_count": 146,
   "id": "02b19c08",
   "metadata": {},
   "outputs": [],
   "source": [
    "import pandas as pd\n",
    "import numpy as np\n",
    "\n",
    "# 불러올 csv excel json 파일을 현재 주피터 파일 위치에 넣어둘 경우 , 파일명만 입력해도 불러올 수 있다.\n",
    "\n",
    "data = pd.read_excel('(삼성카드)가맹점 기반 지역별 소비행태.xlsx' \n",
    "             , usecols = \"A,C,E,F\" , names = ['Date' , 'Si' , 'Shop' , 'cnt'])\n",
    "gender_age = pd.read_excel('(삼성카드)가맹점 기반 지역별 소비행태.xlsx' \n",
    "             , usecols = \"G:P\")\n",
    "day_of_weekend = pd.read_excel('(삼성카드)가맹점 기반 지역별 소비행태.xlsx' \n",
    "             , usecols = \"Q:Y\")"
   ]
  },
  {
   "cell_type": "code",
   "execution_count": 161,
   "id": "8953de6d",
   "metadata": {},
   "outputs": [],
   "source": [
    "# area = 목포시 , 통영시 , 군산시\n",
    "# name = mokpo , tongyeong , gunsan\n",
    "# globals() - 전역변수 선언 [변수 이름 선언 - format을 사용하여 입력값을 변수 이름으로 선언]\n",
    "\n",
    "def slicing (area : str , name : str) :\n",
    "    # data를 카피하여 전역변수에 저장\n",
    "    globals()[f'{name}_data'] = data.copy()\n",
    "    \n",
    "    # df 생성 알림\n",
    "    print(f'{name}_data 가 생성되었습니다.')\n",
    "    \n",
    "    # 칼럼 을 2번 자리에 넣기위해 insert 칼럼 추가 함수 사용\n",
    "    # 추가할 칼럼은 Dong이 담긴 데이터 . Dong 데이터는 split으로 분할하여 구한다.\n",
    "    globals()[f'{name}_data'].insert(2 , 'Dong' , globals()[f'{name}_data']['Si'].str.split(' ' , expand = True)[2])\n",
    "    # Si에는 area 즉 목포시 군산시 통영시 중 입력한 하나의 값이 들어간다.\n",
    "    globals()[f'{name}_data']['Si'] = area\n",
    "    # index 슬라이싱을 위해 시별로 분리한 데이터의 index를 구하여 리스트로 변환\n",
    "    globals()[f'{name}_indx'] = globals()[f'{name}_data'].query('Si.str.contains(@area)').index.to_list()\n",
    "    # 이후 기본 data가 담긴 전역변수는 인덱스 리셋\n",
    "    globals()[f'{name}_data'] = globals()[f'{name}_data'].query('Si.str.contains(@area)').reset_index(drop = True)\n",
    "    # 슬라이싱된 성 연령별 데이터 새로운 전역변수에 저장\n",
    "    globals()[f'{name}_gender_age']     = gender_age.loc[globals()[f'{name}_indx']].reset_index(drop = True)\n",
    "    # 슬라이싱된 요일 휴일 평일 데이터 새로운 전역변수에 저장\n",
    "    globals()[f'{name}_day_of_weekend'] = day_of_weekend.loc[globals()[f'{name}_indx']].reset_index(drop = True)\n",
    "    \n",
    "    # 위의 저장된 기본 data와 성 연령별 데이터를 concat으로 결합 이후 새로운 전역변수에 저장\n",
    "    globals()[f'{name}_gender_age_frm'] = pd.concat([globals()[f'{name}_data'] , globals()[f'{name}_gender_age']] , axis = 1)\n",
    "    # 위의 저장된 기본 data와 요일 휴일 평일 데이터를 concat으로 결합 이후 새로운 전역변수에 저장\n",
    "    globals()[f'{name}_day_of_weekend_frm'] = pd.concat([globals()[f'{name}_data'] , globals()[f'{name}_day_of_weekend']] , axis = 1)\n",
    "    \n",
    "    # df 생성 알림\n",
    "    print(f'{name}_gender_age_frm 가 생성되었습니다.')\n",
    "    print(f'{name}_day_of_weekend_frm 가 생성되었습니다.')\n",
    "    "
   ]
  },
  {
   "cell_type": "code",
   "execution_count": 164,
   "id": "a96b10d1",
   "metadata": {
    "scrolled": true
   },
   "outputs": [
    {
     "name": "stdout",
     "output_type": "stream",
     "text": [
      "mokpo_data 가 생성되었습니다.\n",
      "mokpo_gender_age_frm 가 생성되었습니다.\n",
      "mokpo_day_of_weekend_frm 가 생성되었습니다.\n",
      "\n",
      "tongyeong_data 가 생성되었습니다.\n",
      "tongyeong_gender_age_frm 가 생성되었습니다.\n",
      "tongyeong_day_of_weekend_frm 가 생성되었습니다.\n",
      "\n",
      "gunsan_data 가 생성되었습니다.\n",
      "gunsan_gender_age_frm 가 생성되었습니다.\n",
      "gunsan_day_of_weekend_frm 가 생성되었습니다.\n"
     ]
    }
   ],
   "source": [
    "slicing('목포시' , 'mokpo')\n",
    "print()\n",
    "slicing('통영시' , 'tongyeong')\n",
    "print()\n",
    "slicing('군산시' , 'gunsan')"
   ]
  }
 ],
 "metadata": {
  "kernelspec": {
   "display_name": "Python 3 (ipykernel)",
   "language": "python",
   "name": "python3"
  },
  "language_info": {
   "codemirror_mode": {
    "name": "ipython",
    "version": 3
   },
   "file_extension": ".py",
   "mimetype": "text/x-python",
   "name": "python",
   "nbconvert_exporter": "python",
   "pygments_lexer": "ipython3",
   "version": "3.9.13"
  }
 },
 "nbformat": 4,
 "nbformat_minor": 5
}
