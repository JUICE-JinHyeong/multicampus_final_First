{
 "cells": [
  {
   "cell_type": "code",
   "execution_count": 1,
   "id": "da3d817d",
   "metadata": {},
   "outputs": [],
   "source": [
    "import pandas as pd"
   ]
  },
  {
   "cell_type": "markdown",
   "id": "f00c1774",
   "metadata": {},
   "source": [
    "### 5천개씩 가져올 음료 목록  \n",
    "코카콜라 제로(CocacolaZ)  \n",
    "스프라이트 제로(SpriteZ)  \n",
    "펩시콜라 제로(PepsiColaZ)  \n",
    "씨그램(Seagram)  \n",
    "트레비(Trevi)  \n",
    "-네이버 브랜드숍 5000  \n",
    "-다나와 5000   "
   ]
  },
  {
   "cell_type": "code",
   "execution_count": 2,
   "id": "b97ccf07",
   "metadata": {},
   "outputs": [],
   "source": [
    "#엑셀 5천개씩 로드, 헤더 review\n",
    "df0 = pd.read_excel(\"C:/Users/ohans/Desktop/multicampus/big data/class/project/final project/cider/crawling/excel/Trevi_10000_NaverBrandshop_crawling.xlsx\",\n",
    "                   nrows = 5000,\n",
    "                   names=[\"review\"])\n",
    "\n",
    "df1 = pd.read_excel(\"C:/Users/ohans/Desktop/multicampus/big data/class/project/final project/cider/crawling/excel/Trevi_10000_Danawa_crawling.xlsx\",\n",
    "                   nrows = 5000,\n",
    "                   names=[\"review\"])"
   ]
  },
  {
   "cell_type": "code",
   "execution_count": 3,
   "id": "af3d43b0",
   "metadata": {},
   "outputs": [],
   "source": [
    "#데이터프레임 생성\n",
    "Trevi_df = pd.DataFrame()"
   ]
  },
  {
   "cell_type": "code",
   "execution_count": 4,
   "id": "00f57bf7",
   "metadata": {},
   "outputs": [
    {
     "name": "stderr",
     "output_type": "stream",
     "text": [
      "C:\\Users\\ohans\\AppData\\Local\\Temp\\ipykernel_19008\\2577401150.py:2: FutureWarning: The frame.append method is deprecated and will be removed from pandas in a future version. Use pandas.concat instead.\n",
      "  Trevi_df = Trevi_df.append(df0)\n",
      "C:\\Users\\ohans\\AppData\\Local\\Temp\\ipykernel_19008\\2577401150.py:3: FutureWarning: The frame.append method is deprecated and will be removed from pandas in a future version. Use pandas.concat instead.\n",
      "  Trevi_df = Trevi_df.append(df1)\n"
     ]
    }
   ],
   "source": [
    "#로드한 음료를 모두 새 데이터프레임에 머지\n",
    "Trevi_df = Trevi_df.append(df0)\n",
    "Trevi_df = Trevi_df.append(df1)"
   ]
  },
  {
   "cell_type": "code",
   "execution_count": 5,
   "id": "d66124d6",
   "metadata": {},
   "outputs": [
    {
     "data": {
      "text/plain": [
       "(10000, 1)"
      ]
     },
     "execution_count": 5,
     "metadata": {},
     "output_type": "execute_result"
    }
   ],
   "source": [
    "#총 1만개인지 확인\n",
    "Trevi_df.shape"
   ]
  },
  {
   "cell_type": "code",
   "execution_count": 6,
   "id": "b9874dad",
   "metadata": {},
   "outputs": [
    {
     "data": {
      "text/html": [
       "<div>\n",
       "<style scoped>\n",
       "    .dataframe tbody tr th:only-of-type {\n",
       "        vertical-align: middle;\n",
       "    }\n",
       "\n",
       "    .dataframe tbody tr th {\n",
       "        vertical-align: top;\n",
       "    }\n",
       "\n",
       "    .dataframe thead th {\n",
       "        text-align: right;\n",
       "    }\n",
       "</style>\n",
       "<table border=\"1\" class=\"dataframe\">\n",
       "  <thead>\n",
       "    <tr style=\"text-align: right;\">\n",
       "      <th></th>\n",
       "      <th>review</th>\n",
       "    </tr>\n",
       "  </thead>\n",
       "  <tbody>\n",
       "    <tr>\n",
       "      <th>0</th>\n",
       "      <td>장난하시나요\\n이게포장인가요\\n사람이먹는걸이렇게포장하나요\\n터지고 찌그려지고 \\n그...</td>\n",
       "    </tr>\n",
       "    <tr>\n",
       "      <th>1</th>\n",
       "      <td>가격 괜찮게 판매하는곳이여서 두번째 구매합니다\\n앞으로도 계속 이용할려구요\\n감사합...</td>\n",
       "    </tr>\n",
       "    <tr>\n",
       "      <th>2</th>\n",
       "      <td>레몬맛 먹다가 다른맛도 먹어보고싶어서 주문해봤어요! 배송도 빠르고 만족합니다!</td>\n",
       "    </tr>\n",
       "    <tr>\n",
       "      <th>3</th>\n",
       "      <td>일단  우리가족이 모두 좋아하구요~유통기한도  포장도  맘에쏙~\\n늘재구매로 합니다...</td>\n",
       "    </tr>\n",
       "    <tr>\n",
       "      <th>4</th>\n",
       "      <td>역시 내 동반자  ~~\\n어제 양꼬치 집 가는데 같이 갔어요ㅎ.\\n다른 친구들두 시...</td>\n",
       "    </tr>\n",
       "    <tr>\n",
       "      <th>...</th>\n",
       "      <td>...</td>\n",
       "    </tr>\n",
       "    <tr>\n",
       "      <th>4995</th>\n",
       "      <td>탄산수 중  젤 좋음</td>\n",
       "    </tr>\n",
       "    <tr>\n",
       "      <th>4996</th>\n",
       "      <td>탄산수 먹기 참좋아요</td>\n",
       "    </tr>\n",
       "    <tr>\n",
       "      <th>4997</th>\n",
       "      <td>깔끔한 탄산수입니다</td>\n",
       "    </tr>\n",
       "    <tr>\n",
       "      <th>4998</th>\n",
       "      <td>품질 좋아요 적극 추천합니다</td>\n",
       "    </tr>\n",
       "    <tr>\n",
       "      <th>4999</th>\n",
       "      <td>늘 먹는 제품 트레비 굳굳</td>\n",
       "    </tr>\n",
       "  </tbody>\n",
       "</table>\n",
       "<p>10000 rows × 1 columns</p>\n",
       "</div>"
      ],
      "text/plain": [
       "                                                 review\n",
       "0     장난하시나요\\n이게포장인가요\\n사람이먹는걸이렇게포장하나요\\n터지고 찌그려지고 \\n그...\n",
       "1     가격 괜찮게 판매하는곳이여서 두번째 구매합니다\\n앞으로도 계속 이용할려구요\\n감사합...\n",
       "2           레몬맛 먹다가 다른맛도 먹어보고싶어서 주문해봤어요! 배송도 빠르고 만족합니다!\n",
       "3     일단  우리가족이 모두 좋아하구요~유통기한도  포장도  맘에쏙~\\n늘재구매로 합니다...\n",
       "4     역시 내 동반자  ~~\\n어제 양꼬치 집 가는데 같이 갔어요ㅎ.\\n다른 친구들두 시...\n",
       "...                                                 ...\n",
       "4995                                        탄산수 중  젤 좋음\n",
       "4996                                        탄산수 먹기 참좋아요\n",
       "4997                                         깔끔한 탄산수입니다\n",
       "4998                                    품질 좋아요 적극 추천합니다\n",
       "4999                                     늘 먹는 제품 트레비 굳굳\n",
       "\n",
       "[10000 rows x 1 columns]"
      ]
     },
     "execution_count": 6,
     "metadata": {},
     "output_type": "execute_result"
    }
   ],
   "source": [
    "Trevi_df"
   ]
  },
  {
   "cell_type": "code",
   "execution_count": 7,
   "id": "c73e995e",
   "metadata": {},
   "outputs": [],
   "source": [
    "#인덱스 없이 엑셀 저장\n",
    "#Trevi_df.to_excel('C:/Users/ohans/Desktop/multicampus/big data/class/project/final project/cider/crawling/excel/append/Trevi_10000_append.xlsx', index=False)"
   ]
  },
  {
   "cell_type": "markdown",
   "id": "1568dd12",
   "metadata": {},
   "source": [
    "### 네이버 브랜드숍, 다나와 쇼핑몰에서 한개씩 로드할 음료 목록\n",
    "\n",
    "나랑드 사이다(10921)  \n",
    "-네이버 브랜드숍 2000  \n",
    "-다나와 8000  \n",
    "\n",
    "칠성사이다제로(16827)  \n",
    "-네이버 브랜드숍 6500  \n",
    "-다나와 3500  \n",
    "\n",
    "라인바사 탄산수(27888)  \n",
    "-네이버 브랜드숍 7500  \n",
    "-다나와 2500  \n",
    "\n",
    "미네마인 탄산수(16567)  \n",
    "-네이버 브랜드숍 4000  \n",
    "-다나와 6000  "
   ]
  },
  {
   "cell_type": "code",
   "execution_count": 15,
   "id": "5be297a9",
   "metadata": {},
   "outputs": [],
   "source": [
    "#엑셀 n천개씩 로드, 헤더 review\n",
    "df0 = pd.read_excel(\"C:/Users/ohans/Desktop/multicampus/big data/class/project/final project/cider/crawling/excel/Reinwasser_17888_NaverBrandshop_crawling.xlsx\",\n",
    "                   nrows = 7500,\n",
    "                   names=[\"review\"])\n",
    "\n",
    "df1 = pd.read_excel(\"C:/Users/ohans/Desktop/multicampus/big data/class/project/final project/cider/crawling/excel/Reinwasser_10000_Danawa_crawling.xlsx\",\n",
    "                   nrows = 2500,\n",
    "                   names=[\"review\"])"
   ]
  },
  {
   "cell_type": "code",
   "execution_count": 16,
   "id": "cf0491e6",
   "metadata": {},
   "outputs": [],
   "source": [
    "#데이터프레임 생성\n",
    "Reinwasser_df = pd.DataFrame()"
   ]
  },
  {
   "cell_type": "code",
   "execution_count": 17,
   "id": "ffe3208c",
   "metadata": {},
   "outputs": [
    {
     "name": "stderr",
     "output_type": "stream",
     "text": [
      "C:\\Users\\ohans\\AppData\\Local\\Temp\\ipykernel_19008\\1785793712.py:2: FutureWarning: The frame.append method is deprecated and will be removed from pandas in a future version. Use pandas.concat instead.\n",
      "  Reinwasser_df = Reinwasser_df.append(df0)\n",
      "C:\\Users\\ohans\\AppData\\Local\\Temp\\ipykernel_19008\\1785793712.py:3: FutureWarning: The frame.append method is deprecated and will be removed from pandas in a future version. Use pandas.concat instead.\n",
      "  Reinwasser_df = Reinwasser_df.append(df1)\n"
     ]
    }
   ],
   "source": [
    "#로드한 음료를 모두 새 데이터프레임에 머지\n",
    "Reinwasser_df = Reinwasser_df.append(df0)\n",
    "Reinwasser_df = Reinwasser_df.append(df1)"
   ]
  },
  {
   "cell_type": "code",
   "execution_count": 18,
   "id": "933a89fd",
   "metadata": {},
   "outputs": [
    {
     "data": {
      "text/plain": [
       "(10000, 1)"
      ]
     },
     "execution_count": 18,
     "metadata": {},
     "output_type": "execute_result"
    }
   ],
   "source": [
    "#총 1만개인지 확인\n",
    "Reinwasser_df.shape"
   ]
  },
  {
   "cell_type": "code",
   "execution_count": 19,
   "id": "a495dec1",
   "metadata": {},
   "outputs": [
    {
     "data": {
      "text/html": [
       "<div>\n",
       "<style scoped>\n",
       "    .dataframe tbody tr th:only-of-type {\n",
       "        vertical-align: middle;\n",
       "    }\n",
       "\n",
       "    .dataframe tbody tr th {\n",
       "        vertical-align: top;\n",
       "    }\n",
       "\n",
       "    .dataframe thead th {\n",
       "        text-align: right;\n",
       "    }\n",
       "</style>\n",
       "<table border=\"1\" class=\"dataframe\">\n",
       "  <thead>\n",
       "    <tr style=\"text-align: right;\">\n",
       "      <th></th>\n",
       "      <th>review</th>\n",
       "    </tr>\n",
       "  </thead>\n",
       "  <tbody>\n",
       "    <tr>\n",
       "      <th>0</th>\n",
       "      <td>빠르고 터지지않고 깔끔한 배송\\n라인바싸 매번 달마다 주문하는 상품이라 제품 자체 ...</td>\n",
       "    </tr>\n",
       "    <tr>\n",
       "      <th>1</th>\n",
       "      <td>항상 주문해서 먹고 있어요  탄산이 강해요</td>\n",
       "    </tr>\n",
       "    <tr>\n",
       "      <th>2</th>\n",
       "      <td>빠른  배송과  깔끔한맛이 좋아요</td>\n",
       "    </tr>\n",
       "    <tr>\n",
       "      <th>3</th>\n",
       "      <td>콜라 사이다 끊을 땐 탄산수가 좋은듯하네요^^</td>\n",
       "    </tr>\n",
       "    <tr>\n",
       "      <th>4</th>\n",
       "      <td>정디적으로 주문하고 있어요~~</td>\n",
       "    </tr>\n",
       "    <tr>\n",
       "      <th>...</th>\n",
       "      <td>...</td>\n",
       "    </tr>\n",
       "    <tr>\n",
       "      <th>2495</th>\n",
       "      <td>배송 빠르네요. 처음 구매한거라 맛이 기대됩니다. 여름에 시원하게 두고두고 먹으려구요.</td>\n",
       "    </tr>\n",
       "    <tr>\n",
       "      <th>2496</th>\n",
       "      <td>이젠 라인 바싸 없이는 안되요..강력한탄산에 다른 탄산 음료는 마시지를 못 합니다</td>\n",
       "    </tr>\n",
       "    <tr>\n",
       "      <th>2497</th>\n",
       "      <td>탄산이 엄청 쎄고 정제수가 아닌 물로 만든탄산수라 더 좋네요 아이가 잘 먹어요</td>\n",
       "    </tr>\n",
       "    <tr>\n",
       "      <th>2498</th>\n",
       "      <td>아이들  에이드 해줄때 자주써서  주문..배송 엄청 빨라서 좋네요. 아이들이 금방 ...</td>\n",
       "    </tr>\n",
       "    <tr>\n",
       "      <th>2499</th>\n",
       "      <td>역시 여름에는 탄산이죠조금 착한 가격에 구매해서  좋아요 배송기사님 감사합니다 ^^</td>\n",
       "    </tr>\n",
       "  </tbody>\n",
       "</table>\n",
       "<p>10000 rows × 1 columns</p>\n",
       "</div>"
      ],
      "text/plain": [
       "                                                 review\n",
       "0     빠르고 터지지않고 깔끔한 배송\\n라인바싸 매번 달마다 주문하는 상품이라 제품 자체 ...\n",
       "1                               항상 주문해서 먹고 있어요  탄산이 강해요\n",
       "2                                    빠른  배송과  깔끔한맛이 좋아요\n",
       "3                             콜라 사이다 끊을 땐 탄산수가 좋은듯하네요^^\n",
       "4                                      정디적으로 주문하고 있어요~~\n",
       "...                                                 ...\n",
       "2495   배송 빠르네요. 처음 구매한거라 맛이 기대됩니다. 여름에 시원하게 두고두고 먹으려구요.\n",
       "2496      이젠 라인 바싸 없이는 안되요..강력한탄산에 다른 탄산 음료는 마시지를 못 합니다\n",
       "2497        탄산이 엄청 쎄고 정제수가 아닌 물로 만든탄산수라 더 좋네요 아이가 잘 먹어요\n",
       "2498  아이들  에이드 해줄때 자주써서  주문..배송 엄청 빨라서 좋네요. 아이들이 금방 ...\n",
       "2499     역시 여름에는 탄산이죠조금 착한 가격에 구매해서  좋아요 배송기사님 감사합니다 ^^\n",
       "\n",
       "[10000 rows x 1 columns]"
      ]
     },
     "execution_count": 19,
     "metadata": {},
     "output_type": "execute_result"
    }
   ],
   "source": [
    "Reinwasser_df"
   ]
  },
  {
   "cell_type": "code",
   "execution_count": 20,
   "id": "aac560cb",
   "metadata": {},
   "outputs": [],
   "source": [
    "#인덱스 없이 엑셀 저장\n",
    "#Reinwasser_df.to_excel('C:/Users/ohans/Desktop/multicampus/big data/class/project/final project/cider/crawling/excel/append/Reinwasser_10000_append.xlsx', index=False)"
   ]
  },
  {
   "cell_type": "markdown",
   "id": "b9356769",
   "metadata": {},
   "source": [
    "### 3가지 이상의 파일에서 리뷰 추출\n",
    "노브랜드 스파클링(10925)  \n",
    "네이버 브랜드숍1   1200  \n",
    "네이버 브랜드숍2   1300  \n",
    "다나와 \t\t7500  \n",
    "\n",
    "웰치스 제로(10522)  \n",
    "네이버쇼핑 \t1900  \n",
    "다나와 \t\t2400  \n",
    "네이버 브랜드숍 \t5700  \n",
    "\n",
    "원에이엠스파클링(12652)  \n",
    "네이버쇼핑 \t 1500  \n",
    "네이버 브랜드숍\t 8200  \n",
    "다나와\t\t 300  \n",
    "\n",
    "부르르제로콜라(10458)  \n",
    "네이버쇼핑 \t1950  \n",
    "네이버 브랜드숍 \t1800  \n",
    "다나와\t\t4850  \n",
    "쿠팡\t\t1400  "
   ]
  },
  {
   "cell_type": "code",
   "execution_count": 56,
   "id": "2d8e1a10",
   "metadata": {},
   "outputs": [],
   "source": [
    "#엑셀 n천개씩 로드, 헤더 review\n",
    "df0 = pd.read_excel(\"C:/Users/ohans/Desktop/multicampus/big data/class/project/final project/cider/crawling/excel/BurrZcider_1820_Navershop_crawling.xlsx\",\n",
    "                   nrows = 1820,\n",
    "                   names=[\"review\"])\n",
    "\n",
    "df1 = pd.read_excel(\"C:/Users/ohans/Desktop/multicampus/big data/class/project/final project/cider/crawling/excel/BurrZcider_3596_Danawa_crawling.xlsx\",\n",
    "                   nrows = 3596,\n",
    "                   names=[\"review\"])\n",
    "\n",
    "df2 = pd.read_excel(\"C:/Users/ohans/Desktop/multicampus/big data/class/project/final project/cider/crawling/excel/BurrZcider_4584_NaverBrandshop_crawling.xlsx\",\n",
    "                   nrows = 4584,\n",
    "                   names=[\"review\"])\n",
    "\n",
    "#부르르 제로 콜라\n",
    "#df3 = pd.read_excel(\"C:/Users/ohans/Desktop/multicampus/big data/class/project/final project/cider/crawling/excel/BurrZcola_1500_Coupang_crawling.xlsx\",\n",
    "#                   nrows = 1400,\n",
    "#                   names=[\"review\"])"
   ]
  },
  {
   "cell_type": "code",
   "execution_count": 57,
   "id": "6fd8920e",
   "metadata": {},
   "outputs": [],
   "source": [
    "#데이터프레임 생성\n",
    "BurrZcider_df = pd.DataFrame()"
   ]
  },
  {
   "cell_type": "code",
   "execution_count": 58,
   "id": "c46e0cf2",
   "metadata": {},
   "outputs": [
    {
     "name": "stderr",
     "output_type": "stream",
     "text": [
      "C:\\Users\\ohans\\AppData\\Local\\Temp\\ipykernel_19008\\1225804611.py:2: FutureWarning: The frame.append method is deprecated and will be removed from pandas in a future version. Use pandas.concat instead.\n",
      "  BurrZcider_df = BurrZcider_df.append(df0)\n",
      "C:\\Users\\ohans\\AppData\\Local\\Temp\\ipykernel_19008\\1225804611.py:3: FutureWarning: The frame.append method is deprecated and will be removed from pandas in a future version. Use pandas.concat instead.\n",
      "  BurrZcider_df = BurrZcider_df.append(df1)\n",
      "C:\\Users\\ohans\\AppData\\Local\\Temp\\ipykernel_19008\\1225804611.py:4: FutureWarning: The frame.append method is deprecated and will be removed from pandas in a future version. Use pandas.concat instead.\n",
      "  BurrZcider_df = BurrZcider_df.append(df2)\n"
     ]
    }
   ],
   "source": [
    "#로드한 음료를 모두 새 데이터프레임에 머지\n",
    "BurrZcider_df = BurrZcider_df.append(df0)\n",
    "BurrZcider_df = BurrZcider_df.append(df1)\n",
    "BurrZcider_df = BurrZcider_df.append(df2)\n",
    "#부르르제로콜라\n",
    "#BurrZcola_df = BurrZcola_df.append(df3)"
   ]
  },
  {
   "cell_type": "code",
   "execution_count": 59,
   "id": "7d6d27e5",
   "metadata": {},
   "outputs": [
    {
     "data": {
      "text/plain": [
       "(9994, 1)"
      ]
     },
     "execution_count": 59,
     "metadata": {},
     "output_type": "execute_result"
    }
   ],
   "source": [
    "#총 1만개인지 확인\n",
    "BurrZcider_df.shape"
   ]
  },
  {
   "cell_type": "code",
   "execution_count": 60,
   "id": "1f071aba",
   "metadata": {},
   "outputs": [
    {
     "data": {
      "text/html": [
       "<div>\n",
       "<style scoped>\n",
       "    .dataframe tbody tr th:only-of-type {\n",
       "        vertical-align: middle;\n",
       "    }\n",
       "\n",
       "    .dataframe tbody tr th {\n",
       "        vertical-align: top;\n",
       "    }\n",
       "\n",
       "    .dataframe thead th {\n",
       "        text-align: right;\n",
       "    }\n",
       "</style>\n",
       "<table border=\"1\" class=\"dataframe\">\n",
       "  <thead>\n",
       "    <tr style=\"text-align: right;\">\n",
       "      <th></th>\n",
       "      <th>review</th>\n",
       "    </tr>\n",
       "  </thead>\n",
       "  <tbody>\n",
       "    <tr>\n",
       "      <th>0</th>\n",
       "      <td>부르르 음료 후기가 좋아서 가격 비교해보고 찾다가 여기서 주문했어요!\\n먹어보고 주...</td>\n",
       "    </tr>\n",
       "    <tr>\n",
       "      <th>1</th>\n",
       "      <td>탄산음료 1도 안마시는 제가 리뷰를 다 쓰네요\\n그것도 음용 후 리뷰를요 ㅎ\\n탄산...</td>\n",
       "    </tr>\n",
       "    <tr>\n",
       "      <th>2</th>\n",
       "      <td>사이다를 너무 좋아하는 저희 부부, 칼로리를 걱정하던 차에 무설탕, 무색소, 무보존...</td>\n",
       "    </tr>\n",
       "    <tr>\n",
       "      <th>3</th>\n",
       "      <td>초정탄산수와 천연사이다의 10년 넘은 팬입니다~몇 박스째 먹는지 모르겠어요. 입안이...</td>\n",
       "    </tr>\n",
       "    <tr>\n",
       "      <th>4</th>\n",
       "      <td>콜라는 치아를 녹인다는 정보를 알고 난뒤부터 사이다로 바꿔 먹기 시작했어요(탄산은 ...</td>\n",
       "    </tr>\n",
       "    <tr>\n",
       "      <th>...</th>\n",
       "      <td>...</td>\n",
       "    </tr>\n",
       "    <tr>\n",
       "      <th>4579</th>\n",
       "      <td>생각보다 맛이 별로네요. 천연사이다가 더 낫네요.</td>\n",
       "    </tr>\n",
       "    <tr>\n",
       "      <th>4580</th>\n",
       "      <td>탄산이 있는데 사이다 맛이랑은 좀 다른데\\n제로칼로리라 좋아요</td>\n",
       "    </tr>\n",
       "    <tr>\n",
       "      <th>4581</th>\n",
       "      <td>나랑드 같은거 보다 훨배 좋습니다.. 진짜요</td>\n",
       "    </tr>\n",
       "    <tr>\n",
       "      <th>4582</th>\n",
       "      <td>맛도좋고 가격도 좋고</td>\n",
       "    </tr>\n",
       "    <tr>\n",
       "      <th>4583</th>\n",
       "      <td>맛있어요......</td>\n",
       "    </tr>\n",
       "  </tbody>\n",
       "</table>\n",
       "<p>9994 rows × 1 columns</p>\n",
       "</div>"
      ],
      "text/plain": [
       "                                                 review\n",
       "0     부르르 음료 후기가 좋아서 가격 비교해보고 찾다가 여기서 주문했어요!\\n먹어보고 주...\n",
       "1     탄산음료 1도 안마시는 제가 리뷰를 다 쓰네요\\n그것도 음용 후 리뷰를요 ㅎ\\n탄산...\n",
       "2     사이다를 너무 좋아하는 저희 부부, 칼로리를 걱정하던 차에 무설탕, 무색소, 무보존...\n",
       "3     초정탄산수와 천연사이다의 10년 넘은 팬입니다~몇 박스째 먹는지 모르겠어요. 입안이...\n",
       "4     콜라는 치아를 녹인다는 정보를 알고 난뒤부터 사이다로 바꿔 먹기 시작했어요(탄산은 ...\n",
       "...                                                 ...\n",
       "4579                        생각보다 맛이 별로네요. 천연사이다가 더 낫네요.\n",
       "4580                 탄산이 있는데 사이다 맛이랑은 좀 다른데\\n제로칼로리라 좋아요\n",
       "4581                           나랑드 같은거 보다 훨배 좋습니다.. 진짜요\n",
       "4582                                        맛도좋고 가격도 좋고\n",
       "4583                                         맛있어요......\n",
       "\n",
       "[9994 rows x 1 columns]"
      ]
     },
     "execution_count": 60,
     "metadata": {},
     "output_type": "execute_result"
    }
   ],
   "source": [
    "BurrZcider_df"
   ]
  },
  {
   "cell_type": "code",
   "execution_count": 61,
   "id": "dba9fc84",
   "metadata": {},
   "outputs": [],
   "source": [
    "#인덱스 없이 엑셀 저장\n",
    "BurrZcider_df.to_excel('C:/Users/ohans/Desktop/multicampus/big data/class/project/final project/cider/crawling/excel/append/BurrZcider_10000_append.xlsx', index=False)"
   ]
  },
  {
   "cell_type": "markdown",
   "id": "9fa6db38",
   "metadata": {},
   "source": [
    "### 리뷰가 1만개인 단일 물품\n",
    "-빅토리아"
   ]
  },
  {
   "cell_type": "code",
   "execution_count": 47,
   "id": "ea7f0f00",
   "metadata": {},
   "outputs": [],
   "source": [
    "#df0 = pd.read_excel(\"C:/Users/ohans/Desktop/multicampus/big data/class/project/final project/cider/crawling/excel/Victoria_10000_NaverBrandshop_crawling.xlsx\",\n",
    "#                   nrows = 10000,\n",
    "#                   names=[\"review\"])"
   ]
  },
  {
   "cell_type": "code",
   "execution_count": 48,
   "id": "3baac471",
   "metadata": {
    "collapsed": true
   },
   "outputs": [
    {
     "data": {
      "text/html": [
       "<div>\n",
       "<style scoped>\n",
       "    .dataframe tbody tr th:only-of-type {\n",
       "        vertical-align: middle;\n",
       "    }\n",
       "\n",
       "    .dataframe tbody tr th {\n",
       "        vertical-align: top;\n",
       "    }\n",
       "\n",
       "    .dataframe thead th {\n",
       "        text-align: right;\n",
       "    }\n",
       "</style>\n",
       "<table border=\"1\" class=\"dataframe\">\n",
       "  <thead>\n",
       "    <tr style=\"text-align: right;\">\n",
       "      <th></th>\n",
       "      <th>review</th>\n",
       "    </tr>\n",
       "  </thead>\n",
       "  <tbody>\n",
       "    <tr>\n",
       "      <th>0</th>\n",
       "      <td>탄산수 구매할 때마다 구매하는 브랜드에요!☺️\\n열심히 찾아봤는데, 압도적으로 최저...</td>\n",
       "    </tr>\n",
       "    <tr>\n",
       "      <th>1</th>\n",
       "      <td>일단 지금 시중에 나와있는 탄산수들 중에 제일 좋습니다.  가격적인 면에서도 아주 ...</td>\n",
       "    </tr>\n",
       "    <tr>\n",
       "      <th>2</th>\n",
       "      <td>정기배송으로 자몽만 몇년째 먹고 있었는데 이렇게 다양한 맛이 있는줄 몰랐어요.  이...</td>\n",
       "    </tr>\n",
       "    <tr>\n",
       "      <th>3</th>\n",
       "      <td>지속적으로 재구매하고있습니다. 다양한맛을 보유하고있는 제품이라 새로 구매할때마다 새...</td>\n",
       "    </tr>\n",
       "    <tr>\n",
       "      <th>4</th>\n",
       "      <td>재구매의 재구매의 재구매입니다 !\\n/\\n저희집은 레몬이랑 라즈베리 마셔요 ! 임신...</td>\n",
       "    </tr>\n",
       "    <tr>\n",
       "      <th>...</th>\n",
       "      <td>...</td>\n",
       "    </tr>\n",
       "    <tr>\n",
       "      <th>9995</th>\n",
       "      <td>감사합니다~~~~~~^^</td>\n",
       "    </tr>\n",
       "    <tr>\n",
       "      <th>9996</th>\n",
       "      <td>항상 먹고 있지만 빅토리아가 최고</td>\n",
       "    </tr>\n",
       "    <tr>\n",
       "      <th>9997</th>\n",
       "      <td>그냥 맨날 먹는거라서요 맛나요</td>\n",
       "    </tr>\n",
       "    <tr>\n",
       "      <th>9998</th>\n",
       "      <td>배송이 두개나눠서오네요\\n잘받았습니다</td>\n",
       "    </tr>\n",
       "    <tr>\n",
       "      <th>9999</th>\n",
       "      <td>또 주문해야할때가 다 됐네요. 아이들도 좋아하고 마눌님도 좋아합니다.</td>\n",
       "    </tr>\n",
       "  </tbody>\n",
       "</table>\n",
       "<p>10000 rows × 1 columns</p>\n",
       "</div>"
      ],
      "text/plain": [
       "                                                 review\n",
       "0     탄산수 구매할 때마다 구매하는 브랜드에요!☺️\\n열심히 찾아봤는데, 압도적으로 최저...\n",
       "1     일단 지금 시중에 나와있는 탄산수들 중에 제일 좋습니다.  가격적인 면에서도 아주 ...\n",
       "2     정기배송으로 자몽만 몇년째 먹고 있었는데 이렇게 다양한 맛이 있는줄 몰랐어요.  이...\n",
       "3     지속적으로 재구매하고있습니다. 다양한맛을 보유하고있는 제품이라 새로 구매할때마다 새...\n",
       "4     재구매의 재구매의 재구매입니다 !\\n/\\n저희집은 레몬이랑 라즈베리 마셔요 ! 임신...\n",
       "...                                                 ...\n",
       "9995                                      감사합니다~~~~~~^^\n",
       "9996                                 항상 먹고 있지만 빅토리아가 최고\n",
       "9997                                   그냥 맨날 먹는거라서요 맛나요\n",
       "9998                               배송이 두개나눠서오네요\\n잘받았습니다\n",
       "9999             또 주문해야할때가 다 됐네요. 아이들도 좋아하고 마눌님도 좋아합니다.\n",
       "\n",
       "[10000 rows x 1 columns]"
      ]
     },
     "execution_count": 48,
     "metadata": {},
     "output_type": "execute_result"
    }
   ],
   "source": [
    "#df0"
   ]
  },
  {
   "cell_type": "code",
   "execution_count": 49,
   "id": "0030848a",
   "metadata": {},
   "outputs": [],
   "source": [
    "#인덱스 없이 엑셀 저장\n",
    "#파일명 변경용\n",
    "#df0.to_excel('C:/Users/ohans/Desktop/multicampus/big data/class/project/final project/cider/crawling/excel/append/Victoria_10000_append.xlsx', index=False)"
   ]
  },
  {
   "cell_type": "code",
   "execution_count": null,
   "id": "b431a3f3",
   "metadata": {},
   "outputs": [],
   "source": []
  },
  {
   "cell_type": "code",
   "execution_count": null,
   "id": "ad20bd74",
   "metadata": {},
   "outputs": [],
   "source": []
  }
 ],
 "metadata": {
  "kernelspec": {
   "display_name": "Python 3 (ipykernel)",
   "language": "python",
   "name": "python3"
  },
  "language_info": {
   "codemirror_mode": {
    "name": "ipython",
    "version": 3
   },
   "file_extension": ".py",
   "mimetype": "text/x-python",
   "name": "python",
   "nbconvert_exporter": "python",
   "pygments_lexer": "ipython3",
   "version": "3.9.12"
  }
 },
 "nbformat": 4,
 "nbformat_minor": 5
}
