{
 "cells": [
  {
   "cell_type": "markdown",
   "id": "c9240184",
   "metadata": {},
   "source": [
    "# 데이터 수집 - 다나와 상품 리뷰 크롤링"
   ]
  },
  {
   "cell_type": "code",
   "execution_count": 1,
   "id": "ae1d69dd",
   "metadata": {},
   "outputs": [],
   "source": [
    "# 다나와 상품 리뷰 크롤링\n",
    "# 필요한 라이브러리 패키지\n",
    "\n",
    "import requests\n",
    "from bs4 import BeautifulSoup as bs\n",
    "\n",
    "from selenium import webdriver\n",
    "from selenium.webdriver.common.by import By\n",
    "from selenium.webdriver.support.ui import WebDriverWait\n",
    "from selenium.webdriver.support import expected_conditions as EC\n",
    "from selenium.webdriver.common.keys import Keys\n",
    "\n",
    "import pandas as pd\n",
    "import numpy as np\n",
    "\n",
    "import time\n",
    "import re"
   ]
  },
  {
   "cell_type": "code",
   "execution_count": 2,
   "id": "f7561b06",
   "metadata": {
    "scrolled": true
   },
   "outputs": [],
   "source": [
    "LOADING_WAIT_TIME = 3\n",
    "\n",
    "pcodes = [13363343, 3312370]\n",
    "review_data_total = []\n",
    "review_data = []\n",
    "\n",
    "def init_driver() :\n",
    "    driver = webdriver.Chrome('diver/chromedriver.exe')\n",
    "    return driver\n",
    "    \n",
    "def danawa_review(pcode, driver) :\n",
    "    url = f\"http://prod.danawa.com/info/?pcode={pcode}#bookmark_cm_opinion\"\n",
    "    driver.get(url)\n",
    "    \n",
    "    driver.implicitly_wait(3)\n",
    "    time.sleep(3)\n",
    "    \n",
    "    for i in range(1, 1001) :\n",
    "        html = driver.page_source\n",
    "        soup = bs(html, 'html.parser')\n",
    "    \n",
    "        reviews = soup.select('div.atc')\n",
    "    \n",
    "        for review in reviews :\n",
    "            review_data.append(review.text)\n",
    "\n",
    "        if i % 10 == 0:\n",
    "            right_btn = driver.find_element(By.XPATH, '//*[@class=\"mall_review\"]//span[@class=\"point_arw_r\"]')\n",
    "            if right_btn.value_of_css_property('cursor') == 'pointer':\n",
    "                right_btn.click()\n",
    "            else:\n",
    "                break\n",
    "        else:\n",
    "            try :\n",
    "                WebDriverWait(driver, LOADING_WAIT_TIME).until(\n",
    "                        EC.presence_of_element_located(\n",
    "                            (By.XPATH, f'//*[@id=\"danawa-prodBlog-companyReview-content-list\"]/div/div/div/a[text()={i + 1}]')\n",
    "                        )\n",
    "                    )\n",
    "            except:\n",
    "                break\n",
    "            driver.find_element(By.XPATH, f'//*[@id=\"danawa-prodBlog-companyReview-content-list\"]/div/div/div/a[text()={i + 1}]').send_keys(Keys.ENTER)\n",
    "\n",
    "            \n",
    "# if __name__ == \"__main__\" :\n",
    "#     driver = init_driver()\n",
    "\n",
    "#     danawa_review(13363343, driver)\n",
    "    \n",
    "#     print(len(review_data))\n",
    "    \n",
    "#     for r in review_data :\n",
    "#         print(r)"
   ]
  },
  {
   "cell_type": "code",
   "execution_count": 5,
   "id": "15d12c2e",
   "metadata": {},
   "outputs": [
    {
     "name": "stdout",
     "output_type": "stream",
     "text": [
      "9990\n"
     ]
    }
   ],
   "source": [
    "print(len(review_data))"
   ]
  },
  {
   "cell_type": "code",
   "execution_count": 7,
   "id": "af505db8",
   "metadata": {},
   "outputs": [],
   "source": [
    "data = pd.DataFrame(review_data)\n",
    "data.to_excel('./seagram_danawa_crawling.xlsx',index=False)"
   ]
  },
  {
   "cell_type": "code",
   "execution_count": 3,
   "id": "c927bbf6",
   "metadata": {},
   "outputs": [
    {
     "name": "stderr",
     "output_type": "stream",
     "text": [
      "C:\\Users\\97dkr\\AppData\\Local\\Temp\\ipykernel_12976\\4054297487.py:8: DeprecationWarning: executable_path has been deprecated, please pass in a Service object\n",
      "  driver = webdriver.Chrome('diver/chromedriver.exe')\n"
     ]
    },
    {
     "name": "stdout",
     "output_type": "stream",
     "text": [
      "4510\n"
     ]
    }
   ],
   "source": [
    "# 트레비 pcode 3312370\n",
    "if __name__ == \"__main__\" :\n",
    "    driver = init_driver()\n",
    "danawa_review(3312370, driver)\n",
    "print(len(review_data))"
   ]
  },
  {
   "cell_type": "code",
   "execution_count": 4,
   "id": "5bfacf08",
   "metadata": {},
   "outputs": [],
   "source": [
    "trevi_data = pd.DataFrame(review_data)\n",
    "trevi_data.to_excel('./trevi_danawa_crawling.xlsx', index= False)"
   ]
  },
  {
   "cell_type": "code",
   "execution_count": 5,
   "id": "eaaa28d7",
   "metadata": {},
   "outputs": [
    {
     "name": "stderr",
     "output_type": "stream",
     "text": [
      "C:\\Users\\97dkr\\AppData\\Local\\Temp\\ipykernel_12976\\4054297487.py:8: DeprecationWarning: executable_path has been deprecated, please pass in a Service object\n",
      "  driver = webdriver.Chrome('diver/chromedriver.exe')\n"
     ]
    },
    {
     "name": "stdout",
     "output_type": "stream",
     "text": [
      "13010\n"
     ]
    }
   ],
   "source": [
    "# 제로콜라 pcode 10151808\n",
    "if __name__ == \"__main__\" :\n",
    "    driver = init_driver()\n",
    "danawa_review(10151808, driver)\n",
    "print(len(review_data))"
   ]
  },
  {
   "cell_type": "code",
   "execution_count": 6,
   "id": "6229cbed",
   "metadata": {},
   "outputs": [],
   "source": [
    "zcola_data = pd.DataFrame(review_data)\n",
    "zcola_data.to_excel('./zcola_danawa_crawling.xlsx', index=False)"
   ]
  },
  {
   "cell_type": "code",
   "execution_count": null,
   "id": "cc0bfb8b",
   "metadata": {},
   "outputs": [],
   "source": [
    "# 나랑드사이다 pcode 1982464"
   ]
  },
  {
   "cell_type": "code",
   "execution_count": null,
   "id": "ee1e2d38",
   "metadata": {},
   "outputs": [],
   "source": []
  },
  {
   "cell_type": "code",
   "execution_count": null,
   "id": "740fb637",
   "metadata": {},
   "outputs": [],
   "source": [
    "# 원에이엠 스파클링 pcode 13054001\n"
   ]
  },
  {
   "cell_type": "code",
   "execution_count": null,
   "id": "b08cab22",
   "metadata": {},
   "outputs": [],
   "source": []
  },
  {
   "cell_type": "code",
   "execution_count": null,
   "id": "7c3dabc7",
   "metadata": {},
   "outputs": [],
   "source": [
    "# 펩시콜라 제로 pcode 13536143"
   ]
  },
  {
   "cell_type": "code",
   "execution_count": null,
   "id": "cbe3c7e5",
   "metadata": {},
   "outputs": [],
   "source": []
  },
  {
   "cell_type": "code",
   "execution_count": null,
   "id": "d0e6d9c6",
   "metadata": {},
   "outputs": [],
   "source": [
    "# 부르르 제로사이다 pcode 13653416"
   ]
  },
  {
   "cell_type": "code",
   "execution_count": null,
   "id": "01906c36",
   "metadata": {},
   "outputs": [],
   "source": []
  },
  {
   "cell_type": "code",
   "execution_count": null,
   "id": "22d99e01",
   "metadata": {},
   "outputs": [],
   "source": [
    "# 칠성사이다 제로 pcode 13472201"
   ]
  },
  {
   "cell_type": "code",
   "execution_count": null,
   "id": "22c686d6",
   "metadata": {},
   "outputs": [],
   "source": []
  },
  {
   "cell_type": "code",
   "execution_count": null,
   "id": "7f362178",
   "metadata": {},
   "outputs": [],
   "source": [
    "# 스프라이트 제로 pcode 13566611"
   ]
  },
  {
   "cell_type": "code",
   "execution_count": null,
   "id": "13a34a37",
   "metadata": {},
   "outputs": [],
   "source": []
  },
  {
   "cell_type": "code",
   "execution_count": null,
   "id": "7fb49995",
   "metadata": {},
   "outputs": [],
   "source": [
    "# 웰치스 제로 pcode 16889648"
   ]
  },
  {
   "cell_type": "code",
   "execution_count": null,
   "id": "b95fe78f",
   "metadata": {},
   "outputs": [],
   "source": []
  },
  {
   "cell_type": "code",
   "execution_count": null,
   "id": "bd1ba61a",
   "metadata": {},
   "outputs": [],
   "source": [
    "# "
   ]
  },
  {
   "cell_type": "code",
   "execution_count": null,
   "id": "1ee1905c",
   "metadata": {},
   "outputs": [],
   "source": []
  },
  {
   "cell_type": "code",
   "execution_count": null,
   "id": "524ab57e",
   "metadata": {},
   "outputs": [],
   "source": []
  },
  {
   "cell_type": "code",
   "execution_count": null,
   "id": "08481899",
   "metadata": {},
   "outputs": [],
   "source": []
  }
 ],
 "metadata": {
  "kernelspec": {
   "display_name": "Python 3 (ipykernel)",
   "language": "python",
   "name": "python3"
  },
  "language_info": {
   "codemirror_mode": {
    "name": "ipython",
    "version": 3
   },
   "file_extension": ".py",
   "mimetype": "text/x-python",
   "name": "python",
   "nbconvert_exporter": "python",
   "pygments_lexer": "ipython3",
   "version": "3.9.13"
  }
 },
 "nbformat": 4,
 "nbformat_minor": 5
}
