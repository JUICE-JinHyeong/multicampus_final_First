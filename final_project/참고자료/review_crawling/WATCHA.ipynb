{
 "cells": [
  {
   "cell_type": "code",
   "execution_count": 1,
   "id": "01b925ff",
   "metadata": {},
   "outputs": [],
   "source": [
    "# 크롤링\n",
    "from bs4 import BeautifulSoup\n",
    "# url img를 내려받을 수 있는 패키지\n",
    "from urllib.request import urlopen , urlretrieve\n",
    "from urllib.error   import HTTPError\n",
    "from urllib.error   import URLError\n",
    "\n",
    "import requests\n",
    "import re\n",
    "\n",
    "from selenium import webdriver\n",
    "from selenium.webdriver.common.by import By"
   ]
  },
  {
   "cell_type": "markdown",
   "id": "85479614",
   "metadata": {},
   "source": [
    "- By.ID\t태그의 id값으로 추출\n",
    "- By.NAME\t태그의 name값으로 추출\n",
    "- By.XPATH\t태그의 경로로 추출\n",
    "- By.LINK_TEXT\t링크 텍스트값으로 추출\n",
    "- By.PARTIAL_LINK_TEXT\t링크 텍스트의 자식 텍스트 값을 추출\n",
    "- By.TAG_NAME\t태그 이름으로 추출\n",
    "- By.CLASS_NAME\t태그의 클래스명으로 추출\n",
    "- By.CSS_SELECTOR\tcss선택자로 추출"
   ]
  },
  {
   "cell_type": "code",
   "execution_count": 3,
   "id": "2bc09070",
   "metadata": {
    "collapsed": true
   },
   "outputs": [
    {
     "name": "stderr",
     "output_type": "stream",
     "text": [
      "C:\\Users\\PiGiraffe0\\AppData\\Local\\Temp\\ipykernel_10728\\2166406958.py:2: DeprecationWarning: executable_path has been deprecated, please pass in a Service object\n",
      "  driver = webdriver.Chrome(driver_path)\n"
     ]
    }
   ],
   "source": [
    "driver_path = 'diver/chromedriver.exe'\n",
    "driver = webdriver.Chrome(driver_path)\n",
    "driver.get('https://watcha.com/tag?ids=367&domain=video')"
   ]
  },
  {
   "cell_type": "code",
   "execution_count": null,
   "id": "5c34daa9",
   "metadata": {},
   "outputs": [],
   "source": [
    "<article class=\"css-11khqem-Cell\"><a aria-label=\"이 용사가 ZZANG센 주제에 너무 신중하다\" role=\"link\" tabindex=\"0\" class=\"css-1i82ydo\" href=\"/contents/tPDOmW7\"><div class=\"css-1gdiso4\"><div class=\"css-11cicuv-ImageWrapper\"><img alt=\"이 용사가 ZZANG센 주제에 너무 신중하다\" src=\"https://an2-img.amz.wtchn.net/image/v2/dk4EroQcTGLWy_3U-i7bWw.jpg?jwt=ZXlKaGJHY2lPaUpJVXpJMU5pSjkuZXlKdmNIUnpJanBiSW1SZk5ETXllRFkwTUhFNE1DSmRMQ0p3SWpvaUwzWXlMM04wYjNKbEwybHRZV2RsTHpFMk5EVTNOemd4TkRVME5UTTBOVFl4TXpVaWZRLm1XbzRhTktad1VfVlZIN1h4WnhtQ1I5cnI2d1lhWTFNTGU2TlV4MHdmcGs\" class=\"css-1cs6tj2\"><div aria-hidden=\"true\" class=\"css-7440ul\"><p class=\"css-1ponucs\">이 용사가 ZZANG센 주제에 너무 신중하다</p></div></div></div></a></article>"
   ]
  },
  {
   "cell_type": "code",
   "execution_count": 16,
   "id": "0752d058",
   "metadata": {},
   "outputs": [
    {
     "name": "stdout",
     "output_type": "stream",
     "text": [
      "뺑반\n",
      "걸캅스\n",
      "힐러\n",
      "히트맨\n",
      "퀵\n",
      "바람의 파이터\n",
      "시카리오: 데이 오브 솔다도\n",
      "거룩한 계보\n",
      "지.아이.조 - 전쟁의 서막\n",
      "표적\n",
      "론 서바이버\n",
      "데스 노트 - 라스트 네임\n",
      "나루토 3기\n",
      "버티칼 리미트\n",
      "아키라\n",
      "고스트 라이더\n",
      "로스트 인 더스트\n",
      "밴티지 포인트\n",
      "1917\n",
      "눈에는 눈 이에는 이\n",
      "소드 아트 온라인 2기\n",
      "다찌마와 리 - 악인이여 지옥행 급행열차를 타라!\n",
      "체포왕\n",
      "7급 공무원\n",
      "트리플 엑스\n",
      "아라한 장풍대작전\n",
      "신기전\n",
      "깡철이\n",
      "뿌리깊은 나무\n",
      "마스크 오브 조로\n"
     ]
    }
   ],
   "source": [
    "for i in range(30) :\n",
    "    print(driver.find_elements(By.CSS_SELECTOR , '.css-11khqem-Cell')[i].text)"
   ]
  },
  {
   "cell_type": "code",
   "execution_count": 35,
   "id": "adc307fc",
   "metadata": {},
   "outputs": [],
   "source": [
    "zerowaste_shop = []\n",
    "zerowaste_address = []\n",
    "\n",
    "for num in range(1 , len(zerowaste_driver.find_elements(By.XPATH , '//*[@id=\"post-1426\"]/div[2]/figure[2]/table/tbody/tr'))+1) :\n",
    "    zerowaste_shop.append(zerowaste_driver.find_element(By.XPATH , f'//*[@id=\"post-1426\"]/div[2]/figure[2]/table/tbody/tr[{num}]/td[1]').text)\n",
    "    zerowaste_address.append(zerowaste_driver.find_element(By.XPATH , f'//*[@id=\"post-1426\"]/div[2]/figure[2]/table/tbody/tr[{num}]/td[2]').text)\n",
    "    "
   ]
  },
  {
   "cell_type": "code",
   "execution_count": 38,
   "id": "c742d432",
   "metadata": {},
   "outputs": [],
   "source": [
    "import pandas as pd\n",
    "import numpy as np\n",
    "zerowaste_frm = pd.DataFrame({'상호' : zerowaste_shop , '주소' : zerowaste_address})"
   ]
  },
  {
   "cell_type": "code",
   "execution_count": 41,
   "id": "958886d5",
   "metadata": {},
   "outputs": [
    {
     "data": {
      "text/html": [
       "<div>\n",
       "<style scoped>\n",
       "    .dataframe tbody tr th:only-of-type {\n",
       "        vertical-align: middle;\n",
       "    }\n",
       "\n",
       "    .dataframe tbody tr th {\n",
       "        vertical-align: top;\n",
       "    }\n",
       "\n",
       "    .dataframe thead th {\n",
       "        text-align: right;\n",
       "    }\n",
       "</style>\n",
       "<table border=\"1\" class=\"dataframe\">\n",
       "  <thead>\n",
       "    <tr style=\"text-align: right;\">\n",
       "      <th></th>\n",
       "      <th>상호</th>\n",
       "      <th>주소</th>\n",
       "    </tr>\n",
       "  </thead>\n",
       "  <tbody>\n",
       "    <tr>\n",
       "      <th>0</th>\n",
       "      <td>내일상회</td>\n",
       "      <td>강원 강릉시 용지로96번길 25-1 (포남동)</td>\n",
       "    </tr>\n",
       "    <tr>\n",
       "      <th>1</th>\n",
       "      <td>제로웨이스트 쑥</td>\n",
       "      <td>강원 삼척시 이천리 777-2</td>\n",
       "    </tr>\n",
       "    <tr>\n",
       "      <th>2</th>\n",
       "      <td>칠성조선소 북살롱</td>\n",
       "      <td>강원 속초시 중앙로46번길 45 (교동)</td>\n",
       "    </tr>\n",
       "    <tr>\n",
       "      <th>3</th>\n",
       "      <td>에르마나스</td>\n",
       "      <td>강원 원주시 남원로469번길 14-2 1층 (명륜동)</td>\n",
       "    </tr>\n",
       "    <tr>\n",
       "      <th>4</th>\n",
       "      <td>보나커피집</td>\n",
       "      <td>강원 춘천시 교동길 18 1층 (교동)</td>\n",
       "    </tr>\n",
       "  </tbody>\n",
       "</table>\n",
       "</div>"
      ],
      "text/plain": [
       "          상호                             주소\n",
       "0       내일상회      강원 강릉시 용지로96번길 25-1 (포남동)\n",
       "1   제로웨이스트 쑥               강원 삼척시 이천리 777-2\n",
       "2  칠성조선소 북살롱         강원 속초시 중앙로46번길 45 (교동)\n",
       "3      에르마나스  강원 원주시 남원로469번길 14-2 1층 (명륜동)\n",
       "4      보나커피집          강원 춘천시 교동길 18 1층 (교동)"
      ]
     },
     "execution_count": 41,
     "metadata": {},
     "output_type": "execute_result"
    }
   ],
   "source": [
    "zerowaste_frm.head()"
   ]
  },
  {
   "cell_type": "code",
   "execution_count": 40,
   "id": "824020b4",
   "metadata": {},
   "outputs": [],
   "source": [
    "# option :  sheet_name='', index=True/False, header=True/False)\n",
    "\n",
    "zerowaste_frm.to_excel('zerowaste_shop_address.xlsx' , index = False)"
   ]
  }
 ],
 "metadata": {
  "kernelspec": {
   "display_name": "Python 3 (ipykernel)",
   "language": "python",
   "name": "python3"
  },
  "language_info": {
   "codemirror_mode": {
    "name": "ipython",
    "version": 3
   },
   "file_extension": ".py",
   "mimetype": "text/x-python",
   "name": "python",
   "nbconvert_exporter": "python",
   "pygments_lexer": "ipython3",
   "version": "3.9.13"
  }
 },
 "nbformat": 4,
 "nbformat_minor": 5
}
