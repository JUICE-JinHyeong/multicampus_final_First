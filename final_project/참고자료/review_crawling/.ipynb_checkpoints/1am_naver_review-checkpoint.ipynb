{
 "cells": [
  {
   "cell_type": "code",
   "execution_count": 5,
   "id": "e0642157",
   "metadata": {},
   "outputs": [],
   "source": [
    "import requests\n",
    "from bs4 import BeautifulSoup as bs\n",
    "from selenium import webdriver\n",
    "from selenium.webdriver.common.by import By\n",
    "import pandas as pd\n",
    "import time\n",
    "\n",
    "from selenium.webdriver.support.ui import WebDriverWait\n",
    "from selenium.webdriver.support import expected_conditions as EC"
   ]
  },
  {
   "cell_type": "code",
   "execution_count": 6,
   "id": "3d59a8d9",
   "metadata": {},
   "outputs": [
    {
     "name": "stderr",
     "output_type": "stream",
     "text": [
      "C:\\Users\\ohans\\AppData\\Local\\Temp\\ipykernel_17476\\319529871.py:3: DeprecationWarning: executable_path has been deprecated, please pass in a Service object\n",
      "  driver = webdriver.Chrome('C:/Users/ohans/driver/chromedriver_win32/chromedriver.exe')\n"
     ]
    }
   ],
   "source": [
    "url = 'https://search.shopping.naver.com/catalog/26120149527?query=%EC%9B%90%EC%97%90%EC%9D%B4%EC%97%A0%EC%8A%A4%ED%8C%8C%ED%81%B4%EB%A7%81&NaPm=ct%3Dlc8e2t0o%7Cci%3D7887d272cdc8ce87276701141c878c98d969a274%7Ctr%3Dslsl%7Csn%3D95694%7Chk%3Da1493ebe33ab92feb6df17bf7094f5711c254aa0'\n",
    "\n",
    "driver = webdriver.Chrome('C:/Users/ohans/driver/chromedriver_win32/chromedriver.exe')\n",
    "driver.get(url)"
   ]
  },
  {
   "cell_type": "code",
   "execution_count": 8,
   "id": "c8840134",
   "metadata": {},
   "outputs": [
    {
     "data": {
      "text/plain": [
       "'너무 잘 먹고 있습니다 :) 신제품인 애플맛이랑 파인애플은 데X소X 맛 같아서 너무 맛있고 블루베리인가요? 베리? 그건 풍선껌! 옛날에 판박이가 들어있던 풍선껌! 그 향과 맛 같아서 베리도 좋고, 라임이 정말.. 사실 모든 제품 중에서 가장 제 입맛은 라임이였어요! 다른 것도 맛있는데 무엇보다 라임맛이 너무 맛있더라고요 굿!! 오리지널은 트레비보다 약간 맛있는 플레인? 플레인만 마시면 맛있는데.. 다른 맛을 먹다가 플레인을 마시면 역시 플레인이구나~ 하게 돼요 ㅋㅋㅋ 그래도 너무 탄산이 강해서 부담스러운 타 제품들과 달리 여기는 탄산이 적당하고 무엇보다 맛이 불호가 없을 정도로 다 좋아서 만족스럽습니다! 최고예요!!'"
      ]
     },
     "execution_count": 8,
     "metadata": {},
     "output_type": "execute_result"
    }
   ],
   "source": [
    "driver.find_elements(By.XPATH, f'//*[@id=\"section_review\"]/ul/li[11]/div[2]/div[1]/p')[0].text"
   ]
  },
  {
   "cell_type": "code",
   "execution_count": 9,
   "id": "ed0c0058",
   "metadata": {},
   "outputs": [
    {
     "data": {
      "text/plain": [
       "348"
      ]
     },
     "execution_count": 9,
     "metadata": {},
     "output_type": "execute_result"
    }
   ],
   "source": [
    "len(driver.find_elements(By.XPATH, f'//*[@id=\"section_review\"]/ul/li[11]/div[2]/div[1]/p')[0].text)"
   ]
  },
  {
   "cell_type": "code",
   "execution_count": null,
   "id": "a2ecdf00",
   "metadata": {},
   "outputs": [],
   "source": []
  },
  {
   "cell_type": "code",
   "execution_count": null,
   "id": "8345911a",
   "metadata": {},
   "outputs": [],
   "source": []
  }
 ],
 "metadata": {
  "kernelspec": {
   "display_name": "Python 3 (ipykernel)",
   "language": "python",
   "name": "python3"
  },
  "language_info": {
   "codemirror_mode": {
    "name": "ipython",
    "version": 3
   },
   "file_extension": ".py",
   "mimetype": "text/x-python",
   "name": "python",
   "nbconvert_exporter": "python",
   "pygments_lexer": "ipython3",
   "version": "3.9.12"
  }
 },
 "nbformat": 4,
 "nbformat_minor": 5
}
