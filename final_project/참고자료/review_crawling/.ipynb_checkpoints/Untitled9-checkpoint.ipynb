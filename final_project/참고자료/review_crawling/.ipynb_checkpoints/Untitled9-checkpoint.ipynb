{
 "cells": [
  {
   "cell_type": "code",
   "execution_count": 1,
   "id": "d139809e",
   "metadata": {},
   "outputs": [],
   "source": [
    "from selenium import webdriver\n",
    "import time\n",
    "import openpyxl\n",
    "from selenium.webdriver.common.by import By"
   ]
  },
  {
   "cell_type": "code",
   "execution_count": 2,
   "id": "b42555d3",
   "metadata": {},
   "outputs": [
    {
     "name": "stderr",
     "output_type": "stream",
     "text": [
      "C:\\Users\\ohans\\AppData\\Local\\Temp\\ipykernel_29296\\1488728337.py:4: DeprecationWarning: executable_path has been deprecated, please pass in a Service object\n",
      "  driver = webdriver.Chrome('diver/chromedriver.exe') # 크롬 창 열기\n"
     ]
    }
   ],
   "source": [
    "wb = openpyxl.Workbook()\n",
    "sheet = wb.active\n",
    "\n",
    "driver = webdriver.Chrome('diver/chromedriver.exe') # 크롬 창 열기\n",
    "\n",
    "url = 'https://search.shopping.naver.com/catalog/26120149527?query=%EC%9B%90%EC%97%90%EC%9D%B4%EC%97%A0%EC%8A%A4%ED%8C%8C%ED%81%B4%EB%A7%81&NaPm=ct%3Dlc8e2t0o%7Cci%3D7887d272cdc8ce87276701141c878c98d969a274%7Ctr%3Dslsl%7Csn%3D95694%7Chk%3Da1493ebe33ab92feb6df17bf7094f5711c254aa0'\n",
    "driver.get(url) # get = 이동시키는 역할\n",
    "time.sleep(1)"
   ]
  },
  {
   "cell_type": "code",
   "execution_count": 14,
   "id": "342274b7",
   "metadata": {},
   "outputs": [
    {
     "ename": "IndentationError",
     "evalue": "unindent does not match any outer indentation level (<tokenize>, line 23)",
     "output_type": "error",
     "traceback": [
      "\u001b[1;36m  File \u001b[1;32m<tokenize>:23\u001b[1;36m\u001b[0m\n\u001b[1;33m    elif page % 10 == 0 :\u001b[0m\n\u001b[1;37m    ^\u001b[0m\n\u001b[1;31mIndentationError\u001b[0m\u001b[1;31m:\u001b[0m unindent does not match any outer indentation level\n"
     ]
    }
   ],
   "source": [
    "# page: 페이지수 ex(1, 11): 1~10페이지 크롤링\n",
    "\n",
    "for page in range(1, 10000):\n",
    "    review_button = driver.find_elements(By.XPATH,'//*[@id=\"section_review\"]/div[3]')\n",
    "    \n",
    "    for idx in range(0, 12):\n",
    "\n",
    "        try : \n",
    "            review_lst = driver.find_elements(By.XPATH, 'driver.find_elements(By.XPATH, f'//*[@id=\"section_review\"]/ul/li[{idx+1}]/div[2]/div/p')\n",
    "            print(idx+1)\n",
    "            time.sleep(1)\n",
    "            driver.implicitly_wait(10)\n",
    "        \n",
    "        except : \n",
    "                print()\n",
    "                                              \n",
    "                                              \n",
    "        if page < 11:\n",
    "            review_button[page -1].click()\n",
    "            time.sleep(1.5)\n",
    "            driver.implicitly_wait(10)\n",
    "        \n",
    "         elif page % 10 == 0 :\n",
    "            driver.find_element(By.XPATH,'//*[@id=\"section_review\"]/div[3]/a[11]').click()\n",
    "            time.sleep(1.5)\n",
    "            driver.implicitly_wait(10)\n",
    "    \n",
    "         else:\n",
    "            review_button[page % 10 + 1].click()\n",
    "            time.sleep(1.5)\n",
    "            driver.implicitly_wait(10)\n",
    "\n",
    "wb.save('네이버_리뷰.xlsx')"
   ]
  },
  {
   "cell_type": "code",
   "execution_count": null,
   "id": "97f37e76",
   "metadata": {},
   "outputs": [],
   "source": []
  },
  {
   "cell_type": "code",
   "execution_count": null,
   "id": "ff80f7e8",
   "metadata": {},
   "outputs": [],
   "source": []
  },
  {
   "cell_type": "code",
   "execution_count": null,
   "id": "8872d96e",
   "metadata": {},
   "outputs": [],
   "source": []
  }
 ],
 "metadata": {
  "kernelspec": {
   "display_name": "Python 3 (ipykernel)",
   "language": "python",
   "name": "python3"
  },
  "language_info": {
   "codemirror_mode": {
    "name": "ipython",
    "version": 3
   },
   "file_extension": ".py",
   "mimetype": "text/x-python",
   "name": "python",
   "nbconvert_exporter": "python",
   "pygments_lexer": "ipython3",
   "version": "3.9.12"
  }
 },
 "nbformat": 4,
 "nbformat_minor": 5
}
