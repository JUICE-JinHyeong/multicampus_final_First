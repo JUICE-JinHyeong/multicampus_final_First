{
 "cells": [
  {
   "cell_type": "code",
   "execution_count": 5,
   "id": "53ddba05",
   "metadata": {},
   "outputs": [],
   "source": [
    "from selenium import webdriver\n",
    "from selenium.webdriver.common.keys import Keys\n",
    "from selenium.webdriver.common.by import By\n",
    "from bs4 import BeautifulSoup\n",
    "from time import sleep\n",
    "import requests\n",
    "import re\n",
    "import pandas as pd\n",
    "import numpy as np\n",
    "import os\n",
    "\n",
    "from selenium.webdriver.common.keys import Keys"
   ]
  },
  {
   "cell_type": "code",
   "execution_count": 2,
   "id": "014ba371",
   "metadata": {},
   "outputs": [],
   "source": [
    "name=['SK매직 식기세척기']\n",
    "category=['별점']\n",
    "\n",
    "#SK매직 식기세척기 후기\n",
    "ns_address=\"https://search.shopping.naver.com/catalog/5405693375?query=SK%EB%A7%A4%EC%A7%81%20%EC%8B%9D%EA%B8%B0%EC%84%B8%EC%B2%99%EA%B8%B0%2012%EC%9D%B8%EC%9A%A9&NaPm=ct%3Dkpmnppnc%7Cci%3De156cc3ce67df7506bcc4855ba0ca3121bcb652b%7Ctr%3Dslsl%7Csn%3D95694%7Chk%3D87a66c81e1083edb5b5fa51a8403cb1f3885c053\"\n",
    "#xpath\n",
    "shoppingmall_review=\"/html/body/div/div/div[2]/div[2]/div[2]/div[3]/div[2]/div/div[2]/ul/li[4]/a/strong\"\n",
    "category1=\"/html/body/div/div/div[2]/div[2]/div[2]/div[3]/div[6]/div[2]/div[2]/ul/li[4]/a\" #3점\n",
    "category2=\"/html/body/div/div/div[2]/div[2]/div[2]/div[3]/div[6]/div[2]/div[2]/ul/li[5]/a\" #2점\n",
    "category3=\"/html/body/div/div/div[2]/div[2]/div[2]/div[3]/div[6]/div[2]/div[2]/ul/li[6]/a\" #1점\n",
    "category4=\"/html/body/div/div/div[2]/div[2]/div[2]/div[3]/div[6]/div[2]/div[2]/ul/li[3]/a\" #4점"
   ]
  },
  {
   "cell_type": "code",
   "execution_count": 6,
   "id": "37655cba",
   "metadata": {},
   "outputs": [
    {
     "name": "stderr",
     "output_type": "stream",
     "text": [
      "C:\\Users\\ohans\\AppData\\Local\\Temp\\ipykernel_37772\\4225468418.py:2: DeprecationWarning: executable_path has been deprecated, please pass in a Service object\n",
      "  d = webdriver.Chrome('diver/chromedriver.exe') # webdriver = chrome\n",
      "C:\\Users\\ohans\\anaconda3\\lib\\site-packages\\urllib3\\connectionpool.py:1043: InsecureRequestWarning: Unverified HTTPS request is being made to host 'search.shopping.naver.com'. Adding certificate verification is strongly advised. See: https://urllib3.readthedocs.io/en/1.26.x/advanced-usage.html#ssl-warnings\n",
      "  warnings.warn(\n"
     ]
    },
    {
     "ename": "NoSuchElementException",
     "evalue": "Message: no such element: Unable to locate element: {\"method\":\"xpath\",\"selector\":\"shoppingmall_review\"}\n  (Session info: chrome=108.0.5359.125)\nStacktrace:\nBacktrace:\n\t(No symbol) [0x0099F243]\n\t(No symbol) [0x00927FD1]\n\t(No symbol) [0x0081D04D]\n\t(No symbol) [0x0084C0B0]\n\t(No symbol) [0x0084C22B]\n\t(No symbol) [0x0087E612]\n\t(No symbol) [0x008685D4]\n\t(No symbol) [0x0087C9EB]\n\t(No symbol) [0x00868386]\n\t(No symbol) [0x0084163C]\n\t(No symbol) [0x0084269D]\n\tGetHandleVerifier [0x00C39A22+2655074]\n\tGetHandleVerifier [0x00C2CA24+2601828]\n\tGetHandleVerifier [0x00A48C0A+619850]\n\tGetHandleVerifier [0x00A47830+614768]\n\t(No symbol) [0x009305FC]\n\t(No symbol) [0x00935968]\n\t(No symbol) [0x00935A55]\n\t(No symbol) [0x0094051B]\n\tBaseThreadInitThunk [0x77B500F9+25]\n\tRtlGetAppContainerNamedObjectPath [0x77E87BBE+286]\n\tRtlGetAppContainerNamedObjectPath [0x77E87B8E+238]\n",
     "output_type": "error",
     "traceback": [
      "\u001b[1;31m---------------------------------------------------------------------------\u001b[0m",
      "\u001b[1;31mNoSuchElementException\u001b[0m                    Traceback (most recent call last)",
      "Input \u001b[1;32mIn [6]\u001b[0m, in \u001b[0;36m<cell line: 14>\u001b[1;34m()\u001b[0m\n\u001b[0;32m      8\u001b[0m sleep(\u001b[38;5;241m2\u001b[39m)\n\u001b[0;32m     10\u001b[0m \u001b[38;5;66;03m#쇼핑몰 리뷰 보기\u001b[39;00m\n\u001b[0;32m     11\u001b[0m \u001b[38;5;66;03m#d.find_element_by_xpath(shoppingmall_review).click()\u001b[39;00m\n\u001b[0;32m     12\u001b[0m \u001b[38;5;66;03m#sleep(2)\u001b[39;00m\n\u001b[1;32m---> 14\u001b[0m element\u001b[38;5;241m=\u001b[39m\u001b[43md\u001b[49m\u001b[38;5;241;43m.\u001b[39;49m\u001b[43mfind_element\u001b[49m\u001b[43m(\u001b[49m\u001b[43mBy\u001b[49m\u001b[38;5;241;43m.\u001b[39;49m\u001b[43mXPATH\u001b[49m\u001b[43m,\u001b[49m\u001b[43m \u001b[49m\u001b[38;5;124;43m'\u001b[39;49m\u001b[38;5;124;43mshoppingmall_review\u001b[39;49m\u001b[38;5;124;43m'\u001b[39;49m\u001b[43m)\u001b[49m\n\u001b[0;32m     15\u001b[0m d\u001b[38;5;241m.\u001b[39mexecute_script(\u001b[38;5;124m\"\u001b[39m\u001b[38;5;124marguments[0].click();\u001b[39m\u001b[38;5;124m\"\u001b[39m, element)\n\u001b[0;32m     16\u001b[0m sleep(\u001b[38;5;241m2\u001b[39m)\n",
      "File \u001b[1;32m~\\anaconda3\\lib\\site-packages\\selenium\\webdriver\\remote\\webdriver.py:861\u001b[0m, in \u001b[0;36mWebDriver.find_element\u001b[1;34m(self, by, value)\u001b[0m\n\u001b[0;32m    858\u001b[0m     by \u001b[38;5;241m=\u001b[39m By\u001b[38;5;241m.\u001b[39mCSS_SELECTOR\n\u001b[0;32m    859\u001b[0m     value \u001b[38;5;241m=\u001b[39m \u001b[38;5;124m'\u001b[39m\u001b[38;5;124m[name=\u001b[39m\u001b[38;5;124m\"\u001b[39m\u001b[38;5;132;01m%s\u001b[39;00m\u001b[38;5;124m\"\u001b[39m\u001b[38;5;124m]\u001b[39m\u001b[38;5;124m'\u001b[39m \u001b[38;5;241m%\u001b[39m value\n\u001b[1;32m--> 861\u001b[0m \u001b[38;5;28;01mreturn\u001b[39;00m \u001b[38;5;28;43mself\u001b[39;49m\u001b[38;5;241;43m.\u001b[39;49m\u001b[43mexecute\u001b[49m\u001b[43m(\u001b[49m\u001b[43mCommand\u001b[49m\u001b[38;5;241;43m.\u001b[39;49m\u001b[43mFIND_ELEMENT\u001b[49m\u001b[43m,\u001b[49m\u001b[43m \u001b[49m\u001b[43m{\u001b[49m\u001b[38;5;124;43m\"\u001b[39;49m\u001b[38;5;124;43musing\u001b[39;49m\u001b[38;5;124;43m\"\u001b[39;49m\u001b[43m:\u001b[49m\u001b[43m \u001b[49m\u001b[43mby\u001b[49m\u001b[43m,\u001b[49m\u001b[43m \u001b[49m\u001b[38;5;124;43m\"\u001b[39;49m\u001b[38;5;124;43mvalue\u001b[39;49m\u001b[38;5;124;43m\"\u001b[39;49m\u001b[43m:\u001b[49m\u001b[43m \u001b[49m\u001b[43mvalue\u001b[49m\u001b[43m}\u001b[49m\u001b[43m)\u001b[49m[\u001b[38;5;124m\"\u001b[39m\u001b[38;5;124mvalue\u001b[39m\u001b[38;5;124m\"\u001b[39m]\n",
      "File \u001b[1;32m~\\anaconda3\\lib\\site-packages\\selenium\\webdriver\\remote\\webdriver.py:444\u001b[0m, in \u001b[0;36mWebDriver.execute\u001b[1;34m(self, driver_command, params)\u001b[0m\n\u001b[0;32m    442\u001b[0m response \u001b[38;5;241m=\u001b[39m \u001b[38;5;28mself\u001b[39m\u001b[38;5;241m.\u001b[39mcommand_executor\u001b[38;5;241m.\u001b[39mexecute(driver_command, params)\n\u001b[0;32m    443\u001b[0m \u001b[38;5;28;01mif\u001b[39;00m response:\n\u001b[1;32m--> 444\u001b[0m     \u001b[38;5;28;43mself\u001b[39;49m\u001b[38;5;241;43m.\u001b[39;49m\u001b[43merror_handler\u001b[49m\u001b[38;5;241;43m.\u001b[39;49m\u001b[43mcheck_response\u001b[49m\u001b[43m(\u001b[49m\u001b[43mresponse\u001b[49m\u001b[43m)\u001b[49m\n\u001b[0;32m    445\u001b[0m     response[\u001b[38;5;124m\"\u001b[39m\u001b[38;5;124mvalue\u001b[39m\u001b[38;5;124m\"\u001b[39m] \u001b[38;5;241m=\u001b[39m \u001b[38;5;28mself\u001b[39m\u001b[38;5;241m.\u001b[39m_unwrap_value(response\u001b[38;5;241m.\u001b[39mget(\u001b[38;5;124m\"\u001b[39m\u001b[38;5;124mvalue\u001b[39m\u001b[38;5;124m\"\u001b[39m, \u001b[38;5;28;01mNone\u001b[39;00m))\n\u001b[0;32m    446\u001b[0m     \u001b[38;5;28;01mreturn\u001b[39;00m response\n",
      "File \u001b[1;32m~\\anaconda3\\lib\\site-packages\\selenium\\webdriver\\remote\\errorhandler.py:249\u001b[0m, in \u001b[0;36mErrorHandler.check_response\u001b[1;34m(self, response)\u001b[0m\n\u001b[0;32m    247\u001b[0m         alert_text \u001b[38;5;241m=\u001b[39m value[\u001b[38;5;124m\"\u001b[39m\u001b[38;5;124malert\u001b[39m\u001b[38;5;124m\"\u001b[39m]\u001b[38;5;241m.\u001b[39mget(\u001b[38;5;124m\"\u001b[39m\u001b[38;5;124mtext\u001b[39m\u001b[38;5;124m\"\u001b[39m)\n\u001b[0;32m    248\u001b[0m     \u001b[38;5;28;01mraise\u001b[39;00m exception_class(message, screen, stacktrace, alert_text)  \u001b[38;5;66;03m# type: ignore[call-arg]  # mypy is not smart enough here\u001b[39;00m\n\u001b[1;32m--> 249\u001b[0m \u001b[38;5;28;01mraise\u001b[39;00m exception_class(message, screen, stacktrace)\n",
      "\u001b[1;31mNoSuchElementException\u001b[0m: Message: no such element: Unable to locate element: {\"method\":\"xpath\",\"selector\":\"shoppingmall_review\"}\n  (Session info: chrome=108.0.5359.125)\nStacktrace:\nBacktrace:\n\t(No symbol) [0x0099F243]\n\t(No symbol) [0x00927FD1]\n\t(No symbol) [0x0081D04D]\n\t(No symbol) [0x0084C0B0]\n\t(No symbol) [0x0084C22B]\n\t(No symbol) [0x0087E612]\n\t(No symbol) [0x008685D4]\n\t(No symbol) [0x0087C9EB]\n\t(No symbol) [0x00868386]\n\t(No symbol) [0x0084163C]\n\t(No symbol) [0x0084269D]\n\tGetHandleVerifier [0x00C39A22+2655074]\n\tGetHandleVerifier [0x00C2CA24+2601828]\n\tGetHandleVerifier [0x00A48C0A+619850]\n\tGetHandleVerifier [0x00A47830+614768]\n\t(No symbol) [0x009305FC]\n\t(No symbol) [0x00935968]\n\t(No symbol) [0x00935A55]\n\t(No symbol) [0x0094051B]\n\tBaseThreadInitThunk [0x77B500F9+25]\n\tRtlGetAppContainerNamedObjectPath [0x77E87BBE+286]\n\tRtlGetAppContainerNamedObjectPath [0x77E87B8E+238]\n"
     ]
    }
   ],
   "source": [
    "header = {'User-Agent': ''}\n",
    "d = webdriver.Chrome('diver/chromedriver.exe') # webdriver = chrome\n",
    "d.implicitly_wait(3)\n",
    "d.get(ns_address)\n",
    "req = requests.get(ns_address,verify=False)\n",
    "html = req.text \n",
    "soup = BeautifulSoup(html, \"html.parser\")\n",
    "sleep(2)\n",
    "\n",
    "#쇼핑몰 리뷰 보기\n",
    "#d.find_element_by_xpath(shoppingmall_review).click()\n",
    "#sleep(2)\n",
    "\n",
    "element=d.find_element(By.XPATH, 'shoppingmall_review')\n",
    "d.execute_script(\"arguments[0].click();\", element)\n",
    "sleep(2)"
   ]
  },
  {
   "cell_type": "code",
   "execution_count": 7,
   "id": "84d1ab75",
   "metadata": {},
   "outputs": [],
   "source": [
    "def add_dataframe(name,category,reviews,stars,cnt):  #데이터 프레임에 저장\n",
    "    #데이터 프레임생성\n",
    "    df1=pd.DataFrame(columns=['type','category','review','star'])\n",
    "    n=1\n",
    "    if (cnt>0):\n",
    "        for i in range(0,cnt-1):\n",
    "            df1.loc[n]=[name,category,reviews[i],stars[i]] #해당 행에 저장\n",
    "            i+=1\n",
    "            n+=1\n",
    "    else:\n",
    "        df1.loc[n]=[name,category,'null','null']\n",
    "        n+=1    \n",
    "    return df1"
   ]
  },
  {
   "cell_type": "code",
   "execution_count": 10,
   "id": "092f2f7c",
   "metadata": {
    "collapsed": true
   },
   "outputs": [
    {
     "ename": "NoSuchElementException",
     "evalue": "Message: no such element: Unable to locate element: {\"method\":\"xpath\",\"selector\":\"(category3)\"}\n  (Session info: chrome=108.0.5359.125)\nStacktrace:\nBacktrace:\n\t(No symbol) [0x0099F243]\n\t(No symbol) [0x00927FD1]\n\t(No symbol) [0x0081D04D]\n\t(No symbol) [0x0084C0B0]\n\t(No symbol) [0x0084C22B]\n\t(No symbol) [0x0087E612]\n\t(No symbol) [0x008685D4]\n\t(No symbol) [0x0087C9EB]\n\t(No symbol) [0x00868386]\n\t(No symbol) [0x0084163C]\n\t(No symbol) [0x0084269D]\n\tGetHandleVerifier [0x00C39A22+2655074]\n\tGetHandleVerifier [0x00C2CA24+2601828]\n\tGetHandleVerifier [0x00A48C0A+619850]\n\tGetHandleVerifier [0x00A47830+614768]\n\t(No symbol) [0x009305FC]\n\t(No symbol) [0x00935968]\n\t(No symbol) [0x00935A55]\n\t(No symbol) [0x0094051B]\n\tBaseThreadInitThunk [0x77B500F9+25]\n\tRtlGetAppContainerNamedObjectPath [0x77E87BBE+286]\n\tRtlGetAppContainerNamedObjectPath [0x77E87B8E+238]\n",
     "output_type": "error",
     "traceback": [
      "\u001b[1;31m---------------------------------------------------------------------------\u001b[0m",
      "\u001b[1;31mNoSuchElementException\u001b[0m                    Traceback (most recent call last)",
      "Input \u001b[1;32mIn [10]\u001b[0m, in \u001b[0;36m<cell line: 1>\u001b[1;34m()\u001b[0m\n\u001b[1;32m----> 1\u001b[0m \u001b[43md\u001b[49m\u001b[38;5;241;43m.\u001b[39;49m\u001b[43mfind_element\u001b[49m\u001b[43m(\u001b[49m\u001b[43mBy\u001b[49m\u001b[38;5;241;43m.\u001b[39;49m\u001b[43mXPATH\u001b[49m\u001b[43m,\u001b[49m\u001b[43m \u001b[49m\u001b[38;5;124;43m'\u001b[39;49m\u001b[38;5;124;43m(category3)\u001b[39;49m\u001b[38;5;124;43m'\u001b[39;49m\u001b[43m)\u001b[49m\u001b[38;5;241m.\u001b[39mclick() \u001b[38;5;66;03m#스크롤 건드리면 안됨\u001b[39;00m\n\u001b[0;32m      2\u001b[0m name_\u001b[38;5;241m=\u001b[39mname[\u001b[38;5;241m0\u001b[39m]\n\u001b[0;32m      3\u001b[0m category_\u001b[38;5;241m=\u001b[39mcategory[\u001b[38;5;241m0\u001b[39m]\n",
      "File \u001b[1;32m~\\anaconda3\\lib\\site-packages\\selenium\\webdriver\\remote\\webdriver.py:861\u001b[0m, in \u001b[0;36mWebDriver.find_element\u001b[1;34m(self, by, value)\u001b[0m\n\u001b[0;32m    858\u001b[0m     by \u001b[38;5;241m=\u001b[39m By\u001b[38;5;241m.\u001b[39mCSS_SELECTOR\n\u001b[0;32m    859\u001b[0m     value \u001b[38;5;241m=\u001b[39m \u001b[38;5;124m'\u001b[39m\u001b[38;5;124m[name=\u001b[39m\u001b[38;5;124m\"\u001b[39m\u001b[38;5;132;01m%s\u001b[39;00m\u001b[38;5;124m\"\u001b[39m\u001b[38;5;124m]\u001b[39m\u001b[38;5;124m'\u001b[39m \u001b[38;5;241m%\u001b[39m value\n\u001b[1;32m--> 861\u001b[0m \u001b[38;5;28;01mreturn\u001b[39;00m \u001b[38;5;28;43mself\u001b[39;49m\u001b[38;5;241;43m.\u001b[39;49m\u001b[43mexecute\u001b[49m\u001b[43m(\u001b[49m\u001b[43mCommand\u001b[49m\u001b[38;5;241;43m.\u001b[39;49m\u001b[43mFIND_ELEMENT\u001b[49m\u001b[43m,\u001b[49m\u001b[43m \u001b[49m\u001b[43m{\u001b[49m\u001b[38;5;124;43m\"\u001b[39;49m\u001b[38;5;124;43musing\u001b[39;49m\u001b[38;5;124;43m\"\u001b[39;49m\u001b[43m:\u001b[49m\u001b[43m \u001b[49m\u001b[43mby\u001b[49m\u001b[43m,\u001b[49m\u001b[43m \u001b[49m\u001b[38;5;124;43m\"\u001b[39;49m\u001b[38;5;124;43mvalue\u001b[39;49m\u001b[38;5;124;43m\"\u001b[39;49m\u001b[43m:\u001b[49m\u001b[43m \u001b[49m\u001b[43mvalue\u001b[49m\u001b[43m}\u001b[49m\u001b[43m)\u001b[49m[\u001b[38;5;124m\"\u001b[39m\u001b[38;5;124mvalue\u001b[39m\u001b[38;5;124m\"\u001b[39m]\n",
      "File \u001b[1;32m~\\anaconda3\\lib\\site-packages\\selenium\\webdriver\\remote\\webdriver.py:444\u001b[0m, in \u001b[0;36mWebDriver.execute\u001b[1;34m(self, driver_command, params)\u001b[0m\n\u001b[0;32m    442\u001b[0m response \u001b[38;5;241m=\u001b[39m \u001b[38;5;28mself\u001b[39m\u001b[38;5;241m.\u001b[39mcommand_executor\u001b[38;5;241m.\u001b[39mexecute(driver_command, params)\n\u001b[0;32m    443\u001b[0m \u001b[38;5;28;01mif\u001b[39;00m response:\n\u001b[1;32m--> 444\u001b[0m     \u001b[38;5;28;43mself\u001b[39;49m\u001b[38;5;241;43m.\u001b[39;49m\u001b[43merror_handler\u001b[49m\u001b[38;5;241;43m.\u001b[39;49m\u001b[43mcheck_response\u001b[49m\u001b[43m(\u001b[49m\u001b[43mresponse\u001b[49m\u001b[43m)\u001b[49m\n\u001b[0;32m    445\u001b[0m     response[\u001b[38;5;124m\"\u001b[39m\u001b[38;5;124mvalue\u001b[39m\u001b[38;5;124m\"\u001b[39m] \u001b[38;5;241m=\u001b[39m \u001b[38;5;28mself\u001b[39m\u001b[38;5;241m.\u001b[39m_unwrap_value(response\u001b[38;5;241m.\u001b[39mget(\u001b[38;5;124m\"\u001b[39m\u001b[38;5;124mvalue\u001b[39m\u001b[38;5;124m\"\u001b[39m, \u001b[38;5;28;01mNone\u001b[39;00m))\n\u001b[0;32m    446\u001b[0m     \u001b[38;5;28;01mreturn\u001b[39;00m response\n",
      "File \u001b[1;32m~\\anaconda3\\lib\\site-packages\\selenium\\webdriver\\remote\\errorhandler.py:249\u001b[0m, in \u001b[0;36mErrorHandler.check_response\u001b[1;34m(self, response)\u001b[0m\n\u001b[0;32m    247\u001b[0m         alert_text \u001b[38;5;241m=\u001b[39m value[\u001b[38;5;124m\"\u001b[39m\u001b[38;5;124malert\u001b[39m\u001b[38;5;124m\"\u001b[39m]\u001b[38;5;241m.\u001b[39mget(\u001b[38;5;124m\"\u001b[39m\u001b[38;5;124mtext\u001b[39m\u001b[38;5;124m\"\u001b[39m)\n\u001b[0;32m    248\u001b[0m     \u001b[38;5;28;01mraise\u001b[39;00m exception_class(message, screen, stacktrace, alert_text)  \u001b[38;5;66;03m# type: ignore[call-arg]  # mypy is not smart enough here\u001b[39;00m\n\u001b[1;32m--> 249\u001b[0m \u001b[38;5;28;01mraise\u001b[39;00m exception_class(message, screen, stacktrace)\n",
      "\u001b[1;31mNoSuchElementException\u001b[0m: Message: no such element: Unable to locate element: {\"method\":\"xpath\",\"selector\":\"(category3)\"}\n  (Session info: chrome=108.0.5359.125)\nStacktrace:\nBacktrace:\n\t(No symbol) [0x0099F243]\n\t(No symbol) [0x00927FD1]\n\t(No symbol) [0x0081D04D]\n\t(No symbol) [0x0084C0B0]\n\t(No symbol) [0x0084C22B]\n\t(No symbol) [0x0087E612]\n\t(No symbol) [0x008685D4]\n\t(No symbol) [0x0087C9EB]\n\t(No symbol) [0x00868386]\n\t(No symbol) [0x0084163C]\n\t(No symbol) [0x0084269D]\n\tGetHandleVerifier [0x00C39A22+2655074]\n\tGetHandleVerifier [0x00C2CA24+2601828]\n\tGetHandleVerifier [0x00A48C0A+619850]\n\tGetHandleVerifier [0x00A47830+614768]\n\t(No symbol) [0x009305FC]\n\t(No symbol) [0x00935968]\n\t(No symbol) [0x00935A55]\n\t(No symbol) [0x0094051B]\n\tBaseThreadInitThunk [0x77B500F9+25]\n\tRtlGetAppContainerNamedObjectPath [0x77E87BBE+286]\n\tRtlGetAppContainerNamedObjectPath [0x77E87B8E+238]\n"
     ]
    }
   ],
   "source": [
    "d.find_element(By.XPATH, '(category3)').click() #스크롤 건드리면 안됨\n",
    "name_=name[0]\n",
    "category_=category[0]\n",
    "reviews=[]\n",
    "stars=[]\n",
    "cnt=1   #리뷰index\n",
    "page=1"
   ]
  },
  {
   "cell_type": "code",
   "execution_count": null,
   "id": "cd6bfd5c",
   "metadata": {},
   "outputs": [],
   "source": []
  },
  {
   "cell_type": "code",
   "execution_count": null,
   "id": "107bbc1f",
   "metadata": {},
   "outputs": [],
   "source": []
  }
 ],
 "metadata": {
  "kernelspec": {
   "display_name": "Python 3 (ipykernel)",
   "language": "python",
   "name": "python3"
  },
  "language_info": {
   "codemirror_mode": {
    "name": "ipython",
    "version": 3
   },
   "file_extension": ".py",
   "mimetype": "text/x-python",
   "name": "python",
   "nbconvert_exporter": "python",
   "pygments_lexer": "ipython3",
   "version": "3.9.12"
  }
 },
 "nbformat": 4,
 "nbformat_minor": 5
}
