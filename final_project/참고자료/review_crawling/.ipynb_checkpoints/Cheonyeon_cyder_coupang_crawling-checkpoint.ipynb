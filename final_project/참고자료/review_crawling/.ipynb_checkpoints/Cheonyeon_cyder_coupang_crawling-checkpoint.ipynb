{
 "cells": [
  {
   "cell_type": "code",
   "execution_count": 3,
   "id": "e325a34f",
   "metadata": {
    "scrolled": false
   },
   "outputs": [
    {
     "name": "stderr",
     "output_type": "stream",
     "text": [
      "C:\\Users\\PiGiraffe0\\AppData\\Local\\Temp\\ipykernel_21984\\2683175839.py:11: DeprecationWarning: executable_path has been deprecated, please pass in a Service object\n",
      "  driver = webdriver.Chrome('diver/chromedriver.exe', chrome_options=options)\n",
      "C:\\Users\\PiGiraffe0\\AppData\\Local\\Temp\\ipykernel_21984\\2683175839.py:11: DeprecationWarning: use options instead of chrome_options\n",
      "  driver = webdriver.Chrome('diver/chromedriver.exe', chrome_options=options)\n"
     ]
    }
   ],
   "source": [
    "from selenium import webdriver\n",
    "from selenium.webdriver.chrome.options import Options\n",
    "import subprocess\n",
    "import shutil\n",
    "\n",
    "subprocess.Popen(r'C:/Program Files (x86)/Google/Chrome/Application/chrome.exe --remote-debugging-port=9222 --user-data-dir=\"C:\\chrometemp\"')\n",
    "\n",
    "options = webdriver.ChromeOptions()\n",
    "options.add_experimental_option(\"debuggerAddress\", \"127.0.0.1:9222\")\n",
    "\n",
    "driver = webdriver.Chrome('diver/chromedriver.exe', chrome_options=options)\n",
    "\n",
    "driver.implicitly_wait(3)\n",
    "\n",
    "# 천연사이다 제로\n",
    "url = 'https://www.coupang.com/vp/products/1650226?itemId=548271199&vendorItemId=76475901781&sourceType=srp_product_ads&clickEventId=43762c0f-83ba-4aa8-8f15-d14c61d896b0&korePlacement=15&koreSubPlacement=5&q=%EC%B2%9C%EC%97%B0%EC%82%AC%EC%9D%B4%EB%8B%A4+%EC%A0%9C%EB%A1%9C&itemsCount=36&searchId=a0c6bdf22e29490fbfd1089a5ce8bc5f&rank=4&isAddedCart='\n",
    "driver.get(url)"
   ]
  },
  {
   "cell_type": "code",
   "execution_count": 7,
   "id": "4284104f",
   "metadata": {},
   "outputs": [],
   "source": [
    "from selenium.webdriver.common.by import By\n",
    "import pandas as pd\n",
    "import time\n",
    "\n",
    "from selenium.webdriver.support.ui import WebDriverWait\n",
    "from selenium.webdriver.support import expected_conditions as EC"
   ]
  },
  {
   "cell_type": "code",
   "execution_count": 8,
   "id": "ae805b53",
   "metadata": {},
   "outputs": [],
   "source": [
    "driver.find_element(By.XPATH , '//*[@id=\"btfTab\"]/ul[1]/li[2]').click()"
   ]
  },
  {
   "cell_type": "code",
   "execution_count": 10,
   "id": "1bb0ba84",
   "metadata": {},
   "outputs": [
    {
     "data": {
      "text/plain": [
       "'-구매일자 : 10월 1일\\n-결제금액 : 10750 (배송비 포함)\\n\\n평소에는 천연사이다를 병으로 사다가 마시는데\\n그럴때마다 컵에 따라 마시니\\n오히려 한 번에 더 많이 먹는 일도 생겼어요\\n\\n캔으로 마시면 양이 딱 정해져있으니까\\n하루에 하나씩 마시면\\n탄산을 너무 많이 마시는 일도 없을 것 같아서\\n한 캔씩 사다가 마시니\\n이번에는 비용이 더 들었어요\\n\\n아예 여러 개를 사두고\\n필요할 때마다 하나씩 먹자해서\\n처음으로 천연사이다를 다량 주문했네요ㅎㅎ\\n\\n천연사이다 캔의 탄산은 딱 적당하다 싶어요\\n\\n탄산의 세기가 너무 강하지도 않고 적당해서\\n식후에 한 잔씩 마시면 맞더라고요\\n\\n천연사이다에 자몽착즙주스를 넣어서\\n자몽에이드처럼 먹어도 맛있었어요\\n\\n여름에는 천연사이다를 이용해서\\n과일이랑 얼음이랑 넣어서\\n화채같은 걸 만들어도 맛있는데\\n그냥 자몽청 같은 것만 넣고\\n에이드로 만들어 먹어도 맛있는 것 같아요\\n\\n당류가 걱정되어서 제로 천연사이다를 구매할까 했는데\\n솔직히 사이다는 달달한게 맛있고\\n제로 천연사이다는 안 먹어봐서 시도하기가 좀 겁났어요\\n\\n천연사이다는 기존에 다른 사이다랑\\n약간은 맛이 다른 것 같아요\\n\\n뭔가 조금 더 깔끔한 맛이 나는 것 같은데\\n그래서인지 가끔씩 다른 사이다보다\\n천연사이다가 더 땡길 때가 있어요\\n\\n한 캔씩 따서 마시면\\n편리하고 190ml씩 마실 수 있으니까\\n적당해서 좋아요\\n\\n다음에도 구매해서\\n시원하게 보관해야겠어요ㅎㅎ\\n\\n\\n*제품 특징*\\n\\n톡톡 쏘는 짜릿한 탄산의 맛\\n-톡 쏘는 탄산수로 가슴까지 시원하게\\n\\n달콤 시원한 탄산음료\\n-달콤 시원한 맛의 탄산음료로 업그레이드\\n\\n\\n*물건을 구매하고 느낀 솔직한 리뷰를 작성하기 위해서 노력하겠습니다.'"
      ]
     },
     "execution_count": 10,
     "metadata": {},
     "output_type": "execute_result"
    }
   ],
   "source": [
    "# 크롤링  확인\n",
    "driver.find_element(By.XPATH , '//*[@id=\"btfTab\"]/ul[2]/li[3]/div/div[6]/section[4]/article[1]/div[4]/div').text"
   ]
  },
  {
   "cell_type": "code",
   "execution_count": 15,
   "id": "1ea38aa1",
   "metadata": {},
   "outputs": [
    {
     "data": {
      "text/plain": [
       "5"
      ]
     },
     "execution_count": 15,
     "metadata": {},
     "output_type": "execute_result"
    }
   ],
   "source": [
    "# 쿠팡은 리뷰 한 페이지에 5개의 리뷰가 올라온다.\n",
    "len(driver.find_elements(By.CLASS_NAME , \"sdp-review__article__list__info\"))"
   ]
  },
  {
   "cell_type": "code",
   "execution_count": 17,
   "id": "b265ee61",
   "metadata": {
    "collapsed": true
   },
   "outputs": [
    {
     "name": "stdout",
     "output_type": "stream",
     "text": [
      "-구매일자 : 10월 1일\n",
      "-결제금액 : 10750 (배송비 포함)\n",
      "\n",
      "평소에는 천연사이다를 병으로 사다가 마시는데\n",
      "그럴때마다 컵에 따라 마시니\n",
      "오히려 한 번에 더 많이 먹는 일도 생겼어요\n",
      "\n",
      "캔으로 마시면 양이 딱 정해져있으니까\n",
      "하루에 하나씩 마시면\n",
      "탄산을 너무 많이 마시는 일도 없을 것 같아서\n",
      "한 캔씩 사다가 마시니\n",
      "이번에는 비용이 더 들었어요\n",
      "\n",
      "아예 여러 개를 사두고\n",
      "필요할 때마다 하나씩 먹자해서\n",
      "처음으로 천연사이다를 다량 주문했네요ㅎㅎ\n",
      "\n",
      "천연사이다 캔의 탄산은 딱 적당하다 싶어요\n",
      "\n",
      "탄산의 세기가 너무 강하지도 않고 적당해서\n",
      "식후에 한 잔씩 마시면 맞더라고요\n",
      "\n",
      "천연사이다에 자몽착즙주스를 넣어서\n",
      "자몽에이드처럼 먹어도 맛있었어요\n",
      "\n",
      "여름에는 천연사이다를 이용해서\n",
      "과일이랑 얼음이랑 넣어서\n",
      "화채같은 걸 만들어도 맛있는데\n",
      "그냥 자몽청 같은 것만 넣고\n",
      "에이드로 만들어 먹어도 맛있는 것 같아요\n",
      "\n",
      "당류가 걱정되어서 제로 천연사이다를 구매할까 했는데\n",
      "솔직히 사이다는 달달한게 맛있고\n",
      "제로 천연사이다는 안 먹어봐서 시도하기가 좀 겁났어요\n",
      "\n",
      "천연사이다는 기존에 다른 사이다랑\n",
      "약간은 맛이 다른 것 같아요\n",
      "\n",
      "뭔가 조금 더 깔끔한 맛이 나는 것 같은데\n",
      "그래서인지 가끔씩 다른 사이다보다\n",
      "천연사이다가 더 땡길 때가 있어요\n",
      "\n",
      "한 캔씩 따서 마시면\n",
      "편리하고 190ml씩 마실 수 있으니까\n",
      "적당해서 좋아요\n",
      "\n",
      "다음에도 구매해서\n",
      "시원하게 보관해야겠어요ㅎㅎ\n",
      "\n",
      "\n",
      "*제품 특징*\n",
      "\n",
      "톡톡 쏘는 짜릿한 탄산의 맛\n",
      "-톡 쏘는 탄산수로 가슴까지 시원하게\n",
      "\n",
      "달콤 시원한 탄산음료\n",
      "-달콤 시원한 맛의 탄산음료로 업그레이드\n",
      "\n",
      "\n",
      "*물건을 구매하고 느낀 솔직한 리뷰를 작성하기 위해서 노력하겠습니다.\n",
      "솔직하게 쓰는 구매리뷰입니다\n",
      "\n",
      "구매하는데 참고가 되면 좋겠습니다~\n",
      "\n",
      "\n",
      "\n",
      "\n",
      "콜라보단 사이다를 더 좋아해서 평도 괜찮고 가격이 너무 착하길래 주문을 했습니다 전용 박스에 송장 붙여서 새벽에 배송이 되었습니다. 맛을 보니... 흠... 뭔 맛이지!! 근데 이게 무슨 뽕다 소다맛인가요? 제입엔 전혀 아닙니다 ;;\n",
      "\n",
      "뽕다 소다맛을 내가 안 먹어본것도 아니고 그새 뽕따 맛이 바꼈을리도 없고;;; 뽕다 소다맛하고는 전혀 거리가 멉니다\n",
      "\n",
      "솔찌키 맛이 사이다랑 차이가 있네요 !! 전 감기시럽 맛이 나는거 같기도하고 미에로화이바 맛이 나드라구요. 첫째한테 조금만 먹어보라니 치약맛이난다고 합니다 치약은 생각도 못했는데... ㅋ.ㅋ\n",
      "\n",
      "신랑은 초창기 사이다 맛이라고 합니다 처음에 사이다 맛이 이랬다고.. 그걸 어찌 기억하냐니... 맛이 특이해서 기억이 난다고 합니다.\n",
      "\n",
      "저는 이제품을 구매한 이유가 성분을 보니 그닥 안 좋은 첨가물이 없어서이고 가격도 착해서 구매를 했습니다 성분만 따지고 보면 나쁘진 않은거 같습니다.\n",
      "\n",
      "감미료도 아스파탐이나 효소처리스테비아를 넣지 않고 훨씬 좋은 성분인 수크랄로스를 넣어서 좋았구요!! 그리고 이름을 천연 사이다라고 지은것이 트레할로스 때문인거 같은데요.\n",
      "\n",
      "보통 당은 탄소원자 대여섯 개로 이뤄진 분자를 기본단위로 합니다. 이런 분자 하나로 이뤄진 당을 단당류라고 부르는데 포도당과 과당이 대표적인 것입니다.\n",
      "\n",
      "단당류 두 개가 결합된 게 이당류로 설탕(자당). 젖당(유당), 맥아당이 있습니다. 단당류 여러 개가 결합된 게 올리고당이고 수백 개 이상이 결합된 다당류로 녹말과 셀룰로오스가 있습니다.\n",
      "\n",
      "트레할로스는 식물이나 곤충에서 발견되는 자연당 입니다. 사람의 소장에는 트레할로스를 분해하는 효소인 트레할라제가 있기 때문에 음식으로 섭취한 트레할로스를 포도당으로 바꿔 흡수할 수 있습니다\n",
      "\n",
      "\n",
      "그러나 일부 대장으로 들어와 박테리아의 먹이가 될수도 있으니 많이 먹지는 않는게 좋을거 같습니다설탕에 비해 당도가 많이 떨어져 트레할로스를 감미료로 쓸 이유가 없습니다\n",
      "\n",
      "그러나 고온의 악조건에서도 안정한 분자이기 때문에 사용 하는거 같습니다. 원래는 고가원료이나 녹말을 효소처리해 트레할로스를 만들어내는 방법을 개발했고 가격이 엄청 저렴해졌습니다.\n",
      "\n",
      "\n",
      "\n",
      "===========================================================\n",
      "\n",
      "\n",
      "맛은 호불호가 있을거 같습니다;; 끝맛이 약간 쓴맛이 나기도 하고 특이합니다;!!! 처음엔 맛이 뭐 이러나 싶었는데. 몇번 자꾸 먹어보니 또 나름 괜찮은거 같기도 하고 적응이 필요한거 같습니다 ;;\n",
      "\n",
      "저는 하나만 샀다면 다시는 안 먹었을 맛이지만 이왕 샀으니 조금씩이라도 먹어야지요. 그나마 신랑이라도 먹어서 다행입니다!! 저의 입맛엔 그닥이지만 아까우니 먹으야겠고 나눔을 해야겠습니다. ㅋ\n",
      "\n",
      "끝맛이 특이하지만 속이 타거나 땡길때 먹으면 좋을거 같기도 하고 정말 정말 쓰러지게 갈증이 날때 먹어야겠습니다\n",
      "일화 천연 사이다는 몇번째..!. 재구매 중인 싸이다 입니다!!!!!!!\n",
      "저희집도 그렇고... 부모님 집에도 그렇고... 1년 내내~ 365일 탄산이 없이는 즈을~~~~때 안됩니다~~~안돼안돼!!!!!\n",
      "마치 생수와도 같습니다!! 매일매일 먹으니까요ㅋㅋㅋ~❤❤\n",
      "\n",
      "밥상에 물과 함께 꼭 탄산이 꼭 같이 올라가 있어야 합니다~~\n",
      "아버지께서는 꼭 요 천연사이다만 드시고 계십니다!!!\n",
      "콜라도 안좋아하시고... 다른 음료도 안좋아하시고... 요고요고\n",
      "천연 사이다만 주문 해달라고 하셔서~ 주기적으로 주문을 해\n",
      "드리고 있었습니다!!!!❤❤\n",
      "\n",
      "근데!!!!!!!!!!!!!!!!!!!!!!!!!\n",
      "어느날부턴가 천연사이다가 로켓배송에도 , 로켓프레시에도~\n",
      "품절이 된 이후에 계속 입고가 안되더라고요!!! 헐~~~❤❤\n",
      "여태 쭉~ 로켓배송으로 재재재재주문 해오던거라 습관처럼\n",
      "입고되길 기다렸지요^^ 음 아직이네...또 아직이네...\n",
      "\n",
      "기다리다~~ 기다리다~~ 사이다는 대체 언제 오냐는 압박에\n",
      "시달리다가 로켓배송이 아니지만 일반으로 주문 했습니다!!!\n",
      "지금까지도 로켓배송은 안되고 있네요 ㅠㅜ 허겅~~~\n",
      "(알림신청 해두고 눈빠지게 기다렸습니다~❤❤)\n",
      "\n",
      "그래서 기다리다 기다리다 판매자님 배송으로 주문했습니다~\n",
      "찌그러짐 없이... 주문후 이틀만에 도착 잘 했습니다!!!!!\n",
      "천연사이다는 일반 칠성사이다 , 킨사이다랑은 맛이 조금은~\n",
      "다른 느낌의 사이다 입니다~~❤❤\n",
      "\n",
      "좀더 음료수 같은 애기들이 좋아 할것같은 느낌 이래야하나~\n",
      "살짝 암바사 향기도 나는듯한 그런....너낌적인 너낌!!!!\n",
      "암바사나 밀키스 요런것들 맛있자나요^^ ❤❤❤\n",
      "그래서 저도 자주자주 주문하는 일화 천연 사이다 입니다!!!!!!\n",
      "집에 사이다는 절대 안떨어지는 집구석이거든요♡♡♡♡♡\n",
      "■■■■■■■■■■■■■■■■■■■■■■■■■\n",
      "\n",
      "✅ 제품명 : 일화 천연사이다 190ml.\n",
      "✅ 제품용량 : 30개. ✅ 특이한 사이다맛.\n",
      "✅ 주문날짜 : 2021년 07월 06일. ✅ 일반배송 상품.\n",
      "✅ 받은날짜 : 2021년 07월 08일. ✅ 이틀후 도착완료.\n",
      "✅ 유통기한 : 2023년 06월 23일.\n",
      "\n",
      "■■■■■■■■■■■■■■■■■■■■■■■■■\n",
      "로켓배송을 기다리는라 오래 기다려서 좀아많이 아쉬웠구요~\n",
      "결국은 아직도 입고 안되고 있으니 또 아쉽습니다!!!!!!\n",
      "아버지가 늘 찾으시는 것인데 말이지요^^ 어여어여 해주세요!\n",
      "\n",
      "크기도 한번먹기 딱~~~좋아서 요 190ml 로 매번 구매하고\n",
      "있습니다~~.더큰거는 꼭 다못먹고 꼭~남아서 버리게 되거나,\n",
      "다 못먹을것 같아서 처음부터 그냥.... 안먹게될때도 있거든요!!\n",
      "뜯기좀 그래서....근데 요건~~싸이즈 너무 좋아요!!!!!❤❤\n",
      "\n",
      "✔리얼...내돈내산 제품 입니다!!!\n",
      "✔최대한 상세하고 솔직하게 작성한 후기 입니다!!!!\n",
      "✔제품을 \"구매\" 하시는데, \"도움\" 이 되셨으면 좋겠습니다!!!\n",
      "식사후 찾게되는 탄산..\n",
      "집에서 탄산수 제조해서 먹지만,\n",
      "여름이라 과일청에 요거 하나 부어서\n",
      "얼음동동 띄어 먹으면 시워하죠.\n",
      "쿠팡 로켓배송으로 1박스씩 시켜 주문 했었는데\n",
      "가격 변동이 심하네요 .\n",
      "이김에 아쥬 3박스 쟁여놓으니\n",
      "왜케 든든 한지 모르겠어요ㅋㅋ\n",
      "\n",
      "맛은 7성사이다 스프라이ㅌ 다 합쳐도\n",
      "이게 갑오브갑 입니다.\n",
      "레몬맛도 나면서 향도 좋구\n",
      "맛있는데 설명하기 부족합니다\n",
      "가성비 부분에서도 만족하구요.\n",
      "활용도가 높아요.\n",
      "\n",
      "\n",
      "깍두기할때 요거 2캔 따서 절여 놨더니\n",
      "아쥬 달짝 달짝하면서 맛있는 깍두기가\n",
      "완성되었어요.\n",
      "\n",
      "패션후르츠 청에 천연사이다 1캔 넣고\n",
      "얼음 5개 동동 띄우면 바로\n",
      "패션후르츠에이드 뚝딱 완성입니다.\n",
      "부모님 집에 오실때 마다 만들어 드리니\n",
      "너무 맛있다고 하십니다.\n",
      "\n",
      "그밖에 레몬청,유자청,자몽청,같은 방식으로\n",
      "만들면 테이크아웃,레스토랑 부럽지 않은\n",
      "에이드 완성 입니다.\n",
      "주저말고 쟁여놓으신다면 올 여름 무더위는\n",
      "날려 버릴수 있을것만 같네요.\n",
      "아시는분은 천연사이다 만 드시죠\n",
      "슈퍼가서 한캔 사다가 드셔보시면\n",
      "쿠팡이 얼마나 저렴한지 아실겁니다.\n",
      "온가족이 마실음료로 딱입니다.\n",
      "칼로리 생각보다적어요\n",
      "양도 완샷하기 딱좋은 사이즈\n",
      "유통기한 또한 넉넉해서 엄지척 입니다\n",
      "190미리 한번에 깔끔하게 마시고 끝낼수 있는 캔사이다에요\n",
      "초정리광천수로 만들었다죠\n",
      "세계3대 광천수가 우리나라에 있다는게 참 자랑스럽네요\n",
      "\n",
      "광천수는 미네랄이 풍부하다고해요\n",
      "세종대왕도 초정리에서 눈병을 치료했다는 기록도 있습니다\n",
      "\n",
      "청주에서 잠깐 살았어요 처음 천연사이다를 접한후 무슨 사이다가 이래라고 한 기억이 나네요ㅋㅋ\n",
      "지금은 익숙한맛이고 가끔 탄산이 먹고싶을때 생각나는 맛이에요\n",
      "어찌보면 뿅따 소다맛이랑도 비슷한거 같고ㅋㅋ\n",
      "(쭈쭈바중 갠적으로 젤 조아하는게 뿅따소다맛임)\n",
      "레몬향 딸기향 옵타쿨향이 첨가됐다는데 옵타쿨은 먼지 잘 모르겠네요\n",
      "암튼 은은한 과일맛과 소다맛이 느껴집니다\n",
      "\n",
      "탄산음료에 소량씩 들어있는 카페인도 첨가하지 않았고 색소도 안들었대요^^\n",
      "게다가 당류도 10퍼나 줄였다고 합니다\n",
      "한캔 다 마셔도 70칼로리라서 진짜 부담없어요\n",
      "트렌스지방 포화지방 콜레스테롤도 0인 그야말로 천사ㅋㅋ\n",
      "탄산이 엄청 쎈편이 아니라서 목넘김도 좋구 달달한향이 나는 천연사이다❤\n",
      "\n",
      "190미리는 업소용으로만 나오나바요\n",
      "미네랄까지 섭취할수 있는 천연사이다 저는 조아여^^\n",
      "\n",
      "참고로 일화에서 만든 음료로는 보리음료 맥콜이 있답니다^^\n"
     ]
    }
   ],
   "source": [
    "# 리뷰 가져오기\n",
    "for i in range(1 , 6) :\n",
    "    print(driver.find_element(By.XPATH , f'//*[@id=\"btfTab\"]/ul[2]/li[3]/div/div[6]/section[4]/article[{i}]/div[4]/div').text)\n",
    "    "
   ]
  },
  {
   "cell_type": "code",
   "execution_count": 28,
   "id": "201e4727",
   "metadata": {},
   "outputs": [],
   "source": [
    "# page 넘기기\n",
    "for page in range(2 , 12) :\n",
    "    driver.find_elements(By.CLASS_NAME , \"sdp-review__article__page.js_reviewArticlePagingContainer > button\")[page].click()\n",
    "    time.sleep(0.5)"
   ]
  },
  {
   "cell_type": "code",
   "execution_count": 30,
   "id": "63288510",
   "metadata": {},
   "outputs": [],
   "source": [
    "# 코딩 시작"
   ]
  },
  {
   "cell_type": "code",
   "execution_count": 31,
   "id": "9b3e25dc",
   "metadata": {},
   "outputs": [],
   "source": [
    "# 리뷰 크롤링 함수 생성\n",
    "\n",
    "def review_crawling_data(lst : list) :\n",
    "    for i in range(1 , 6) :\n",
    "        lst.append(driver.find_element(By.XPATH , f'//*[@id=\"btfTab\"]/ul[2]/li[3]/div/div[6]/section[4]/article[{i}]/div[4]/div').text)\n"
   ]
  },
  {
   "cell_type": "code",
   "execution_count": 38,
   "id": "14a6da7c",
   "metadata": {},
   "outputs": [],
   "source": [
    "# page 넘기기 함수\n",
    "\n",
    "def next_page(lst : list) :\n",
    "    for page in range(2 , 12) :\n",
    "        # page 넘기기 전에 리뷰가 모두 로딩 되었는지를 확인하자.\n",
    "        # CLASS_NAME으로 지칭된 class = sdp-review__article__list__review__content.js_reviewArticleContent \n",
    "        # 데이터가 모두 로딩되었을 때 페이지를 넘긴다.\n",
    "        WebDriverWait(driver, wait_time).until(\n",
    "                    EC.visibility_of_all_elements_located(\n",
    "                        (By.CLASS_NAME,'sdp-review__article__list__review__content.js_reviewArticleContent')\n",
    "            )\n",
    "        )\n",
    "        # 리뷰 크롤링 함수 호출\n",
    "        review_crawling_data(lst)\n",
    "        time.sleep(1)\n",
    "        driver.find_elements(By.CLASS_NAME , \"sdp-review__article__page.js_reviewArticlePagingContainer > button\")[page].click()\n",
    "        \n"
   ]
  },
  {
   "cell_type": "code",
   "execution_count": 33,
   "id": "2f23880a",
   "metadata": {},
   "outputs": [
    {
     "data": {
      "text/plain": [
       "<selenium.webdriver.remote.webelement.WebElement (session=\"5c527011157b518d51e4ebfc237107e6\", element=\"ed4179e3-ef25-4e9c-a84c-3025d28a2101\")>"
      ]
     },
     "execution_count": 33,
     "metadata": {},
     "output_type": "execute_result"
    }
   ],
   "source": [
    "wait_time = 2\n",
    "result = []\n",
    "WebDriverWait(driver, wait_time).until(\n",
    "                    EC.presence_of_element_located(\n",
    "                        (By.XPATH,'//*[@id=\"container\"]')\n",
    "            )\n",
    "        )"
   ]
  },
  {
   "cell_type": "code",
   "execution_count": 37,
   "id": "e35e2861",
   "metadata": {},
   "outputs": [
    {
     "data": {
      "text/plain": [
       "[<selenium.webdriver.remote.webelement.WebElement (session=\"5c527011157b518d51e4ebfc237107e6\", element=\"f518d748-ba48-49fa-afd3-43b4cf401207\")>,\n",
       " <selenium.webdriver.remote.webelement.WebElement (session=\"5c527011157b518d51e4ebfc237107e6\", element=\"6d7ec75a-e7dc-4529-a779-7ce33cc892c4\")>,\n",
       " <selenium.webdriver.remote.webelement.WebElement (session=\"5c527011157b518d51e4ebfc237107e6\", element=\"0c4e733d-bf0b-4578-8d6e-2c84762bc51f\")>,\n",
       " <selenium.webdriver.remote.webelement.WebElement (session=\"5c527011157b518d51e4ebfc237107e6\", element=\"d9fc84bf-882d-47a1-a78d-37c74366a8d5\")>,\n",
       " <selenium.webdriver.remote.webelement.WebElement (session=\"5c527011157b518d51e4ebfc237107e6\", element=\"58f8e66c-4d38-4907-a256-50128d075cf3\")>]"
      ]
     },
     "execution_count": 37,
     "metadata": {},
     "output_type": "execute_result"
    }
   ],
   "source": [
    "WebDriverWait(driver, wait_time).until(\n",
    "                    EC.visibility_of_all_elements_located(\n",
    "                        (By.CLASS_NAME,'sdp-review__article__list__review__content.js_reviewArticleContent')\n",
    "            )\n",
    "        )"
   ]
  },
  {
   "cell_type": "markdown",
   "id": "0b34a040",
   "metadata": {},
   "source": [
    "## 쿠팡 XPATRH 주의점\n",
    "- 가끔 XPATH 주소에 js라는 값이 들어있는데 COPY한 XPATH 주소의 js 앞 부분이 ' '(띄어쓰기)가 되어있다.\n",
    "- 이 때 ' ' 대신 '.'을 넣어주자.\n",
    "    - ex) 'sdp-review__article__list__review__content js_reviewArticleContent'\n",
    "        - 'sdp-review__article__list__review__content.js_reviewArticleContent'"
   ]
  },
  {
   "cell_type": "code",
   "execution_count": null,
   "id": "6ca53baf",
   "metadata": {},
   "outputs": [],
   "source": [
    "# 쿠팡 리뷰 크롤링 함수 생성\n",
    "\n",
    "# 대기 시간\n",
    "# '//*[@id=\"container\"]' 해당 XPATH 에 해당되는 데이터가 로드될 때까지 wait_time만큼 기다린다.\n",
    "\n",
    "wait_time = 2\n",
    "result = []\n",
    "def crawling_page_load_and_input_review_data() :\n",
    "    # 로딩 완료 확인\n",
    "    WebDriverWait(driver, wait_time).until(\n",
    "                    EC.presence_of_element_located(\n",
    "                        (By.XPATH,'//*[@id=\"container\"]')\n",
    "            )\n",
    "        )\n",
    "    for page in range(2, 12) :\n",
    "        WebDriverWait(driver, wait_time).until(\n",
    "                    EC.visibility_of_all_elements_located(\n",
    "                        (By.CLASS_NAME,'reviewItems_review__DqLYb')\n",
    "            )\n",
    "        )\n",
    "        # 리뷰 한페이지 리스트에 넣기\n",
    "        review_crawling_data(result)\n",
    "        time.sleep(1)\n",
    "        driver.find_elements(By.XPATH , '//*[@id=\"section_review\"]/div[3]/a')[page].click()\n"
   ]
  }
 ],
 "metadata": {
  "kernelspec": {
   "display_name": "Python 3 (ipykernel)",
   "language": "python",
   "name": "python3"
  },
  "language_info": {
   "codemirror_mode": {
    "name": "ipython",
    "version": 3
   },
   "file_extension": ".py",
   "mimetype": "text/x-python",
   "name": "python",
   "nbconvert_exporter": "python",
   "pygments_lexer": "ipython3",
   "version": "3.9.13"
  }
 },
 "nbformat": 4,
 "nbformat_minor": 5
}
