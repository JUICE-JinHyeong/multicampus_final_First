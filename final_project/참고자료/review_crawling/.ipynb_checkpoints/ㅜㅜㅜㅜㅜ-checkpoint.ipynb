{
 "cells": [
  {
   "cell_type": "markdown",
   "metadata": {},
   "source": [
    "- By.ID\t태그의 id값으로 추출\n",
    "- By.NAME\t태그의 name값으로 추출\n",
    "- By.XPATH\t태그의 경로로 추출\n",
    "- By.LINK_TEXT\t링크 텍스트값으로 추출\n",
    "- By.PARTIAL_LINK_TEXT\t링크 텍스트의 자식 텍스트 값을 추출\n",
    "- By.TAG_NAME\t태그 이름으로 추출\n",
    "- By.CLASS_NAME\t태그의 클래스명으로 추출\n",
    "- By.CSS_SELECTOR\tcss선택자로 추출"
   ]
  },
  {
   "cell_type": "markdown",
   "metadata": {},
   "source": [
    "xpath 문법\n",
    "\n",
    "표현\t설명\n",
    "nodename\t노드명이 \"nodename\"인 노드 선택\n",
    "/\t루트 노드로부터 선택\n",
    "//\t현재 노드로부터 문서상의 모든 노드를 조회\n",
    ".\t현재 노드 선택\n",
    "..\t현재 노드의 부모노드 선택\n",
    "@\t현재 노드의 속성 선택\n",
    " "
   ]
  },
  {
   "cell_type": "code",
   "execution_count": 1,
   "metadata": {
    "id": "IF0PwEMSByMw"
   },
   "outputs": [],
   "source": [
    "import requests\n",
    "from bs4 import BeautifulSoup as bs\n",
    "from selenium import webdriver\n",
    "from selenium.webdriver.common.by import By\n",
    "import pandas as pd\n",
    "import time\n",
    "from selenium.webdriver.support.ui import WebDriverWait\n",
    "from selenium.webdriver.support import expected_conditions as EC\n",
    "import asyncio"
   ]
  },
  {
   "cell_type": "code",
   "execution_count": 2,
   "metadata": {
    "colab": {
     "base_uri": "https://localhost:8080/",
     "height": 432
    },
    "id": "f6SIac-GB6aT",
    "outputId": "95b8c580-9753-43c8-c577-4ffe6b567690",
    "scrolled": false
   },
   "outputs": [
    {
     "name": "stderr",
     "output_type": "stream",
     "text": [
      "C:\\Users\\ohans\\AppData\\Local\\Temp\\ipykernel_37348\\2449207633.py:3: DeprecationWarning: executable_path has been deprecated, please pass in a Service object\n",
      "  driver = webdriver.Chrome('diver/chromedriver.exe')\n"
     ]
    }
   ],
   "source": [
    "url = 'https://search.shopping.naver.com/catalog/26120149527?query=%EC%9B%90%EC%97%90%EC%9D%B4%EC%97%A0%EC%8A%A4%ED%8C%8C%ED%81%B4%EB%A7%81&NaPm=ct%3Dlc8e2t0o%7Cci%3D7887d272cdc8ce87276701141c878c98d969a274%7Ctr%3Dslsl%7Csn%3D95694%7Chk%3Da1493ebe33ab92feb6df17bf7094f5711c254aa0'\n",
    "\n",
    "driver = webdriver.Chrome('diver/chromedriver.exe')\n",
    "driver.get(url)"
   ]
  },
  {
   "cell_type": "code",
   "execution_count": 3,
   "metadata": {
    "scrolled": true
   },
   "outputs": [
    {
     "name": "stderr",
     "output_type": "stream",
     "text": [
      "C:\\Users\\ohans\\AppData\\Local\\Temp\\ipykernel_37348\\282408290.py:10: DeprecationWarning: executable_path has been deprecated, please pass in a Service object\n",
      "  driver = webdriver.Chrome('diver/chromedriver.exe')\n"
     ]
    }
   ],
   "source": [
    "# 추가 패키지\n",
    "from selenium.webdriver.support.ui import WebDriverWait\n",
    "from selenium.webdriver.support import expected_conditions as EC\n",
    "\n",
    "wait_time = 1\n",
    "result = []\n",
    "\n",
    "url = 'https://search.shopping.naver.com/catalog/26120149527?query=%EC%9B%90%EC%97%90%EC%9D%B4%EC%97%A0%EC%8A%A4%ED%8C%8C%ED%81%B4%EB%A7%81&NaPm=ct%3Dlc8e2t0o%7Cci%3D7887d272cdc8ce87276701141c878c98d969a274%7Ctr%3Dslsl%7Csn%3D95694%7Chk%3Da1493ebe33ab92feb6df17bf7094f5711c254aa0'\n",
    "\n",
    "driver = webdriver.Chrome('C')\n",
    "driver.get(url)\n"
   ]
  },
  {
   "cell_type": "code",
   "execution_count": 4,
   "metadata": {},
   "outputs": [
    {
     "name": "stderr",
     "output_type": "stream",
     "text": [
      "C:\\Users\\ohans\\AppData\\Local\\Temp\\ipykernel_37348\\1936074580.py:1: DeprecationWarning: executable_path has been deprecated, please pass in a Service object\n",
      "  driver = webdriver.Chrome('diver/chromedriver.exe')\n"
     ]
    }
   ],
   "source": [
    "driver = webdriver.Chrome('diver/chromedriver.exe')\n",
    "driver.get(url)"
   ]
  },
  {
   "cell_type": "code",
   "execution_count": 5,
   "metadata": {},
   "outputs": [
    {
     "ename": "SyntaxError",
     "evalue": "EOL while scanning string literal (1778321399.py, line 4)",
     "output_type": "error",
     "traceback": [
      "\u001b[1;36m  Input \u001b[1;32mIn [5]\u001b[1;36m\u001b[0m\n\u001b[1;33m    for i in range(1,len(driver.find_elements(By.CSS_SELECTOR , '_DqLYb))+1) :\u001b[0m\n\u001b[1;37m                                                                              ^\u001b[0m\n\u001b[1;31mSyntaxError\u001b[0m\u001b[1;31m:\u001b[0m EOL while scanning string literal\n"
     ]
    }
   ],
   "source": [
    "# 리뷰 크롤링(한페이지) 함수 생성\n",
    "\n",
    "def review_data(lst : list) :\n",
    "    for i in range(1,len(driver.find_elements(By.CSS_SELECTOR , '_DqLYb))+1) :\n",
    "        # XPATH 주소 확인(맨 끝)\n",
    "        # data1 = span[1] or span\n",
    "        # data2 = span[2]\n",
    "        data1 = driver.find_element(By.XPATH , //*[@id=\"section_review\"]/ul/li[1]/div[2]').text\n",
    "        if data1 == '재구매' or data1 == '한달사용기':\n",
    "            # 첫 번째 if을 통과해야만 data2가 생성이 가능하다.\n",
    "            data2 = driver.find_element(By.XPATH , f'//*[@id=\"REVIEW\"]/div/div[3]/div[2]/ul/li[{i}]/div/div/div/div[1]/div/div[1]/div[2]/div/span[2]').text\n",
    "            if data2 == '재구매' :\n",
    "                lst.append(driver.find_element(By.XPATH , f'//*[@id=\"REVIEW\"]/div/div[3]/div[2]/ul/li[{i}]/div/div/div/div[1]/div/div[1]/div[2]/div/span[3]').text)\n",
    "            else :\n",
    "                lst.append(driver.find_element(By.XPATH , f'//*[@id=\"REVIEW\"]/div/div[3]/div[2]/ul/li[{i}]/div/div/div/div[1]/div/div[1]/div[2]/div/span[2]').text)\n",
    "        else :\n",
    "            lst.append(data1)"
   ]
  },
  {
   "cell_type": "code",
   "execution_count": null,
   "metadata": {},
   "outputs": [],
   "source": [
    "\n",
    "def crawling_page_load_and_input_review_data() :\n",
    "    # 로딩 완료 확인\n",
    "    WebDriverWait(driver, wait_time).until(\n",
    "                    EC.presence_of_element_located(\n",
    "                        (By.XPATH,'//*[@id=\"REVIEW\"]/div/div[3]/div[2]')\n",
    "            )\n",
    "        )\n",
    "    for page in range(2, 12) :\n",
    "        WebDriverWait(driver, wait_time).until(\n",
    "                    EC.visibility_of_all_elements_located(\n",
    "                        (By.CLASS_NAME,'_2389dRohZq')\n",
    "            )\n",
    "        )\n",
    "        # 리뷰 한페이지 리스트에 넣기\n",
    "        review_data(result)\n",
    "        driver.find_elements(By.XPATH , '//*[@id=\"REVIEW\"]/div/div[3]/div[2]/div/div/a')[page].click()\n"
   ]
  },
  {
   "cell_type": "code",
   "execution_count": null,
   "metadata": {},
   "outputs": [],
   "source": [
    "# list에 5천개 이상 생기면 너무 무거워진다.\n",
    "# 5천개씩 끊자.\n",
    "# 방법 : wait time 추가 혹은 구글 드라이버 재실행 혹은 result 리스트 초기화\n",
    "for i in range(250) :\n",
    "    crawling_page_load_and_input_review_data()"
   ]
  },
  {
   "cell_type": "code",
   "execution_count": null,
   "metadata": {},
   "outputs": [],
   "source": [
    "len(result)"
   ]
  },
  {
   "cell_type": "code",
   "execution_count": null,
   "metadata": {},
   "outputs": [],
   "source": [
    "result"
   ]
  },
  {
   "cell_type": "code",
   "execution_count": null,
   "metadata": {
    "scrolled": true
   },
   "outputs": [],
   "source": [
    "# page 1 ~ 548\n",
    "# 몇몇 페이지 누락 존재 (398~400)\n",
    "sample_review = pd.DataFrame({'review' : result})\n",
    "sample_review.head()"
   ]
  },
  {
   "cell_type": "code",
   "execution_count": null,
   "metadata": {},
   "outputs": [],
   "source": [
    "sample_review.to_excel('crawling_test/sample_review.xlsx' , index = False)"
   ]
  },
  {
   "cell_type": "code",
   "execution_count": null,
   "metadata": {},
   "outputs": [],
   "source": [
    "# 5천번이 넘어가면 구글 드라이버를 재실행 시켜주자\n",
    "# 리뷰 페이지 넘기기\n",
    "\n",
    "for i in range(23) :\n",
    "    driver.find_element(By.XPATH , '//*[@id=\"REVIEW\"]/div/div[3]/div[2]/div/div/a[12]').click()\n",
    "    time.sleep(0.5)"
   ]
  },
  {
   "cell_type": "code",
   "execution_count": null,
   "metadata": {},
   "outputs": [],
   "source": [
    "# 가끔씩 반복문의 i 값이  일치하지 않아 오류가 발생하는 경우가 있다.\n",
    "# 아무래도 크롤링 속도보다 반복문 실행 속도가 빨라서 발생하는 것 같다.\n",
    "# 오류 계속 발생시 sleep 사용하기\n",
    "i = 1"
   ]
  }
 ],
 "metadata": {
  "colab": {
   "provenance": []
  },
  "kernelspec": {
   "display_name": "Python 3 (ipykernel)",
   "language": "python",
   "name": "python3"
  },
  "language_info": {
   "codemirror_mode": {
    "name": "ipython",
    "version": 3
   },
   "file_extension": ".py",
   "mimetype": "text/x-python",
   "name": "python",
   "nbconvert_exporter": "python",
   "pygments_lexer": "ipython3",
   "version": "3.9.12"
  }
 },
 "nbformat": 4,
 "nbformat_minor": 1
}
