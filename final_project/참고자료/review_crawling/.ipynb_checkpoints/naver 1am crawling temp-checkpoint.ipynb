{
 "cells": [
  {
   "cell_type": "code",
   "execution_count": 23,
   "id": "8ede5783",
   "metadata": {},
   "outputs": [],
   "source": [
    "from selenium import webdriver\n",
    "import time\n",
    "import openpyxl\n",
    "from selenium.webdriver.common.by import By"
   ]
  },
  {
   "cell_type": "code",
   "execution_count": 24,
   "id": "8c812efa",
   "metadata": {},
   "outputs": [
    {
     "name": "stderr",
     "output_type": "stream",
     "text": [
      "C:\\Users\\ohans\\AppData\\Local\\Temp\\ipykernel_20664\\1335385559.py:4: DeprecationWarning: executable_path has been deprecated, please pass in a Service object\n",
      "  driver = webdriver.Chrome('diver/chromedriver.exe')\n"
     ]
    }
   ],
   "source": [
    "wb = openpyxl.Workbook()\n",
    "sheet = wb.active\n",
    "\n",
    "driver = webdriver.Chrome('diver/chromedriver.exe') \n",
    "\n",
    "url = 'https://search.shopping.naver.com/catalog/26120149527?query=%EC%9B%90%EC%97%90%EC%9D%B4%EC%97%A0%EC%8A%A4%ED%8C%8C%ED%81%B4%EB%A7%81&NaPm=ct%3Dlc8e2t0o%7Cci%3D7887d272cdc8ce87276701141c878c98d969a274%7Ctr%3Dslsl%7Csn%3D95694%7Chk%3Da1493ebe33ab92feb6df17bf7094f5711c254aa0'\n",
    "driver.get(url) \n",
    "time.sleep(1)"
   ]
  },
  {
   "cell_type": "code",
   "execution_count": 25,
   "id": "54134bd1",
   "metadata": {},
   "outputs": [
    {
     "name": "stdout",
     "output_type": "stream",
     "text": [
      "1\n",
      "2\n",
      "3\n",
      "4\n",
      "5\n",
      "6\n",
      "7\n",
      "8\n",
      "9\n",
      "10\n",
      "11\n",
      "12\n",
      "1\n",
      "2\n",
      "3\n",
      "4\n",
      "5\n",
      "6\n",
      "7\n",
      "8\n",
      "9\n",
      "10\n",
      "11\n",
      "12\n"
     ]
    }
   ],
   "source": [
    "\n",
    "\n",
    "for page in range(1, 3):\n",
    "    review_button = driver.find_elements(By.XPATH,'//*[@id=\"section_review\"]/div[3]')\n",
    "    \n",
    "    for i in range(0, 12):\n",
    "\n",
    "        try : \n",
    "            review_lst = driver.find_elements(By.XPATH, '//*[@id=\"section_review\"]/ul/li')\n",
    "            print(i+1)\n",
    "            sheet.append([i+1])\n",
    "            time.sleep(1)\n",
    "            driver.implicitly_wait(10)\n",
    "        \n",
    "        except : \n",
    "            if page < 11:\n",
    "                review_button[page -1].click()\n",
    "                time.sleep(1.5)\n",
    "                driver.implicitly_wait(10)\n",
    "        \n",
    "            elif page % 10 == 0 :\n",
    "                driver.find_element(By.XPATH,'//*[@id=\"section_review\"]/div[3]/a[11]').click()\n",
    "                time.sleep(1.5)\n",
    "                driver.implicitly_wait(10)\n",
    "    \n",
    "            else:\n",
    "                review_button[page % 10 + 1].click()\n",
    "                time.sleep(1.5)\n",
    "                driver.implicitly_wait(10)\n"
   ]
  },
  {
   "cell_type": "code",
   "execution_count": null,
   "id": "58fca7cb",
   "metadata": {},
   "outputs": [],
   "source": []
  },
  {
   "cell_type": "code",
   "execution_count": null,
   "id": "97fe1a1e",
   "metadata": {},
   "outputs": [],
   "source": []
  },
  {
   "cell_type": "code",
   "execution_count": null,
   "id": "3a67c8d2",
   "metadata": {},
   "outputs": [],
   "source": []
  },
  {
   "cell_type": "code",
   "execution_count": null,
   "id": "6f9b50f5",
   "metadata": {},
   "outputs": [],
   "source": []
  }
 ],
 "metadata": {
  "kernelspec": {
   "display_name": "Python 3 (ipykernel)",
   "language": "python",
   "name": "python3"
  },
  "language_info": {
   "codemirror_mode": {
    "name": "ipython",
    "version": 3
   },
   "file_extension": ".py",
   "mimetype": "text/x-python",
   "name": "python",
   "nbconvert_exporter": "python",
   "pygments_lexer": "ipython3",
   "version": "3.9.12"
  }
 },
 "nbformat": 4,
 "nbformat_minor": 5
}
