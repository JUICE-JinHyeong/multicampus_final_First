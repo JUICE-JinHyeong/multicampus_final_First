{
 "cells": [
  {
   "cell_type": "code",
   "execution_count": 2,
   "id": "01b925ff",
   "metadata": {},
   "outputs": [],
   "source": [
    "# 크롤링\n",
    "from bs4 import BeautifulSoup\n",
    "# url img를 내려받을 수 있는 패키지\n",
    "from urllib.request import urlopen , urlretrieve\n",
    "from urllib.error   import HTTPError\n",
    "from urllib.error   import URLError\n",
    "\n",
    "import requests\n",
    "import re\n",
    "\n",
    "from selenium import webdriver\n",
    "from selenium.webdriver.common.by import By"
   ]
  },
  {
   "cell_type": "code",
   "execution_count": 4,
   "id": "2bc09070",
   "metadata": {
    "collapsed": true
   },
   "outputs": [
    {
     "name": "stderr",
     "output_type": "stream",
     "text": [
      "C:\\Users\\PiGiraffe0\\AppData\\Local\\Temp\\ipykernel_17416\\2685635461.py:5: DeprecationWarning: executable_path has been deprecated, please pass in a Service object\n",
      "  zerowaste_driver = webdriver.Chrome(driver_path)\n"
     ]
    }
   ],
   "source": [
    "driver_path = 'diver/chromedriver.exe'\n",
    "zerowaste_driver = webdriver.Chrome(driver_path)\n",
    "zerowaste_driver.get('https://iammom.co.kr/%EC%A0%9C%EB%A1%9C%EC%9B%A8%EC%9D%B4%EC%8A%A4%ED%8A%B8-%EC%83%B5/')"
   ]
  },
  {
   "cell_type": "code",
   "execution_count": 24,
   "id": "63eb1b8d",
   "metadata": {
    "collapsed": true
   },
   "outputs": [
    {
     "data": {
      "text/plain": [
       "196"
      ]
     },
     "execution_count": 24,
     "metadata": {},
     "output_type": "execute_result"
    }
   ],
   "source": [
    "# 제로웨이스트 상가의 이름과 주소가 나와있는 표의 행 개수\n",
    "len(zerowaste_driver.find_elements(By.XPATH , '//*[@id=\"post-1426\"]/div[2]/figure[2]/table/tbody/tr'))"
   ]
  },
  {
   "cell_type": "code",
   "execution_count": 35,
   "id": "adc307fc",
   "metadata": {},
   "outputs": [],
   "source": [
    "zerowaste_shop = []\n",
    "zerowaste_address = []\n",
    "\n",
    "for num in range(1 , len(zerowaste_driver.find_elements(By.XPATH , '//*[@id=\"post-1426\"]/div[2]/figure[2]/table/tbody/tr'))+1) :\n",
    "    zerowaste_shop.append(zerowaste_driver.find_element(By.XPATH , f'//*[@id=\"post-1426\"]/div[2]/figure[2]/table/tbody/tr[{num}]/td[1]').text)\n",
    "    zerowaste_address.append(zerowaste_driver.find_element(By.XPATH , f'//*[@id=\"post-1426\"]/div[2]/figure[2]/table/tbody/tr[{num}]/td[2]').text)\n",
    "    "
   ]
  },
  {
   "cell_type": "code",
   "execution_count": 38,
   "id": "c742d432",
   "metadata": {},
   "outputs": [],
   "source": [
    "import pandas as pd\n",
    "import numpy as np\n",
    "zerowaste_frm = pd.DataFrame({'상호' : zerowaste_shop , '주소' : zerowaste_address})"
   ]
  },
  {
   "cell_type": "code",
   "execution_count": 41,
   "id": "958886d5",
   "metadata": {},
   "outputs": [
    {
     "data": {
      "text/html": [
       "<div>\n",
       "<style scoped>\n",
       "    .dataframe tbody tr th:only-of-type {\n",
       "        vertical-align: middle;\n",
       "    }\n",
       "\n",
       "    .dataframe tbody tr th {\n",
       "        vertical-align: top;\n",
       "    }\n",
       "\n",
       "    .dataframe thead th {\n",
       "        text-align: right;\n",
       "    }\n",
       "</style>\n",
       "<table border=\"1\" class=\"dataframe\">\n",
       "  <thead>\n",
       "    <tr style=\"text-align: right;\">\n",
       "      <th></th>\n",
       "      <th>상호</th>\n",
       "      <th>주소</th>\n",
       "    </tr>\n",
       "  </thead>\n",
       "  <tbody>\n",
       "    <tr>\n",
       "      <th>0</th>\n",
       "      <td>내일상회</td>\n",
       "      <td>강원 강릉시 용지로96번길 25-1 (포남동)</td>\n",
       "    </tr>\n",
       "    <tr>\n",
       "      <th>1</th>\n",
       "      <td>제로웨이스트 쑥</td>\n",
       "      <td>강원 삼척시 이천리 777-2</td>\n",
       "    </tr>\n",
       "    <tr>\n",
       "      <th>2</th>\n",
       "      <td>칠성조선소 북살롱</td>\n",
       "      <td>강원 속초시 중앙로46번길 45 (교동)</td>\n",
       "    </tr>\n",
       "    <tr>\n",
       "      <th>3</th>\n",
       "      <td>에르마나스</td>\n",
       "      <td>강원 원주시 남원로469번길 14-2 1층 (명륜동)</td>\n",
       "    </tr>\n",
       "    <tr>\n",
       "      <th>4</th>\n",
       "      <td>보나커피집</td>\n",
       "      <td>강원 춘천시 교동길 18 1층 (교동)</td>\n",
       "    </tr>\n",
       "  </tbody>\n",
       "</table>\n",
       "</div>"
      ],
      "text/plain": [
       "          상호                             주소\n",
       "0       내일상회      강원 강릉시 용지로96번길 25-1 (포남동)\n",
       "1   제로웨이스트 쑥               강원 삼척시 이천리 777-2\n",
       "2  칠성조선소 북살롱         강원 속초시 중앙로46번길 45 (교동)\n",
       "3      에르마나스  강원 원주시 남원로469번길 14-2 1층 (명륜동)\n",
       "4      보나커피집          강원 춘천시 교동길 18 1층 (교동)"
      ]
     },
     "execution_count": 41,
     "metadata": {},
     "output_type": "execute_result"
    }
   ],
   "source": [
    "zerowaste_frm.head()"
   ]
  },
  {
   "cell_type": "code",
   "execution_count": 40,
   "id": "824020b4",
   "metadata": {},
   "outputs": [],
   "source": [
    "# option :  sheet_name='', index=True/False, header=True/False)\n",
    "\n",
    "zerowaste_frm.to_excel('zerowaste_shop_address.xlsx' , index = False)"
   ]
  }
 ],
 "metadata": {
  "kernelspec": {
   "display_name": "Python 3 (ipykernel)",
   "language": "python",
   "name": "python3"
  },
  "language_info": {
   "codemirror_mode": {
    "name": "ipython",
    "version": 3
   },
   "file_extension": ".py",
   "mimetype": "text/x-python",
   "name": "python",
   "nbconvert_exporter": "python",
   "pygments_lexer": "ipython3",
   "version": "3.9.13"
  }
 },
 "nbformat": 4,
 "nbformat_minor": 5
}
