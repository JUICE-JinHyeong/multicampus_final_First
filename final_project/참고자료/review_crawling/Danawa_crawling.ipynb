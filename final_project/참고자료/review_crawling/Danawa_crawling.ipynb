{
 "cells": [
  {
   "cell_type": "markdown",
   "id": "c9240184",
   "metadata": {},
   "source": [
    "# 데이터 수집 - 다나와 상품 리뷰 크롤링"
   ]
  },
  {
   "cell_type": "code",
   "execution_count": 1,
   "id": "ae1d69dd",
   "metadata": {},
   "outputs": [],
   "source": [
    "# 다나와 상품 리뷰 크롤링\n",
    "# 필요한 라이브러리 패키지\n",
    "\n",
    "import requests\n",
    "from bs4 import BeautifulSoup as bs\n",
    "\n",
    "from selenium import webdriver\n",
    "from selenium.webdriver.common.by import By\n",
    "from selenium.webdriver.support.ui import WebDriverWait\n",
    "from selenium.webdriver.support import expected_conditions as EC\n",
    "from selenium.webdriver.common.keys import Keys\n",
    "\n",
    "import pandas as pd\n",
    "import numpy as np\n",
    "\n",
    "import time\n",
    "import re"
   ]
  },
  {
   "cell_type": "code",
   "execution_count": 2,
   "id": "f7561b06",
   "metadata": {
    "scrolled": true
   },
   "outputs": [],
   "source": [
    "LOADING_WAIT_TIME = 3\n",
    "\n",
    "pcodes = [13363343, 3312370]\n",
    "review_data_total = []\n",
    "review_data = []\n",
    "\n",
    "def init_driver() :\n",
    "    driver = webdriver.Chrome('diver/chromedriver.exe')\n",
    "    return driver\n",
    "    \n",
    "def danawa_review(pcode, driver) :\n",
    "    url = f\"http://prod.danawa.com/info/?pcode={pcode}#bookmark_cm_opinion\"\n",
    "    driver.get(url)\n",
    "    \n",
    "    driver.implicitly_wait(3)\n",
    "    time.sleep(3)\n",
    "    \n",
    "    for i in range(1, 1001) :\n",
    "        html = driver.page_source\n",
    "        soup = bs(html, 'html.parser')\n",
    "    \n",
    "        reviews = soup.select('div.atc')\n",
    "    \n",
    "        for review in reviews :\n",
    "            review_data.append(review.text)\n",
    "\n",
    "        if i % 10 == 0:\n",
    "            right_btn = driver.find_element(By.XPATH, '//*[@class=\"mall_review\"]//span[@class=\"point_arw_r\"]')\n",
    "            if right_btn.value_of_css_property('cursor') == 'pointer':\n",
    "                right_btn.click()\n",
    "            else:\n",
    "                break\n",
    "        else:\n",
    "            try :\n",
    "                WebDriverWait(driver, LOADING_WAIT_TIME).until(\n",
    "                        EC.presence_of_element_located(\n",
    "                            (By.XPATH, f'//*[@id=\"danawa-prodBlog-companyReview-content-list\"]/div/div/div/a[text()={i + 1}]')\n",
    "                        )\n",
    "                    )\n",
    "            except:\n",
    "                break\n",
    "            driver.find_element(By.XPATH, f'//*[@id=\"danawa-prodBlog-companyReview-content-list\"]/div/div/div/a[text()={i + 1}]').send_keys(Keys.ENTER)\n",
    "\n",
    "            \n",
    "# if __name__ == \"__main__\" :\n",
    "#     driver = init_driver()\n",
    "\n",
    "#     danawa_review(13363343, driver)\n",
    "    \n",
    "#     print(len(review_data))\n",
    "    \n",
    "#     for r in review_data :\n",
    "#         print(r)"
   ]
  },
  {
   "cell_type": "code",
   "execution_count": 11,
   "id": "15d12c2e",
   "metadata": {
    "collapsed": true
   },
   "outputs": [
    {
     "name": "stderr",
     "output_type": "stream",
     "text": [
      "C:\\Users\\97dkr\\AppData\\Local\\Temp\\ipykernel_1428\\3592954024.py:8: DeprecationWarning: executable_path has been deprecated, please pass in a Service object\n",
      "  driver = webdriver.Chrome('diver/chromedriver.exe')\n"
     ]
    },
    {
     "ename": "ElementNotInteractableException",
     "evalue": "Message: element not interactable\n  (Session info: chrome=108.0.5359.125)\nStacktrace:\nBacktrace:\n\t(No symbol) [0x0025F243]\n\t(No symbol) [0x001E7FD1]\n\t(No symbol) [0x000DCF10]\n\t(No symbol) [0x0010795E]\n\t(No symbol) [0x001070E5]\n\t(No symbol) [0x0012858C]\n\t(No symbol) [0x00102BFF]\n\t(No symbol) [0x00128804]\n\t(No symbol) [0x0013C9EB]\n\t(No symbol) [0x00128386]\n\t(No symbol) [0x0010163C]\n\t(No symbol) [0x0010269D]\n\tGetHandleVerifier [0x004F9A22+2655074]\n\tGetHandleVerifier [0x004ECA24+2601828]\n\tGetHandleVerifier [0x00308C0A+619850]\n\tGetHandleVerifier [0x00307830+614768]\n\t(No symbol) [0x001F05FC]\n\t(No symbol) [0x001F5968]\n\t(No symbol) [0x001F5A55]\n\t(No symbol) [0x0020051B]\n\tBaseThreadInitThunk [0x756300F9+25]\n\tRtlGetAppContainerNamedObjectPath [0x77227BBE+286]\n\tRtlGetAppContainerNamedObjectPath [0x77227B8E+238]\n\t(No symbol) [0x00000000]\n",
     "output_type": "error",
     "traceback": [
      "\u001b[1;31m---------------------------------------------------------------------------\u001b[0m",
      "\u001b[1;31mElementNotInteractableException\u001b[0m           Traceback (most recent call last)",
      "Input \u001b[1;32mIn [11]\u001b[0m, in \u001b[0;36m<cell line: 5>\u001b[1;34m()\u001b[0m\n\u001b[0;32m      3\u001b[0m \u001b[38;5;28;01mif\u001b[39;00m \u001b[38;5;18m__name__\u001b[39m \u001b[38;5;241m==\u001b[39m \u001b[38;5;124m\"\u001b[39m\u001b[38;5;124m__main__\u001b[39m\u001b[38;5;124m\"\u001b[39m :\n\u001b[0;32m      4\u001b[0m     driver \u001b[38;5;241m=\u001b[39m init_driver()\n\u001b[1;32m----> 5\u001b[0m \u001b[43mdanawa_review\u001b[49m\u001b[43m(\u001b[49m\u001b[38;5;241;43m13363343\u001b[39;49m\u001b[43m,\u001b[49m\u001b[43m \u001b[49m\u001b[43mdriver\u001b[49m\u001b[43m)\u001b[49m\n\u001b[0;32m      6\u001b[0m \u001b[38;5;28mprint\u001b[39m(\u001b[38;5;28mlen\u001b[39m(review_data))\n",
      "Input \u001b[1;32mIn [10]\u001b[0m, in \u001b[0;36mdanawa_review\u001b[1;34m(pcode, driver)\u001b[0m\n\u001b[0;32m     28\u001b[0m right_btn \u001b[38;5;241m=\u001b[39m driver\u001b[38;5;241m.\u001b[39mfind_element(By\u001b[38;5;241m.\u001b[39mXPATH, \u001b[38;5;124m'\u001b[39m\u001b[38;5;124m//*[@class=\u001b[39m\u001b[38;5;124m\"\u001b[39m\u001b[38;5;124mmall_review\u001b[39m\u001b[38;5;124m\"\u001b[39m\u001b[38;5;124m]//span[@class=\u001b[39m\u001b[38;5;124m\"\u001b[39m\u001b[38;5;124mpoint_arw_r\u001b[39m\u001b[38;5;124m\"\u001b[39m\u001b[38;5;124m]\u001b[39m\u001b[38;5;124m'\u001b[39m)\n\u001b[0;32m     29\u001b[0m \u001b[38;5;28;01mif\u001b[39;00m right_btn\u001b[38;5;241m.\u001b[39mvalue_of_css_property(\u001b[38;5;124m'\u001b[39m\u001b[38;5;124mcursor\u001b[39m\u001b[38;5;124m'\u001b[39m) \u001b[38;5;241m==\u001b[39m \u001b[38;5;124m'\u001b[39m\u001b[38;5;124mpointer\u001b[39m\u001b[38;5;124m'\u001b[39m:\n\u001b[1;32m---> 30\u001b[0m     \u001b[43mright_btn\u001b[49m\u001b[38;5;241;43m.\u001b[39;49m\u001b[43msend_keys\u001b[49m\u001b[43m(\u001b[49m\u001b[43mKeys\u001b[49m\u001b[38;5;241;43m.\u001b[39;49m\u001b[43mENTER\u001b[49m\u001b[43m)\u001b[49m\n\u001b[0;32m     31\u001b[0m \u001b[38;5;28;01melse\u001b[39;00m:\n\u001b[0;32m     32\u001b[0m     \u001b[38;5;28;01mbreak\u001b[39;00m\n",
      "File \u001b[1;32m~\\Anaconda3\\lib\\site-packages\\selenium\\webdriver\\remote\\webelement.py:233\u001b[0m, in \u001b[0;36mWebElement.send_keys\u001b[1;34m(self, *value)\u001b[0m\n\u001b[0;32m    230\u001b[0m             remote_files\u001b[38;5;241m.\u001b[39mappend(\u001b[38;5;28mself\u001b[39m\u001b[38;5;241m.\u001b[39m_upload(file))\n\u001b[0;32m    231\u001b[0m         value \u001b[38;5;241m=\u001b[39m \u001b[38;5;124m\"\u001b[39m\u001b[38;5;130;01m\\n\u001b[39;00m\u001b[38;5;124m\"\u001b[39m\u001b[38;5;241m.\u001b[39mjoin(remote_files)\n\u001b[1;32m--> 233\u001b[0m \u001b[38;5;28;43mself\u001b[39;49m\u001b[38;5;241;43m.\u001b[39;49m\u001b[43m_execute\u001b[49m\u001b[43m(\u001b[49m\n\u001b[0;32m    234\u001b[0m \u001b[43m    \u001b[49m\u001b[43mCommand\u001b[49m\u001b[38;5;241;43m.\u001b[39;49m\u001b[43mSEND_KEYS_TO_ELEMENT\u001b[49m\u001b[43m,\u001b[49m\u001b[43m \u001b[49m\u001b[43m{\u001b[49m\u001b[38;5;124;43m\"\u001b[39;49m\u001b[38;5;124;43mtext\u001b[39;49m\u001b[38;5;124;43m\"\u001b[39;49m\u001b[43m:\u001b[49m\u001b[43m \u001b[49m\u001b[38;5;124;43m\"\u001b[39;49m\u001b[38;5;124;43m\"\u001b[39;49m\u001b[38;5;241;43m.\u001b[39;49m\u001b[43mjoin\u001b[49m\u001b[43m(\u001b[49m\u001b[43mkeys_to_typing\u001b[49m\u001b[43m(\u001b[49m\u001b[43mvalue\u001b[49m\u001b[43m)\u001b[49m\u001b[43m)\u001b[49m\u001b[43m,\u001b[49m\u001b[43m \u001b[49m\u001b[38;5;124;43m\"\u001b[39;49m\u001b[38;5;124;43mvalue\u001b[39;49m\u001b[38;5;124;43m\"\u001b[39;49m\u001b[43m:\u001b[49m\u001b[43m \u001b[49m\u001b[43mkeys_to_typing\u001b[49m\u001b[43m(\u001b[49m\u001b[43mvalue\u001b[49m\u001b[43m)\u001b[49m\u001b[43m}\u001b[49m\n\u001b[0;32m    235\u001b[0m \u001b[43m\u001b[49m\u001b[43m)\u001b[49m\n",
      "File \u001b[1;32m~\\Anaconda3\\lib\\site-packages\\selenium\\webdriver\\remote\\webelement.py:410\u001b[0m, in \u001b[0;36mWebElement._execute\u001b[1;34m(self, command, params)\u001b[0m\n\u001b[0;32m    408\u001b[0m     params \u001b[38;5;241m=\u001b[39m {}\n\u001b[0;32m    409\u001b[0m params[\u001b[38;5;124m\"\u001b[39m\u001b[38;5;124mid\u001b[39m\u001b[38;5;124m\"\u001b[39m] \u001b[38;5;241m=\u001b[39m \u001b[38;5;28mself\u001b[39m\u001b[38;5;241m.\u001b[39m_id\n\u001b[1;32m--> 410\u001b[0m \u001b[38;5;28;01mreturn\u001b[39;00m \u001b[38;5;28;43mself\u001b[39;49m\u001b[38;5;241;43m.\u001b[39;49m\u001b[43m_parent\u001b[49m\u001b[38;5;241;43m.\u001b[39;49m\u001b[43mexecute\u001b[49m\u001b[43m(\u001b[49m\u001b[43mcommand\u001b[49m\u001b[43m,\u001b[49m\u001b[43m \u001b[49m\u001b[43mparams\u001b[49m\u001b[43m)\u001b[49m\n",
      "File \u001b[1;32m~\\Anaconda3\\lib\\site-packages\\selenium\\webdriver\\remote\\webdriver.py:444\u001b[0m, in \u001b[0;36mWebDriver.execute\u001b[1;34m(self, driver_command, params)\u001b[0m\n\u001b[0;32m    442\u001b[0m response \u001b[38;5;241m=\u001b[39m \u001b[38;5;28mself\u001b[39m\u001b[38;5;241m.\u001b[39mcommand_executor\u001b[38;5;241m.\u001b[39mexecute(driver_command, params)\n\u001b[0;32m    443\u001b[0m \u001b[38;5;28;01mif\u001b[39;00m response:\n\u001b[1;32m--> 444\u001b[0m     \u001b[38;5;28;43mself\u001b[39;49m\u001b[38;5;241;43m.\u001b[39;49m\u001b[43merror_handler\u001b[49m\u001b[38;5;241;43m.\u001b[39;49m\u001b[43mcheck_response\u001b[49m\u001b[43m(\u001b[49m\u001b[43mresponse\u001b[49m\u001b[43m)\u001b[49m\n\u001b[0;32m    445\u001b[0m     response[\u001b[38;5;124m\"\u001b[39m\u001b[38;5;124mvalue\u001b[39m\u001b[38;5;124m\"\u001b[39m] \u001b[38;5;241m=\u001b[39m \u001b[38;5;28mself\u001b[39m\u001b[38;5;241m.\u001b[39m_unwrap_value(response\u001b[38;5;241m.\u001b[39mget(\u001b[38;5;124m\"\u001b[39m\u001b[38;5;124mvalue\u001b[39m\u001b[38;5;124m\"\u001b[39m, \u001b[38;5;28;01mNone\u001b[39;00m))\n\u001b[0;32m    446\u001b[0m     \u001b[38;5;28;01mreturn\u001b[39;00m response\n",
      "File \u001b[1;32m~\\Anaconda3\\lib\\site-packages\\selenium\\webdriver\\remote\\errorhandler.py:249\u001b[0m, in \u001b[0;36mErrorHandler.check_response\u001b[1;34m(self, response)\u001b[0m\n\u001b[0;32m    247\u001b[0m         alert_text \u001b[38;5;241m=\u001b[39m value[\u001b[38;5;124m\"\u001b[39m\u001b[38;5;124malert\u001b[39m\u001b[38;5;124m\"\u001b[39m]\u001b[38;5;241m.\u001b[39mget(\u001b[38;5;124m\"\u001b[39m\u001b[38;5;124mtext\u001b[39m\u001b[38;5;124m\"\u001b[39m)\n\u001b[0;32m    248\u001b[0m     \u001b[38;5;28;01mraise\u001b[39;00m exception_class(message, screen, stacktrace, alert_text)  \u001b[38;5;66;03m# type: ignore[call-arg]  # mypy is not smart enough here\u001b[39;00m\n\u001b[1;32m--> 249\u001b[0m \u001b[38;5;28;01mraise\u001b[39;00m exception_class(message, screen, stacktrace)\n",
      "\u001b[1;31mElementNotInteractableException\u001b[0m: Message: element not interactable\n  (Session info: chrome=108.0.5359.125)\nStacktrace:\nBacktrace:\n\t(No symbol) [0x0025F243]\n\t(No symbol) [0x001E7FD1]\n\t(No symbol) [0x000DCF10]\n\t(No symbol) [0x0010795E]\n\t(No symbol) [0x001070E5]\n\t(No symbol) [0x0012858C]\n\t(No symbol) [0x00102BFF]\n\t(No symbol) [0x00128804]\n\t(No symbol) [0x0013C9EB]\n\t(No symbol) [0x00128386]\n\t(No symbol) [0x0010163C]\n\t(No symbol) [0x0010269D]\n\tGetHandleVerifier [0x004F9A22+2655074]\n\tGetHandleVerifier [0x004ECA24+2601828]\n\tGetHandleVerifier [0x00308C0A+619850]\n\tGetHandleVerifier [0x00307830+614768]\n\t(No symbol) [0x001F05FC]\n\t(No symbol) [0x001F5968]\n\t(No symbol) [0x001F5A55]\n\t(No symbol) [0x0020051B]\n\tBaseThreadInitThunk [0x756300F9+25]\n\tRtlGetAppContainerNamedObjectPath [0x77227BBE+286]\n\tRtlGetAppContainerNamedObjectPath [0x77227B8E+238]\n\t(No symbol) [0x00000000]\n"
     ]
    }
   ],
   "source": [
    "# # 씨그램 pcode 13363343\n",
    "\n",
    "# if __name__ == \"__main__\" :\n",
    "#     driver = init_driver()\n",
    "# danawa_review(13363343, driver)\n",
    "# print(len(review_data))        "
   ]
  },
  {
   "cell_type": "code",
   "execution_count": 13,
   "id": "17c3c776",
   "metadata": {},
   "outputs": [
    {
     "data": {
      "text/plain": [
       "10000"
      ]
     },
     "execution_count": 13,
     "metadata": {},
     "output_type": "execute_result"
    }
   ],
   "source": [
    "len(review_data)"
   ]
  },
  {
   "cell_type": "code",
   "execution_count": 14,
   "id": "af505db8",
   "metadata": {},
   "outputs": [],
   "source": [
    "data = pd.DataFrame(review_data)\n",
    "data.to_excel('./seagram_danawa_crawling.xlsx',index=False)"
   ]
  },
  {
   "cell_type": "code",
   "execution_count": 19,
   "id": "c927bbf6",
   "metadata": {
    "scrolled": true
   },
   "outputs": [
    {
     "name": "stderr",
     "output_type": "stream",
     "text": [
      "C:\\Users\\97dkr\\AppData\\Local\\Temp\\ipykernel_1428\\2722672625.py:8: DeprecationWarning: executable_path has been deprecated, please pass in a Service object\n",
      "  driver = webdriver.Chrome('diver/chromedriver.exe')\n"
     ]
    },
    {
     "name": "stdout",
     "output_type": "stream",
     "text": [
      "10000\n"
     ]
    }
   ],
   "source": [
    "# 트레비 pcode 3312370\n",
    "\n",
    "review_data = []\n",
    "if __name__ == \"__main__\" :\n",
    "    driver = init_driver()\n",
    "danawa_review(3312370, driver)\n",
    "print(len(review_data))"
   ]
  },
  {
   "cell_type": "code",
   "execution_count": 20,
   "id": "639bc01d",
   "metadata": {},
   "outputs": [
    {
     "data": {
      "text/plain": [
       "10000"
      ]
     },
     "execution_count": 20,
     "metadata": {},
     "output_type": "execute_result"
    }
   ],
   "source": [
    "len(review_data)"
   ]
  },
  {
   "cell_type": "code",
   "execution_count": 21,
   "id": "5bfacf08",
   "metadata": {},
   "outputs": [],
   "source": [
    "trevi_data = pd.DataFrame(review_data)\n",
    "trevi_data.to_excel('./trevi_danawa_crawling.xlsx', index= False)"
   ]
  },
  {
   "cell_type": "code",
   "execution_count": 22,
   "id": "eaaa28d7",
   "metadata": {},
   "outputs": [
    {
     "name": "stderr",
     "output_type": "stream",
     "text": [
      "C:\\Users\\97dkr\\AppData\\Local\\Temp\\ipykernel_1428\\2722672625.py:8: DeprecationWarning: executable_path has been deprecated, please pass in a Service object\n",
      "  driver = webdriver.Chrome('diver/chromedriver.exe')\n"
     ]
    },
    {
     "name": "stdout",
     "output_type": "stream",
     "text": [
      "10000\n"
     ]
    }
   ],
   "source": [
    "# 제로콜라 pcode 10151808\n",
    "\n",
    "review_data = []\n",
    "if __name__ == \"__main__\" :\n",
    "    driver = init_driver()\n",
    "danawa_review(10151808, driver)\n",
    "print(len(review_data))"
   ]
  },
  {
   "cell_type": "code",
   "execution_count": 23,
   "id": "6229cbed",
   "metadata": {},
   "outputs": [],
   "source": [
    "zcola_data = pd.DataFrame(review_data)\n",
    "zcola_data.to_excel('./zcola_danawa_crawling.xlsx', index=False)"
   ]
  },
  {
   "cell_type": "code",
   "execution_count": 24,
   "id": "ee1e2d38",
   "metadata": {
    "scrolled": true
   },
   "outputs": [
    {
     "name": "stderr",
     "output_type": "stream",
     "text": [
      "C:\\Users\\97dkr\\AppData\\Local\\Temp\\ipykernel_1428\\2722672625.py:8: DeprecationWarning: executable_path has been deprecated, please pass in a Service object\n",
      "  driver = webdriver.Chrome('diver/chromedriver.exe')\n"
     ]
    },
    {
     "name": "stdout",
     "output_type": "stream",
     "text": [
      "8626\n"
     ]
    }
   ],
   "source": [
    "# 나랑드사이다 pcode 1982464\n",
    "\n",
    "review_data = []\n",
    "if __name__ == \"__main__\" :\n",
    "    driver = init_driver()\n",
    "danawa_review(1982464, driver)\n",
    "print(len(review_data))"
   ]
  },
  {
   "cell_type": "code",
   "execution_count": 25,
   "id": "add7909a",
   "metadata": {},
   "outputs": [],
   "source": [
    "narangd_data = pd.DataFrame(review_data)\n",
    "narangd_data.to_excel('./narangd_danawa_crawling.xlsx', index=False)"
   ]
  },
  {
   "cell_type": "code",
   "execution_count": 30,
   "id": "22d99e01",
   "metadata": {},
   "outputs": [
    {
     "name": "stderr",
     "output_type": "stream",
     "text": [
      "C:\\Users\\97dkr\\AppData\\Local\\Temp\\ipykernel_1428\\4054297487.py:8: DeprecationWarning: executable_path has been deprecated, please pass in a Service object\n",
      "  driver = webdriver.Chrome('diver/chromedriver.exe')\n"
     ]
    },
    {
     "name": "stdout",
     "output_type": "stream",
     "text": [
      "6827\n"
     ]
    }
   ],
   "source": [
    "# 칠성사이다 제로 pcode 13472201\n",
    "\n",
    "review_data = []\n",
    "if __name__ == \"__main__\" :\n",
    "    driver = init_driver()\n",
    "danawa_review(13472201, driver)\n",
    "print(len(review_data))"
   ]
  },
  {
   "cell_type": "code",
   "execution_count": 32,
   "id": "33cb4f82",
   "metadata": {},
   "outputs": [],
   "source": [
    "cscider_data = pd.DataFrame(review_data)\n",
    "cscider_data.to_excel('./cscider_danawa_crawling.xlsx', index=False)"
   ]
  },
  {
   "cell_type": "code",
   "execution_count": 33,
   "id": "afb40151",
   "metadata": {},
   "outputs": [
    {
     "name": "stderr",
     "output_type": "stream",
     "text": [
      "C:\\Users\\97dkr\\AppData\\Local\\Temp\\ipykernel_1428\\4054297487.py:8: DeprecationWarning: executable_path has been deprecated, please pass in a Service object\n",
      "  driver = webdriver.Chrome('diver/chromedriver.exe')\n"
     ]
    },
    {
     "name": "stdout",
     "output_type": "stream",
     "text": [
      "8116\n"
     ]
    }
   ],
   "source": [
    "# 이마트 노브랜드 스파클링 에이드 pcode 11441436\n",
    "\n",
    "review_data = []\n",
    "if __name__ == \"__main__\" :\n",
    "    driver = init_driver()\n",
    "danawa_review(11441436, driver)\n",
    "print(len(review_data))"
   ]
  },
  {
   "cell_type": "code",
   "execution_count": 34,
   "id": "b3cba667",
   "metadata": {},
   "outputs": [],
   "source": [
    "nobrand_data = pd.DataFrame(review_data)\n",
    "nobrand_data.to_excel('./nobrand_danawa_crawling.xlsx', index=False)"
   ]
  },
  {
   "cell_type": "code",
   "execution_count": 35,
   "id": "740fb637",
   "metadata": {},
   "outputs": [
    {
     "name": "stderr",
     "output_type": "stream",
     "text": [
      "C:\\Users\\97dkr\\AppData\\Local\\Temp\\ipykernel_1428\\4054297487.py:8: DeprecationWarning: executable_path has been deprecated, please pass in a Service object\n",
      "  driver = webdriver.Chrome('diver/chromedriver.exe')\n"
     ]
    },
    {
     "name": "stdout",
     "output_type": "stream",
     "text": [
      "654\n"
     ]
    }
   ],
   "source": [
    "# 원에이엠 스파클링 pcode 13054001\n",
    "\n",
    "review_data = []\n",
    "if __name__ == \"__main__\" :\n",
    "    driver = init_driver()\n",
    "danawa_review(13054001, driver)\n",
    "print(len(review_data))"
   ]
  },
  {
   "cell_type": "code",
   "execution_count": 36,
   "id": "b08cab22",
   "metadata": {},
   "outputs": [],
   "source": [
    "oneam_data = pd.DataFrame(review_data)\n",
    "oneam_data.to_excel('./oneam_danawa_crawling.xlsx', index=False)"
   ]
  },
  {
   "cell_type": "code",
   "execution_count": 40,
   "id": "7c3dabc7",
   "metadata": {},
   "outputs": [
    {
     "name": "stderr",
     "output_type": "stream",
     "text": [
      "C:\\Users\\97dkr\\AppData\\Local\\Temp\\ipykernel_1428\\4054297487.py:8: DeprecationWarning: executable_path has been deprecated, please pass in a Service object\n",
      "  driver = webdriver.Chrome('diver/chromedriver.exe')\n"
     ]
    },
    {
     "name": "stdout",
     "output_type": "stream",
     "text": [
      "10000\n"
     ]
    }
   ],
   "source": [
    "# 펩시콜라 제로 pcode 13536143\n",
    "\n",
    "review_data = []\n",
    "if __name__ == \"__main__\" :\n",
    "    driver = init_driver()\n",
    "danawa_review(13536143, driver)\n",
    "print(len(review_data))"
   ]
  },
  {
   "cell_type": "code",
   "execution_count": 41,
   "id": "cbe3c7e5",
   "metadata": {},
   "outputs": [],
   "source": [
    "pepsi_data = pd.DataFrame(review_data)\n",
    "pepsi_data.to_excel('./pepsi_danawa_crawling.xlsx', index=False)"
   ]
  },
  {
   "cell_type": "code",
   "execution_count": 45,
   "id": "d0e6d9c6",
   "metadata": {},
   "outputs": [
    {
     "name": "stderr",
     "output_type": "stream",
     "text": [
      "C:\\Users\\97dkr\\AppData\\Local\\Temp\\ipykernel_1428\\4054297487.py:8: DeprecationWarning: executable_path has been deprecated, please pass in a Service object\n",
      "  driver = webdriver.Chrome('diver/chromedriver.exe')\n"
     ]
    },
    {
     "name": "stdout",
     "output_type": "stream",
     "text": [
      "3590\n"
     ]
    }
   ],
   "source": [
    "# 부르르 제로사이다 pcode 13653416\n",
    "\n",
    "review_data = []\n",
    "if __name__ == \"__main__\" :\n",
    "    driver = init_driver()\n",
    "danawa_review(13653416, driver)\n",
    "print(len(review_data))"
   ]
  },
  {
   "cell_type": "code",
   "execution_count": 46,
   "id": "01906c36",
   "metadata": {},
   "outputs": [],
   "source": [
    "brrcider_data = pd.DataFrame(review_data)\n",
    "brrcider_data.to_excel('./brrcider_danawa_crawling.xlsx', index=False)"
   ]
  },
  {
   "cell_type": "code",
   "execution_count": 3,
   "id": "13a34a37",
   "metadata": {},
   "outputs": [
    {
     "name": "stderr",
     "output_type": "stream",
     "text": [
      "C:\\Users\\97dkr\\AppData\\Local\\Temp\\ipykernel_12344\\4054297487.py:8: DeprecationWarning: executable_path has been deprecated, please pass in a Service object\n",
      "  driver = webdriver.Chrome('diver/chromedriver.exe')\n"
     ]
    },
    {
     "name": "stdout",
     "output_type": "stream",
     "text": [
      "5700\n"
     ]
    }
   ],
   "source": [
    "# 스프라이트 제로 pcode 13566611\n",
    "\n",
    "review_data = []\n",
    "if __name__ == \"__main__\" :\n",
    "    driver = init_driver()\n",
    "danawa_review(13566611, driver)\n",
    "print(len(review_data))"
   ]
  },
  {
   "cell_type": "code",
   "execution_count": 4,
   "id": "d45b3147",
   "metadata": {},
   "outputs": [],
   "source": [
    "spritez_data = pd.DataFrame(review_data)\n",
    "spritez_data.to_excel('./spritez_danawa_crawling.xlsx', index=False)"
   ]
  },
  {
   "cell_type": "code",
   "execution_count": 5,
   "id": "7fb49995",
   "metadata": {},
   "outputs": [
    {
     "name": "stderr",
     "output_type": "stream",
     "text": [
      "C:\\Users\\97dkr\\AppData\\Local\\Temp\\ipykernel_12344\\4054297487.py:8: DeprecationWarning: executable_path has been deprecated, please pass in a Service object\n",
      "  driver = webdriver.Chrome('diver/chromedriver.exe')\n"
     ]
    },
    {
     "name": "stdout",
     "output_type": "stream",
     "text": [
      "2520\n"
     ]
    }
   ],
   "source": [
    "# 웰치스 제로 pcode 16889648\n",
    "\n",
    "review_data = []\n",
    "if __name__ == \"__main__\" :\n",
    "    driver = init_driver()\n",
    "danawa_review(16889648, driver)\n",
    "print(len(review_data))"
   ]
  },
  {
   "cell_type": "code",
   "execution_count": 6,
   "id": "b95fe78f",
   "metadata": {},
   "outputs": [],
   "source": [
    "welchsz_data = pd.DataFrame(review_data)\n",
    "welchsz_data.to_excel('./welchsz_danawa_crawling.xlsx', index=False)"
   ]
  },
  {
   "cell_type": "code",
   "execution_count": 7,
   "id": "524ab57e",
   "metadata": {},
   "outputs": [
    {
     "name": "stderr",
     "output_type": "stream",
     "text": [
      "C:\\Users\\97dkr\\AppData\\Local\\Temp\\ipykernel_12344\\4054297487.py:8: DeprecationWarning: executable_path has been deprecated, please pass in a Service object\n",
      "  driver = webdriver.Chrome('diver/chromedriver.exe')\n"
     ]
    },
    {
     "name": "stdout",
     "output_type": "stream",
     "text": [
      "210\n"
     ]
    }
   ],
   "source": [
    "# 부르르 제로 콜라 pcode 13542677\n",
    "\n",
    "review_data = []\n",
    "if __name__ == \"__main__\" :\n",
    "    driver = init_driver()\n",
    "danawa_review(13542677, driver)\n",
    "print(len(review_data))"
   ]
  },
  {
   "cell_type": "code",
   "execution_count": 8,
   "id": "08481899",
   "metadata": {},
   "outputs": [],
   "source": [
    "brrcola_data = pd.DataFrame(review_data)\n",
    "brrcola_data.to_excel('./brrcola_danawa_crawling.xlsx', index=False)"
   ]
  },
  {
   "cell_type": "code",
   "execution_count": 3,
   "id": "bc599a6a",
   "metadata": {},
   "outputs": [
    {
     "name": "stderr",
     "output_type": "stream",
     "text": [
      "C:\\Users\\97dkr\\AppData\\Local\\Temp\\ipykernel_7888\\4054297487.py:8: DeprecationWarning: executable_path has been deprecated, please pass in a Service object\n",
      "  driver = webdriver.Chrome('diver/chromedriver.exe')\n"
     ]
    },
    {
     "name": "stdout",
     "output_type": "stream",
     "text": [
      "5055\n"
     ]
    }
   ],
   "source": [
    "# 부르르 제로 콜라 pcode 13653680 (2)\n",
    "\n",
    "review_data = []\n",
    "if __name__ == \"__main__\" :\n",
    "    driver = init_driver()\n",
    "danawa_review(13653680, driver)\n",
    "print(len(review_data))"
   ]
  },
  {
   "cell_type": "code",
   "execution_count": 4,
   "id": "95c849ed",
   "metadata": {},
   "outputs": [],
   "source": [
    "brrcola2_data = pd.DataFrame(review_data)\n",
    "brrcola2_data.to_excel('./brrcola2_danawa_crawling.xlsx', index=False)"
   ]
  },
  {
   "cell_type": "code",
   "execution_count": 13,
   "id": "04328567",
   "metadata": {
    "scrolled": true
   },
   "outputs": [
    {
     "name": "stderr",
     "output_type": "stream",
     "text": [
      "C:\\Users\\97dkr\\AppData\\Local\\Temp\\ipykernel_7888\\4054297487.py:8: DeprecationWarning: executable_path has been deprecated, please pass in a Service object\n",
      "  driver = webdriver.Chrome('diver/chromedriver.exe')\n"
     ]
    },
    {
     "name": "stdout",
     "output_type": "stream",
     "text": [
      "10000\n"
     ]
    }
   ],
   "source": [
    "# 동아오츠가 라인바싸 탄산수 pcode 11536556\n",
    "\n",
    "review_data = []\n",
    "if __name__ == \"__main__\" :\n",
    "    driver = init_driver()\n",
    "danawa_review(11536556, driver)\n",
    "print(len(review_data))"
   ]
  },
  {
   "cell_type": "code",
   "execution_count": 14,
   "id": "39a36827",
   "metadata": {},
   "outputs": [],
   "source": [
    "rein_wasser_data = pd.DataFrame(review_data)\n",
    "rein_wasser_data.to_excel('./reinwasser_danawa_crawling.xlsx', index=False)"
   ]
  },
  {
   "cell_type": "code",
   "execution_count": 10,
   "id": "458e60fa",
   "metadata": {},
   "outputs": [
    {
     "name": "stderr",
     "output_type": "stream",
     "text": [
      "C:\\Users\\97dkr\\AppData\\Local\\Temp\\ipykernel_7888\\4054297487.py:8: DeprecationWarning: executable_path has been deprecated, please pass in a Service object\n",
      "  driver = webdriver.Chrome('diver/chromedriver.exe')\n"
     ]
    },
    {
     "name": "stdout",
     "output_type": "stream",
     "text": [
      "10000\n"
     ]
    }
   ],
   "source": [
    "# 동원fb 미네마인 스파클링 pcode 4306922\n",
    "\n",
    "review_data = []\n",
    "if __name__ == \"__main__\" :\n",
    "    driver = init_driver()\n",
    "danawa_review(4306922, driver)\n",
    "print(len(review_data))"
   ]
  },
  {
   "cell_type": "code",
   "execution_count": 11,
   "id": "bb0a06bb",
   "metadata": {},
   "outputs": [],
   "source": [
    "mine_mine_data = pd.DataFrame(review_data)\n",
    "mine_mine_data.to_excel('./minemine_danawa_crawling.xlsx', index= False)"
   ]
  }
 ],
 "metadata": {
  "kernelspec": {
   "display_name": "Python 3 (ipykernel)",
   "language": "python",
   "name": "python3"
  },
  "language_info": {
   "codemirror_mode": {
    "name": "ipython",
    "version": 3
   },
   "file_extension": ".py",
   "mimetype": "text/x-python",
   "name": "python",
   "nbconvert_exporter": "python",
   "pygments_lexer": "ipython3",
   "version": "3.9.13"
  }
 },
 "nbformat": 4,
 "nbformat_minor": 5
}
