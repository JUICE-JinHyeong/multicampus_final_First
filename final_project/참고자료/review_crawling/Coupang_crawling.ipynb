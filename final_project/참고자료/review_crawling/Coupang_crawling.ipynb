{
 "cells": [
  {
   "cell_type": "code",
   "execution_count": 54,
   "id": "cda325cf",
   "metadata": {
    "scrolled": false
   },
   "outputs": [
    {
     "name": "stderr",
     "output_type": "stream",
     "text": [
      "C:\\Users\\PiGiraffe0\\AppData\\Local\\Temp\\ipykernel_468\\2201847069.py:18: DeprecationWarning: executable_path has been deprecated, please pass in a Service object\n",
      "  driver = webdriver.Chrome('diver/chromedriver.exe', chrome_options=options)\n",
      "C:\\Users\\PiGiraffe0\\AppData\\Local\\Temp\\ipykernel_468\\2201847069.py:18: DeprecationWarning: use options instead of chrome_options\n",
      "  driver = webdriver.Chrome('diver/chromedriver.exe', chrome_options=options)\n"
     ]
    }
   ],
   "source": [
    "from selenium import webdriver\n",
    "from selenium.webdriver.chrome.options import Options\n",
    "import subprocess\n",
    "import shutil\n",
    "from selenium.webdriver.common.by import By\n",
    "import pandas as pd\n",
    "import time\n",
    "\n",
    "from selenium.webdriver.support.ui import WebDriverWait\n",
    "from selenium.webdriver.support import expected_conditions as EC\n",
    "# 자기 google.exe 저장 주소 입력\n",
    "# C:/Program Files (x86)/Google/Chrome/Application/chrome.exe 이 부분만 바꾸면 된다.\n",
    "subprocess.Popen(r'C:/Program Files (x86)/Google/Chrome/Application/chrome.exe --remote-debugging-port=9222 --user-data-dir=\"C:\\chrometemp\"')\n",
    "\n",
    "options = webdriver.ChromeOptions()\n",
    "options.add_experimental_option(\"debuggerAddress\", \"127.0.0.1:9222\")\n",
    "\n",
    "driver = webdriver.Chrome('diver/chromedriver.exe', chrome_options=options)\n",
    "\n",
    "driver.implicitly_wait(3)\n",
    "\n",
    "# 링티 제로\n",
    "url = 'https://www.coupang.com/vp/products/5688038203?itemId=9412000674&isAddedCart='\n",
    "# 815\n",
    "url = 'https://www.coupang.com/vp/products/5109971962?itemId=6971621377&isAddedCart='\n",
    "# 부르르 제로 콜라\n",
    "url = 'https://www.coupang.com/vp/products/2358334857?itemId=4093099810&vendorItemId=72077082112&isAddedCart='\n",
    "# test data\n",
    "url = 'https://www.coupang.com/vp/products/6778883011?vendorItemId=83142028803&sourceType=HOME_GW_PROMOTION&searchId=feed-9d07ae1c003e479c84b9382e8fec5ae7-gw_promotion&isAddedCart='\n",
    "driver.get(url)"
   ]
  },
  {
   "cell_type": "markdown",
   "id": "a95bc48e",
   "metadata": {},
   "source": [
    "- By.ID\t태그의 id값으로 추출\n",
    "- By.NAME\t태그의 name값으로 추출\n",
    "- By.XPATH\t태그의 경로로 추출\n",
    "- By.LINK_TEXT\t링크 텍스트값으로 추출\n",
    "- By.PARTIAL_LINK_TEXT\t링크 텍스트의 자식 텍스트 값을 추출\n",
    "- By.TAG_NAME\t태그 이름으로 추출\n",
    "- By.CLASS_NAME\t태그의 클래스명으로 추출\n",
    "- By.CSS_SELECTOR\tcss선택자로 추출"
   ]
  },
  {
   "cell_type": "markdown",
   "id": "f257172f",
   "metadata": {},
   "source": [
    "## 쿠팡 크롤링 주의점\n",
    "- 가끔 주소에 js라는 값이 들어있는데 COPY한 주소의 js 앞 부분이 ' '(띄어쓰기)가 되어있다.\n",
    "- 이 때 ' ' 대신 '.'을 넣어주자.\n",
    "    - ex) 'sdp-review__article__list__review__content js_reviewArticleContent'\n",
    "        - 'sdp-review__article__list__review__content.js_reviewArticleContent'"
   ]
  },
  {
   "cell_type": "code",
   "execution_count": 18,
   "id": "39686a20",
   "metadata": {},
   "outputs": [],
   "source": [
    "# 코딩 시작"
   ]
  },
  {
   "cell_type": "code",
   "execution_count": 57,
   "id": "66d90af1",
   "metadata": {
    "scrolled": true
   },
   "outputs": [],
   "source": [
    "# 리뷰 크롤링 함수 생성\n",
    "\n",
    "\n",
    "def review_crawling_data(lst : list) :\n",
    "    # 한 페이지에 나타나는 리뷰 개수 만큼 반복\n",
    "    review_length = len(driver.find_elements(By.CLASS_NAME , \"sdp-review__article__list.js_reviewArticleReviewList\"))+1\n",
    "    for rev in range(1, review_length) :\n",
    "        try :\n",
    "            # 리뷰는 본문을 적는 메인 리뷰와 짧은 내용만 적는 서브 리뷰로 나뉜다.\n",
    "            # 리뷰는 두 리뷰 모두 존재하는 경우 , 메인 리뷰만 존재하는 경우, 서브 리뷰만 존재하는 경우로 나뉜다.\n",
    "            # 이 때, 둘 다 존재할 경우 예외처리는 통과된다. 그러나 둘 중 하나만 존재할 경우 예외를 발생시킨다.\n",
    "            data_main = driver.find_element(By.XPATH \n",
    "                                      , f'//*[@id=\"btfTab\"]/ul[2]/li[3]/div/div[6]/section[4]/article[{rev}]/div[3]').text\n",
    "            data_sub = driver.find_element(By.XPATH \n",
    "                                      , f'//*[@id=\"btfTab\"]/ul[2]/li[3]/div/div[6]/section[4]/article[{rev}]/div[4]/div').text\n",
    "            # 예외 발생\n",
    "            # 메인/서브 리뷰가 하나만 존재할 경우 data_sub에 맛 만족도 평가가 들어가진다.\n",
    "            # 이 때 data_sub를 검사하여 예외를 발생시킨다.\n",
    "            if '맛 만족도' in data_sub :\n",
    "                raise Exception\n",
    "            \n",
    "        except Exception as e:\n",
    "            # 리뷰 내용이 존재하지 않을 경우 data_main값에 신고하기 가 들어가진다.\n",
    "            # 이 때 신고하기가 아닌 경우만 데이터를 가져온다.\n",
    "            if data_main != '신고하기' :\n",
    "                lst.append(data_main)\n",
    "                # 리뷰 크롤링 완료 확인\n",
    "                print(f'review_0{rev}\\t' , end = '')\n",
    "            else :\n",
    "                print('None review data\\t' , end = '')\n",
    "                pass\n",
    "            # print('예외발생')\n",
    "        else :\n",
    "            # try 통과시 메인/서브 리뷰 모두 저장\n",
    "            lst.append(data_main + data_sub)\n",
    "            # 리뷰 크롤링 완료 확인\n",
    "            print(f'review_0{rev}\\t' , end = '')\n"
   ]
  },
  {
   "cell_type": "code",
   "execution_count": 35,
   "id": "2ab7dfdd",
   "metadata": {},
   "outputs": [],
   "source": [
    "# 리뷰 개수 확인 함수\n",
    "\n",
    "import re\n",
    "def review_total() :\n",
    "    text = driver.find_element(By.XPATH , '//*[@id=\"btfTab\"]/ul[1]/li[2]/span').text\n",
    "    # [\\W] = [^0-9a-zA-Z] : 0~9 a~z A~Z 문자를 가져옵니다.\n",
    "    return int(re.sub('[\\W]' , '' , text))"
   ]
  },
  {
   "cell_type": "code",
   "execution_count": 68,
   "id": "61b3bcb0",
   "metadata": {},
   "outputs": [],
   "source": [
    "# 쿠팡 리뷰 크롤링 함수 생성\n",
    "# wait_time : 대기 시간\n",
    "\n",
    "def crawling_page_load_and_input_review_data(object_name : str) :\n",
    "    \n",
    "    driver.find_element(By.XPATH , '//*[@id=\"btfTab\"]/ul[1]/li[2]').click()\n",
    "    \n",
    "    globals()['result'] = []\n",
    "    rev_tl = review_total()\n",
    "    if rev_tl >= 1500 :\n",
    "        count = 30\n",
    "    elif rev_tl <= 50 :\n",
    "        count = 1\n",
    "    else :\n",
    "        count = int(rev_tl / 5 / 10)\n",
    "    print(count)\n",
    "        \n",
    "    wait_time = 3\n",
    "    for lop in range(count) :\n",
    "        # 로딩 완료 확인\n",
    "        WebDriverWait(driver, wait_time).until(\n",
    "                        EC.presence_of_element_located(\n",
    "                            (By.XPATH,'//*[@id=\"container\"]')\n",
    "                )\n",
    "            )\n",
    "        # 리뷰 페이지 수 만큼 루프를 돌리기 위해 리뷰 페이지 수의 길이를 잰다.\n",
    "        # 리뷰 페이지 수는 '오른쪽 화살표' 버튼 클릭시 바뀌게된다.\n",
    "        page_btn_length = len(driver.find_elements(By.XPATH , '//*[@id=\"btfTab\"]/ul[2]/li[3]/div/div[6]/section[4]/div[3]/button'))\n",
    "        for page in range(2, page_btn_length) :\n",
    "            WebDriverWait(driver, wait_time).until(\n",
    "                        EC.visibility_of_all_elements_located(\n",
    "                            (By.CLASS_NAME,'sdp-review__article__list.js_reviewArticleReviewList')\n",
    "                )\n",
    "            )\n",
    "            # 페이지를 출력한다.\n",
    "            # 마지막 페이지에는 리뷰 페이지 번호란이 존재하지 않는다.\n",
    "            # 위 사실을 이용해서 마지막 페이지를 확인한다.\n",
    "            # 해당 주소에 리스트 값이 존재할 경우 마지막 페이지가 아니다.\n",
    "            # 해당 주소에 리스트 값이 존재하지 않을 경우 마지막 페이지가 된다.\n",
    "            if driver.find_elements(By.CLASS_NAME , \"sdp-review__article__page.js_reviewArticlePagingContainer\") != [] :\n",
    "                page_count = driver.find_elements(By.CLASS_NAME , \"sdp-review__article__page.js_reviewArticlePagingContainer > button\")[page-1].text\n",
    "                print(f'page - {page_count}')\n",
    "                # 리뷰 크롤링\n",
    "                review_crawling_data(result)\n",
    "                print()\n",
    "                time.sleep(1)\n",
    "                # 페이지 이동 버튼\n",
    "                driver.find_elements(By.CLASS_NAME , \"sdp-review__article__page.js_reviewArticlePagingContainer > button\")[page].click()\n",
    "                time.sleep(1)\n",
    "\n",
    "        print('last page')\n",
    "        print('크롤링 종료')\n",
    "        sample_ringteazero_review = pd.DataFrame({'review' : result})\n",
    "        sample_ringteazero_review.to_excel(f'crawling_test/{object_name}_coupang_crawling.xlsx' , index = False)\n",
    "\n"
   ]
  },
  {
   "cell_type": "code",
   "execution_count": 64,
   "id": "05ff8946",
   "metadata": {},
   "outputs": [
    {
     "data": {
      "text/plain": [
       "5"
      ]
     },
     "execution_count": 64,
     "metadata": {},
     "output_type": "execute_result"
    }
   ],
   "source": [
    "len(driver.find_elements(By.XPATH , '//*[@id=\"btfTab\"]/ul[2]/li[3]/div/div[6]/section[4]/div[3]/button'))"
   ]
  },
  {
   "cell_type": "code",
   "execution_count": 66,
   "id": "1add46be",
   "metadata": {},
   "outputs": [
    {
     "data": {
      "text/plain": [
       "[<selenium.webdriver.remote.webelement.WebElement (session=\"f3c8b6a3a598c941da84db42455ea61e\", element=\"6287825c-2c02-4a36-bf2f-96dfd844e9bc\")>]"
      ]
     },
     "execution_count": 66,
     "metadata": {},
     "output_type": "execute_result"
    }
   ],
   "source": [
    "driver.find_elements(By.CLASS_NAME , \"sdp-review__article__page.js_reviewArticlePagingContainer\")"
   ]
  },
  {
   "cell_type": "code",
   "execution_count": 44,
   "id": "f9199d0f",
   "metadata": {},
   "outputs": [
    {
     "data": {
      "text/plain": [
       "22"
      ]
     },
     "execution_count": 44,
     "metadata": {},
     "output_type": "execute_result"
    }
   ],
   "source": [
    "review_total()"
   ]
  },
  {
   "cell_type": "code",
   "execution_count": 52,
   "id": "fd78abfd",
   "metadata": {},
   "outputs": [
    {
     "data": {
      "text/plain": [
       "[<selenium.webdriver.remote.webelement.WebElement (session=\"238f583c7602db758a842e355c3c9ee5\", element=\"6b88e8eb-3cb0-4e54-9bb4-b5c285e733a4\")>]"
      ]
     },
     "execution_count": 52,
     "metadata": {},
     "output_type": "execute_result"
    }
   ],
   "source": [
    "driver.find_elements(By.CLASS_NAME , \"sdp-review__article__page.js_reviewArticlePagingContainer\")"
   ]
  },
  {
   "cell_type": "code",
   "execution_count": 70,
   "id": "1c9aafd9",
   "metadata": {
    "scrolled": true
   },
   "outputs": [
    {
     "name": "stdout",
     "output_type": "stream",
     "text": [
      "1\n",
      "page - 1\n",
      "review_01\treview_02\treview_03\treview_04\treview_05\t\n",
      "page - 2\n",
      "review_01\treview_02\tNone review data\treview_04\tNone review data\t\n",
      "page - 3\n",
      "None review data\tNone review data\tNone review data\tNone review data\tNone review data\t\n",
      "last page\n",
      "크롤링 종료\n"
     ]
    }
   ],
   "source": [
    "# 함수 실행\n",
    "# 함수에는 상품 영문 이름 입력\n",
    "\n",
    "crawling_page_load_and_input_review_data('test')\n",
    "\n",
    "# crawling_page_load_and_input_review_data('ringteazero')\n",
    "# crawling_page_load_and_input_review_data('815_cola')\n",
    "# crawling_page_load_and_input_review_data('bururu_zero_cola')\n"
   ]
  },
  {
   "cell_type": "code",
   "execution_count": 31,
   "id": "3f3f8103",
   "metadata": {},
   "outputs": [
    {
     "data": {
      "text/plain": [
       "1500"
      ]
     },
     "execution_count": 31,
     "metadata": {},
     "output_type": "execute_result"
    }
   ],
   "source": [
    "# 리뷰 개수 확인\n",
    "len(result)"
   ]
  }
 ],
 "metadata": {
  "kernelspec": {
   "display_name": "Python 3 (ipykernel)",
   "language": "python",
   "name": "python3"
  },
  "language_info": {
   "codemirror_mode": {
    "name": "ipython",
    "version": 3
   },
   "file_extension": ".py",
   "mimetype": "text/x-python",
   "name": "python",
   "nbconvert_exporter": "python",
   "pygments_lexer": "ipython3",
   "version": "3.9.13"
  }
 },
 "nbformat": 4,
 "nbformat_minor": 5
}
